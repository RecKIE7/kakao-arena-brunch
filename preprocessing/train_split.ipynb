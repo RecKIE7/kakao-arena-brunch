{
 "cells": [
  {
   "cell_type": "code",
   "execution_count": 18,
   "metadata": {},
   "outputs": [],
   "source": [
    "import os, sys\n",
    "sys.path.append('..')\n",
    "sys.path.append('../../')\n",
    "\n",
    "import glob\n",
    "import pandas as pd\n",
    "from tqdm import tqdm\n",
    "import numpy as np\n",
    "from sklearn.model_selection import train_test_split\n",
    "from scipy.sparse import csr_matrix\n",
    "from pandas.api.types import CategoricalDtype\n",
    "import json\n",
    "\n",
    "import config as conf"
   ]
  },
  {
   "cell_type": "code",
   "execution_count": 19,
   "metadata": {},
   "outputs": [],
   "source": [
    "data_path = '../tmp/'"
   ]
  },
  {
   "cell_type": "code",
   "execution_count": 20,
   "metadata": {},
   "outputs": [],
   "source": [
    "user_read_data = data_path + 'all'"
   ]
  },
  {
   "cell_type": "code",
   "execution_count": 21,
   "metadata": {},
   "outputs": [],
   "source": [
    "urd = pd.read_csv(user_read_data)"
   ]
  },
  {
   "cell_type": "code",
   "execution_count": 22,
   "metadata": {},
   "outputs": [
    {
     "data": {
      "text/plain": [
       "306208"
      ]
     },
     "execution_count": 22,
     "metadata": {},
     "output_type": "execute_result"
    }
   ],
   "source": [
    "len(urd)"
   ]
  },
  {
   "cell_type": "code",
   "execution_count": 23,
   "metadata": {},
   "outputs": [],
   "source": [
    "user_lst = []\n",
    "read_lst = []"
   ]
  },
  {
   "cell_type": "code",
   "execution_count": 24,
   "metadata": {},
   "outputs": [
    {
     "name": "stderr",
     "output_type": "stream",
     "text": [
      "306209it [00:07, 38471.87it/s]\n"
     ]
    }
   ],
   "source": [
    "with open(user_read_data, 'r') as file :\n",
    "    for line in tqdm(file, mininterval = 1) :\n",
    "        user_read = line.split(\" \")\n",
    "        user_id = user_read[0]\n",
    "        read_set = set()\n",
    "        for article in user_read[1:]:\n",
    "            if article[0] == \"#\" :\n",
    "                continue\n",
    "            read_set.add(article)\n",
    "    \n",
    "        if len(read_set) >= 1 :\n",
    "            user_lst.append(user_id)\n",
    "            read_lst.append(' '.join(list(read_set)))        "
   ]
  },
  {
   "cell_type": "code",
   "execution_count": 25,
   "metadata": {},
   "outputs": [
    {
     "data": {
      "text/plain": [
       "'#bfc17aa1eed7f6e1993aaeac8333bdb9'"
      ]
     },
     "execution_count": 25,
     "metadata": {},
     "output_type": "execute_result"
    }
   ],
   "source": [
    "user_lst[0]"
   ]
  },
  {
   "cell_type": "code",
   "execution_count": 26,
   "metadata": {},
   "outputs": [
    {
     "data": {
      "text/plain": [
       "'@bestkkim_45 @yooncohg_66\\n @wikitree_675 @mongul-mongul_76 @windydog_189 @eunga_39 @leejarak_209 @toosim_172 @nplusu_49 @younghurckc_966 @yooncohg_66 @windydog_193 @namulab_20 @trank_265 @eundang_472 @bookguru_29'"
      ]
     },
     "execution_count": 26,
     "metadata": {},
     "output_type": "execute_result"
    }
   ],
   "source": [
    "read_lst[0]"
   ]
  },
  {
   "cell_type": "code",
   "execution_count": 27,
   "metadata": {},
   "outputs": [
    {
     "name": "stdout",
     "output_type": "stream",
     "text": [
      "305862\n"
     ]
    }
   ],
   "source": [
    "print(len(read_lst))"
   ]
  },
  {
   "cell_type": "code",
   "execution_count": 28,
   "metadata": {},
   "outputs": [],
   "source": [
    "df_temp = pd.DataFrame({'user_id' : user_lst,\n",
    "                        'article_id' : read_lst})"
   ]
  },
  {
   "cell_type": "code",
   "execution_count": 29,
   "metadata": {},
   "outputs": [],
   "source": [
    "import re\n",
    "def clean_text(sent):\n",
    "    sent_clean = re.sub(\"[\\n]\", \" \", sent)\n",
    "    return sent_clean"
   ]
  },
  {
   "cell_type": "code",
   "execution_count": 30,
   "metadata": {},
   "outputs": [],
   "source": [
    "df_temp['article_id'] = df_temp['article_id'].apply(lambda x: clean_text(x))"
   ]
  },
  {
   "cell_type": "code",
   "execution_count": 36,
   "metadata": {},
   "outputs": [
    {
     "data": {
      "text/html": [
       "<div>\n",
       "<style scoped>\n",
       "    .dataframe tbody tr th:only-of-type {\n",
       "        vertical-align: middle;\n",
       "    }\n",
       "\n",
       "    .dataframe tbody tr th {\n",
       "        vertical-align: top;\n",
       "    }\n",
       "\n",
       "    .dataframe thead th {\n",
       "        text-align: right;\n",
       "    }\n",
       "</style>\n",
       "<table border=\"1\" class=\"dataframe\">\n",
       "  <thead>\n",
       "    <tr style=\"text-align: right;\">\n",
       "      <th></th>\n",
       "      <th>user_id</th>\n",
       "      <th>article_id</th>\n",
       "    </tr>\n",
       "  </thead>\n",
       "  <tbody>\n",
       "    <tr>\n",
       "      <th>0</th>\n",
       "      <td>#bfc17aa1eed7f6e1993aaeac8333bdb9</td>\n",
       "      <td>@bestkkim_45 @yooncohg_66  @wikitree_675 @mong...</td>\n",
       "    </tr>\n",
       "    <tr>\n",
       "      <th>1</th>\n",
       "      <td>#1d68c0320dad496c3f05dd862e543a8b</td>\n",
       "      <td>@noey_130 @tenbody_1693 @hygo92_91 @lcjaewon_1...</td>\n",
       "    </tr>\n",
       "    <tr>\n",
       "      <th>2</th>\n",
       "      <td>#7411fe2ebde59b981f7b9e22c153b3bb</td>\n",
       "      <td>@partnerswkakao_43 @dimension-value_35 @soonky...</td>\n",
       "    </tr>\n",
       "    <tr>\n",
       "      <th>3</th>\n",
       "      <td>#45104ed2c8ccb8905753617109f3776e</td>\n",
       "      <td>@readingboy_76 @or-dinary_42 @bryceandjuli_130...</td>\n",
       "    </tr>\n",
       "    <tr>\n",
       "      <th>4</th>\n",
       "      <td>#b4990f775b46463f33a9a60369149511</td>\n",
       "      <td>@fernweh19xx_35 @yangpayangpa_583 @jonnaalive_...</td>\n",
       "    </tr>\n",
       "    <tr>\n",
       "      <th>...</th>\n",
       "      <td>...</td>\n",
       "      <td>...</td>\n",
       "    </tr>\n",
       "    <tr>\n",
       "      <th>305857</th>\n",
       "      <td>#d92cf966fd4901ef851a047d72fa35d3</td>\n",
       "      <td>@brunch_151  @brunch_151</td>\n",
       "    </tr>\n",
       "    <tr>\n",
       "      <th>305858</th>\n",
       "      <td>#6ec81724546b04ff280bf26c603b3096</td>\n",
       "      <td>@goodrain_2 @goodrain_72 @goodrain_70 @goodrai...</td>\n",
       "    </tr>\n",
       "    <tr>\n",
       "      <th>305859</th>\n",
       "      <td>#a79bfd93e8e824e4b7f7810b27c9000e</td>\n",
       "      <td>@intel007_91</td>\n",
       "    </tr>\n",
       "    <tr>\n",
       "      <th>305860</th>\n",
       "      <td>#6bf76601814bda659db04800a150857f</td>\n",
       "      <td>@hss730_40 @hss730_45 @hss730_50 @hss730_43 @h...</td>\n",
       "    </tr>\n",
       "    <tr>\n",
       "      <th>305861</th>\n",
       "      <td>#1a583e972d0bf9d2aafabd5721e1fe27</td>\n",
       "      <td>@wonderlandmag_11  @wootaiyoung_85 @wonderland...</td>\n",
       "    </tr>\n",
       "  </tbody>\n",
       "</table>\n",
       "<p>305862 rows × 2 columns</p>\n",
       "</div>"
      ],
      "text/plain": [
       "                                  user_id  \\\n",
       "0       #bfc17aa1eed7f6e1993aaeac8333bdb9   \n",
       "1       #1d68c0320dad496c3f05dd862e543a8b   \n",
       "2       #7411fe2ebde59b981f7b9e22c153b3bb   \n",
       "3       #45104ed2c8ccb8905753617109f3776e   \n",
       "4       #b4990f775b46463f33a9a60369149511   \n",
       "...                                   ...   \n",
       "305857  #d92cf966fd4901ef851a047d72fa35d3   \n",
       "305858  #6ec81724546b04ff280bf26c603b3096   \n",
       "305859  #a79bfd93e8e824e4b7f7810b27c9000e   \n",
       "305860  #6bf76601814bda659db04800a150857f   \n",
       "305861  #1a583e972d0bf9d2aafabd5721e1fe27   \n",
       "\n",
       "                                               article_id  \n",
       "0       @bestkkim_45 @yooncohg_66  @wikitree_675 @mong...  \n",
       "1       @noey_130 @tenbody_1693 @hygo92_91 @lcjaewon_1...  \n",
       "2       @partnerswkakao_43 @dimension-value_35 @soonky...  \n",
       "3       @readingboy_76 @or-dinary_42 @bryceandjuli_130...  \n",
       "4       @fernweh19xx_35 @yangpayangpa_583 @jonnaalive_...  \n",
       "...                                                   ...  \n",
       "305857                           @brunch_151  @brunch_151  \n",
       "305858  @goodrain_2 @goodrain_72 @goodrain_70 @goodrai...  \n",
       "305859                                      @intel007_91   \n",
       "305860  @hss730_40 @hss730_45 @hss730_50 @hss730_43 @h...  \n",
       "305861  @wonderlandmag_11  @wootaiyoung_85 @wonderland...  \n",
       "\n",
       "[305862 rows x 2 columns]"
      ]
     },
     "execution_count": 36,
     "metadata": {},
     "output_type": "execute_result"
    }
   ],
   "source": [
    "df_temp"
   ]
  },
  {
   "cell_type": "code",
   "execution_count": 32,
   "metadata": {},
   "outputs": [
    {
     "data": {
      "text/plain": [
       "305862"
      ]
     },
     "execution_count": 32,
     "metadata": {},
     "output_type": "execute_result"
    }
   ],
   "source": [
    "len(df_temp['user_id'].unique())"
   ]
  },
  {
   "cell_type": "code",
   "execution_count": 33,
   "metadata": {},
   "outputs": [
    {
     "data": {
      "text/plain": [
       "276955"
      ]
     },
     "execution_count": 33,
     "metadata": {},
     "output_type": "execute_result"
    }
   ],
   "source": [
    "len(list(set(read_lst)))"
   ]
  },
  {
   "cell_type": "code",
   "execution_count": 37,
   "metadata": {},
   "outputs": [],
   "source": [
    "df_temp.to_csv(conf.data + 'all.csv', index=False)"
   ]
  },
  {
   "cell_type": "code",
   "execution_count": null,
   "metadata": {},
   "outputs": [],
   "source": []
  }
 ],
 "metadata": {
  "kernelspec": {
   "display_name": "tf2",
   "language": "python",
   "name": "tf2"
  },
  "language_info": {
   "codemirror_mode": {
    "name": "ipython",
    "version": 3
   },
   "file_extension": ".py",
   "mimetype": "text/x-python",
   "name": "python",
   "nbconvert_exporter": "python",
   "pygments_lexer": "ipython3",
   "version": "3.6.12"
  }
 },
 "nbformat": 4,
 "nbformat_minor": 4
}
