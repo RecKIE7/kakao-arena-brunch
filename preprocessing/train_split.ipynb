{
 "cells": [
  {
   "cell_type": "code",
   "execution_count": 14,
   "metadata": {},
   "outputs": [],
   "source": [
    "import os, sys\n",
    "sys.path.append('..')\n",
    "sys.path.append('../../')\n",
    "\n",
    "import glob\n",
    "import pandas as pd\n",
    "from tqdm import tqdm\n",
    "import numpy as np\n",
    "from sklearn.model_selection import train_test_split\n",
    "from scipy.sparse import csr_matrix\n",
    "from pandas.api.types import CategoricalDtype\n",
    "import json\n",
    "\n",
    "import config as conf"
   ]
  },
  {
   "cell_type": "code",
   "execution_count": 5,
   "metadata": {},
   "outputs": [],
   "source": [
    "data_path = '../tmp/'"
   ]
  },
  {
   "cell_type": "code",
   "execution_count": 6,
   "metadata": {},
   "outputs": [],
   "source": [
    "user_read_data = data_path + 'train'"
   ]
  },
  {
   "cell_type": "code",
   "execution_count": 7,
   "metadata": {},
   "outputs": [],
   "source": [
    "urd = pd.read_csv(user_read_data)"
   ]
  },
  {
   "cell_type": "code",
   "execution_count": 28,
   "metadata": {},
   "outputs": [],
   "source": [
    "user_lst = []\n",
    "read_lst = []"
   ]
  },
  {
   "cell_type": "code",
   "execution_count": 29,
   "metadata": {},
   "outputs": [
    {
     "name": "stderr",
     "output_type": "stream",
     "text": [
      "296495it [00:07, 39523.53it/s]\n"
     ]
    }
   ],
   "source": [
    "with open(user_read_data, 'r') as file :\n",
    "    for line in tqdm(file, mininterval = 1) :\n",
    "        user_read = line.split(\" \")\n",
    "        user_id = user_read[0]\n",
    "        read_set = set()\n",
    "        for article in user_read[1:]:\n",
    "            if article[0] == \"#\" :\n",
    "                continue\n",
    "            read_set.add(article)\n",
    "    \n",
    "        if len(read_set) >= 20 :\n",
    "            user_lst.append(user_id)\n",
    "            read_lst.append(' '.join(list(read_set)))        "
   ]
  },
  {
   "cell_type": "code",
   "execution_count": 30,
   "metadata": {},
   "outputs": [
    {
     "data": {
      "text/plain": [
       "'#1d68c0320dad496c3f05dd862e543a8b'"
      ]
     },
     "execution_count": 30,
     "metadata": {},
     "output_type": "execute_result"
    }
   ],
   "source": [
    "user_lst[0]"
   ]
  },
  {
   "cell_type": "code",
   "execution_count": 31,
   "metadata": {},
   "outputs": [
    {
     "data": {
      "text/plain": [
       "'@nonie1_35 @thepiano_112 @lcjaewon_92 @chloejeong_14 @lcjaewon_116 @linecard_216\\n @linecard_48 @lcjaewon_77 @julien_152 @niceunice_50 @linecard_81 @chloejeong_4 @linecard_64 @julien_142 @thepiano_113 @lcjaewon_66 @linecard_183 @julien_136 @julien_125 @julien_141 @englishspeaking_62 @julien_135 @muncoach_35 @thepiano_103 @englishspeaking_66 @linecard_76 @thepiano_100 @muncoach_32 @julien_146 @niceunice_54 @thepiano_120 @julien_130 @muncoach_33 @muncoach_34 @julien_99 @julien_151 @lcjaewon_59 @linecard_140 @thepiano_44 @sogangbest_122 @brunch_141 @thepiano_111 @pyk8627_44 @julien_112 @brunch_140 @sogangbest_130 @hdyoon_154 @chloejeong_15 @lcjaewon_121 @poetgarden_81 @julien_134 @julien_164 @silsin_28 @leegk243_62 @sweetannie_125 @muncoach_40 @muncoach_39 @hygo92_96 @sisabizone_33 @englishspeaking_111 @linecard_45 @chloejeong_16 @linecard_217 @thepiano_12 @linecard_108 @muncoach_30 @thepiano_24 @thepiano_105 @lcjaewon_133 @julien_111 @thepiano_107 @lcjaewon_112 @englishspeaking_87 @estelle_7 @julien_107 @lonelyplanet_304 @linecard_94 @hdyoon_149 @pyk8627_47 @muncoach_38 @englishspeaking_86 @hdyoon_151 @julien_93 @englishspeaking_50 @linecard_77 @linecard_58 @linecard_69 @sweetannie_132 @hygo92_91 @lcjaewon_113 @leegk243_60 @chloejeong_1 @englishspeaking_110 @englishspeaking_82 @julien_115 @englishspeaking_107 @englishspeaking_108 @lcjaewon_130 @lcjaewon_99 @chloejeong_7 @linecard_211 @thepiano_106 @muncoach_26 @linecard_212 @linecard_115 @linecard_112 @lcjaewon_132 @hdyoon_152 @kam_60 @agapeolive_24 @chloejeong_6 @englishspeaking_106 @julien_132 @julien_105 @julien_94 @sweetannie_124 @englishspeaking_84 @sweetannie_129 @chloejeong_2 @thepiano_109 @thepiano_51 @englishspeaking_96 @julien_128 @julien_148 @englishspeaking_112 @englishspeaking_80 @1984jhn_4 @julien_108 @sogangbest_114 @chloejeong_12 @julien_123 @thepiano_62 @tuckglee_8 @thepiano_17 @lcjaewon_119 @intlovesong_28 @julien_149 @nplusu_49 @linecard_205 @julien_131 @julien_117 @englishspeaking_99 @niceunice_58 @linecard_47 @linecard_85 @lcjaewon_31 @lcjaewon_91 @chloejeong_3 @julien_163 @niceunice_59 @hotelscomkr_523 @linecard_208 @julien_166 @julien_124 @hdyoon_155 @thepiano_14 @lcjaewon_129 @niceunice_56 @linecard_41 @linecard_73 @hygo92_94 @leegk243_61 @julien_140 @niceunice_55 @lcjaewon_82 @linecard_207 @leegk243_63 @thepiano_104 @linecard_44 @thepiano_18 @julien_116 @sunyoule_43 @lcjaewon_29 @linecard_99 @dohyunkim_32 @movedbymovie_68 @andrewyoon_73 @hygo92_85 @leegk243_58 @englishspeaking_85 @chloejeong_5 @thepiano_88 @lcjaewon_88 @muncoach_36 @lcjaewon_65 @linecard_59 @lcjaewon_131 @lcjaewon_58 @jasonsungilkang_86 @thepiano_110 @julien_95 @isaacyouspace_62 @englishspeaking_98 @englishspeaking_109 @lcjaewon_56 @thepiano_121 @muncoach_28 @sweetannie_91 @thepiano_7 @iamsooyoungkim_19 @thepiano_9 @lcjaewon_54 @hygo92_83 @isaacyouspace_63 @sweetannie_135 @ddism2686_39 @lcjaewon_53 @linecard_65 @lcjaewon_57 @leegk243_59 @lcjaewon_61 @linecard_78 @englishspeaking_75 @englishspeaking_113 @hygo92_86 @bree_41 @sogangbest_56 @dohyunkim_130 @muncoach_25 @julien_90 @bumgeunsong_63 @linecard_42 @julien_100 @englishspeaking_90 @englishspeaking_61 @chlngers_3 @brunch_151 @lcjaewon_94 @niceunice_57 @julien_118 @lcjaewon_30 @englishspeaking_81 @hygo92_97 @lcjaewon_62 @hygo92_81 @julien_162 @sweetannie_134 @julien_78 @claraahn_27 @julien_157 @linecard_216 @muncoach_27 @lcjaewon_122 @thepiano_114 @thepiano_116 @julien_137 @muncoach_37 @linecard_96 @thepiano_23 @thepiano_108 @linecard_46 @julien_133 @englishspeaking_94 @englishspeaking_105 @julien_145 @lcjaewon_128 @englishspeaking_88 @pyk8627_48 @chloejeong_11 @julien_46 @englishspeaking_76 @lcjaewon_117 @pyk8627_46 @julien_129 @linecard_110 @englishspeaking_101 @julien_155 @linecard_206 @julien_113 @muncoach_31 @lcjaewon_127 @linecard_43 @niceunice_43 @lcjaewon_115 @linecard_84 @lcjaewon_85 @chloejeong_13 @sweetannie_123 @linecard_9 @julien_138 @chloejeong_10 @sweetannie_136 @movedbymovie_67 @sweetannie_22 @hygo92_82 @julien_139 @brunch_147 @linecard_116 @julien_159 @englishspeaking_93 @niceunice_52 @lcjaewon_104 @julien_102 @pyk8627_43 @englishspeaking_58 @linecard_90 @lcjaewon_98 @englishspeaking_91 @chloejeong_17 @julien_127 @niceunice_53 @linecard_50 @hdyoon_150'"
      ]
     },
     "execution_count": 31,
     "metadata": {},
     "output_type": "execute_result"
    }
   ],
   "source": [
    "read_lst[0]"
   ]
  },
  {
   "cell_type": "code",
   "execution_count": 32,
   "metadata": {},
   "outputs": [],
   "source": [
    "df_temp = pd.DataFrame({'user_id' : user_lst,\n",
    "                        'article_id' : read_lst})"
   ]
  },
  {
   "cell_type": "code",
   "execution_count": 33,
   "metadata": {},
   "outputs": [
    {
     "data": {
      "text/html": [
       "<div>\n",
       "<style scoped>\n",
       "    .dataframe tbody tr th:only-of-type {\n",
       "        vertical-align: middle;\n",
       "    }\n",
       "\n",
       "    .dataframe tbody tr th {\n",
       "        vertical-align: top;\n",
       "    }\n",
       "\n",
       "    .dataframe thead th {\n",
       "        text-align: right;\n",
       "    }\n",
       "</style>\n",
       "<table border=\"1\" class=\"dataframe\">\n",
       "  <thead>\n",
       "    <tr style=\"text-align: right;\">\n",
       "      <th></th>\n",
       "      <th>user_id</th>\n",
       "      <th>article_id</th>\n",
       "    </tr>\n",
       "  </thead>\n",
       "  <tbody>\n",
       "    <tr>\n",
       "      <th>0</th>\n",
       "      <td>#1d68c0320dad496c3f05dd862e543a8b</td>\n",
       "      <td>@nonie1_35 @thepiano_112 @lcjaewon_92 @chloeje...</td>\n",
       "    </tr>\n",
       "    <tr>\n",
       "      <th>1</th>\n",
       "      <td>#7411fe2ebde59b981f7b9e22c153b3bb</td>\n",
       "      <td>@ultra0034_62 @cwhboy_27 @ultra0034_106 @think...</td>\n",
       "    </tr>\n",
       "    <tr>\n",
       "      <th>2</th>\n",
       "      <td>#45104ed2c8ccb8905753617109f3776e</td>\n",
       "      <td>@openmanh_13 @jours_16 @puding_174 @lkh3250_61...</td>\n",
       "    </tr>\n",
       "    <tr>\n",
       "      <th>3</th>\n",
       "      <td>#b4990f775b46463f33a9a60369149511</td>\n",
       "      <td>@fernweh19xx_34 @youngmusic_27 @jonnaalive_296...</td>\n",
       "    </tr>\n",
       "    <tr>\n",
       "      <th>4</th>\n",
       "      <td>#07398ff64afef6c216f8e85158398e92</td>\n",
       "      <td>@tenbody_1542 @tenbody_1592 @tenbody_1419 @ten...</td>\n",
       "    </tr>\n",
       "    <tr>\n",
       "      <th>...</th>\n",
       "      <td>...</td>\n",
       "      <td>...</td>\n",
       "    </tr>\n",
       "    <tr>\n",
       "      <th>93093</th>\n",
       "      <td>#32c6d7c7d3c5de3be79fb3b65bb882df</td>\n",
       "      <td>@stopfornow_61 @dailylife_736 @stopfornow_62 @...</td>\n",
       "    </tr>\n",
       "    <tr>\n",
       "      <th>93094</th>\n",
       "      <td>#5db043638000bb51d633ed01f0635bbe</td>\n",
       "      <td>@juck007_32 @sangheeshyn_66 @brunch_102 @jinbr...</td>\n",
       "    </tr>\n",
       "    <tr>\n",
       "      <th>93095</th>\n",
       "      <td>#d8b5d86bbdf42402519b33d0e12d98cc</td>\n",
       "      <td>@zeustyle_3 @noey_130 @nrlee0610_16 @heayoungc...</td>\n",
       "    </tr>\n",
       "    <tr>\n",
       "      <th>93096</th>\n",
       "      <td>#c6a70295c5127a71bd5b5a061a3370f8</td>\n",
       "      <td>@tenuto87_3 @hss730_18 @subori30_26 @reinastor...</td>\n",
       "    </tr>\n",
       "    <tr>\n",
       "      <th>93097</th>\n",
       "      <td>#e6035cbdb0deced2c9f40de67e26b203</td>\n",
       "      <td>@johnyohan_37 @boot0715_117 @salgoolee_12 @yes...</td>\n",
       "    </tr>\n",
       "  </tbody>\n",
       "</table>\n",
       "<p>93098 rows × 2 columns</p>\n",
       "</div>"
      ],
      "text/plain": [
       "                                 user_id  \\\n",
       "0      #1d68c0320dad496c3f05dd862e543a8b   \n",
       "1      #7411fe2ebde59b981f7b9e22c153b3bb   \n",
       "2      #45104ed2c8ccb8905753617109f3776e   \n",
       "3      #b4990f775b46463f33a9a60369149511   \n",
       "4      #07398ff64afef6c216f8e85158398e92   \n",
       "...                                  ...   \n",
       "93093  #32c6d7c7d3c5de3be79fb3b65bb882df   \n",
       "93094  #5db043638000bb51d633ed01f0635bbe   \n",
       "93095  #d8b5d86bbdf42402519b33d0e12d98cc   \n",
       "93096  #c6a70295c5127a71bd5b5a061a3370f8   \n",
       "93097  #e6035cbdb0deced2c9f40de67e26b203   \n",
       "\n",
       "                                              article_id  \n",
       "0      @nonie1_35 @thepiano_112 @lcjaewon_92 @chloeje...  \n",
       "1      @ultra0034_62 @cwhboy_27 @ultra0034_106 @think...  \n",
       "2      @openmanh_13 @jours_16 @puding_174 @lkh3250_61...  \n",
       "3      @fernweh19xx_34 @youngmusic_27 @jonnaalive_296...  \n",
       "4      @tenbody_1542 @tenbody_1592 @tenbody_1419 @ten...  \n",
       "...                                                  ...  \n",
       "93093  @stopfornow_61 @dailylife_736 @stopfornow_62 @...  \n",
       "93094  @juck007_32 @sangheeshyn_66 @brunch_102 @jinbr...  \n",
       "93095  @zeustyle_3 @noey_130 @nrlee0610_16 @heayoungc...  \n",
       "93096  @tenuto87_3 @hss730_18 @subori30_26 @reinastor...  \n",
       "93097  @johnyohan_37 @boot0715_117 @salgoolee_12 @yes...  \n",
       "\n",
       "[93098 rows x 2 columns]"
      ]
     },
     "execution_count": 33,
     "metadata": {},
     "output_type": "execute_result"
    }
   ],
   "source": [
    "df_temp"
   ]
  },
  {
   "cell_type": "code",
   "execution_count": 26,
   "metadata": {},
   "outputs": [
    {
     "data": {
      "text/plain": [
       "93098"
      ]
     },
     "execution_count": 26,
     "metadata": {},
     "output_type": "execute_result"
    }
   ],
   "source": [
    "len(df_temp['user_id'].unique())"
   ]
  },
  {
   "cell_type": "code",
   "execution_count": 34,
   "metadata": {},
   "outputs": [
    {
     "data": {
      "text/plain": [
       "93096"
      ]
     },
     "execution_count": 34,
     "metadata": {},
     "output_type": "execute_result"
    }
   ],
   "source": [
    "len(list(set(read_lst)))"
   ]
  },
  {
   "cell_type": "code",
   "execution_count": null,
   "metadata": {},
   "outputs": [],
   "source": []
  }
 ],
 "metadata": {
  "kernelspec": {
   "display_name": "tf2",
   "language": "python",
   "name": "tf2"
  },
  "language_info": {
   "codemirror_mode": {
    "name": "ipython",
    "version": 3
   },
   "file_extension": ".py",
   "mimetype": "text/x-python",
   "name": "python",
   "nbconvert_exporter": "python",
   "pygments_lexer": "ipython3",
   "version": "3.6.12"
  }
 },
 "nbformat": 4,
 "nbformat_minor": 4
}
