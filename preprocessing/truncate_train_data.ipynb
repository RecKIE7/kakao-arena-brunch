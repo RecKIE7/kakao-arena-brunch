{
 "cells": [
  {
   "cell_type": "code",
   "execution_count": 6,
   "metadata": {},
   "outputs": [],
   "source": [
    "\n",
    "import os, sys\n",
    "sys.path.append('..')\n",
    "sys.path.append('../../')\n",
    "import random\n",
    "\n",
    "import pandas as pd\n",
    "import numpy as np\n",
    "import json\n",
    "from sklearn.model_selection import train_test_split\n",
    "\n",
    "import tensorflow as tf\n",
    "from tensorflow.keras.callbacks import EarlyStopping, ModelCheckpoint\n",
    "from tensorflow.python.keras.preprocessing.sequence import pad_sequences\n",
    "\n",
    "import matplotlib.pyplot as plt\n",
    "\n",
    "import glob\n",
    "\n",
    "import config as conf\n"
   ]
  },
  {
   "cell_type": "code",
   "execution_count": 7,
   "metadata": {},
   "outputs": [],
   "source": [
    "DATA_PATH = './tmp/train'"
   ]
  },
  {
   "cell_type": "code",
   "execution_count": 8,
   "metadata": {},
   "outputs": [],
   "source": [
    "read_file_lst = glob.glob(conf.data_root + 'read/*')\n",
    "exclude_file_lst = ['read.tar']\n",
    "read_df_lst = []\n",
    "for f in read_file_lst:\n",
    "    file_name = os.path.basename(f)\n",
    "    if file_name in exclude_file_lst:\n",
    "        print(file_name)\n",
    "    else:\n",
    "        df_temp = pd.read_csv(f, header=None, names=['raw'])\n",
    "        df_temp['dt'] = file_name[:8]\n",
    "        df_temp['hr'] = file_name[8:10]\n",
    "        df_temp['user_id'] = df_temp['raw'].str.split(' ').str[0]\n",
    "        df_temp['article_id'] = df_temp['raw'].str.split(' ').str[1:].str.join(' ').str.strip()\n",
    "        read_df_lst.append(df_temp)"
   ]
  },
  {
   "cell_type": "code",
   "execution_count": 10,
   "metadata": {},
   "outputs": [],
   "source": [
    "read = pd.concat(read_df_lst)"
   ]
  },
  {
   "cell_type": "code",
   "execution_count": 11,
   "metadata": {},
   "outputs": [
    {
     "data": {
      "text/html": [
       "<div>\n",
       "<style scoped>\n",
       "    .dataframe tbody tr th:only-of-type {\n",
       "        vertical-align: middle;\n",
       "    }\n",
       "\n",
       "    .dataframe tbody tr th {\n",
       "        vertical-align: top;\n",
       "    }\n",
       "\n",
       "    .dataframe thead th {\n",
       "        text-align: right;\n",
       "    }\n",
       "</style>\n",
       "<table border=\"1\" class=\"dataframe\">\n",
       "  <thead>\n",
       "    <tr style=\"text-align: right;\">\n",
       "      <th></th>\n",
       "      <th>raw</th>\n",
       "      <th>dt</th>\n",
       "      <th>hr</th>\n",
       "      <th>user_id</th>\n",
       "      <th>article_id</th>\n",
       "    </tr>\n",
       "  </thead>\n",
       "  <tbody>\n",
       "    <tr>\n",
       "      <th>0</th>\n",
       "      <td>#a055d0c3520e1c002531001928217887 @charlessay_...</td>\n",
       "      <td>20181121</td>\n",
       "      <td>14</td>\n",
       "      <td>#a055d0c3520e1c002531001928217887</td>\n",
       "      <td>@charlessay_30 @wal8am_27 @uglyduckmin_40 @ant...</td>\n",
       "    </tr>\n",
       "    <tr>\n",
       "      <th>1</th>\n",
       "      <td>#a9cba8bf098c149170315d4cd8d3082e @jinbread_88...</td>\n",
       "      <td>20181121</td>\n",
       "      <td>14</td>\n",
       "      <td>#a9cba8bf098c149170315d4cd8d3082e</td>\n",
       "      <td>@jinbread_88 @jinbread_87 @jinbread_89</td>\n",
       "    </tr>\n",
       "    <tr>\n",
       "      <th>2</th>\n",
       "      <td>#207c8cb590a843e247b9fe7fdd0e5281 @sangheeshyn...</td>\n",
       "      <td>20181121</td>\n",
       "      <td>14</td>\n",
       "      <td>#207c8cb590a843e247b9fe7fdd0e5281</td>\n",
       "      <td>@sangheeshyn_66</td>\n",
       "    </tr>\n",
       "    <tr>\n",
       "      <th>3</th>\n",
       "      <td>#d76887a5b30adbf793f742c6f67b57bd @tenbody_150...</td>\n",
       "      <td>20181121</td>\n",
       "      <td>14</td>\n",
       "      <td>#d76887a5b30adbf793f742c6f67b57bd</td>\n",
       "      <td>@tenbody_1506 @tenbody_1506</td>\n",
       "    </tr>\n",
       "    <tr>\n",
       "      <th>4</th>\n",
       "      <td>#b260d83247a4d9e3b22143c950f7f471 @maumdal_257...</td>\n",
       "      <td>20181121</td>\n",
       "      <td>14</td>\n",
       "      <td>#b260d83247a4d9e3b22143c950f7f471</td>\n",
       "      <td>@maumdal_257 @maumdal_257</td>\n",
       "    </tr>\n",
       "  </tbody>\n",
       "</table>\n",
       "</div>"
      ],
      "text/plain": [
       "                                                 raw        dt  hr  \\\n",
       "0  #a055d0c3520e1c002531001928217887 @charlessay_...  20181121  14   \n",
       "1  #a9cba8bf098c149170315d4cd8d3082e @jinbread_88...  20181121  14   \n",
       "2  #207c8cb590a843e247b9fe7fdd0e5281 @sangheeshyn...  20181121  14   \n",
       "3  #d76887a5b30adbf793f742c6f67b57bd @tenbody_150...  20181121  14   \n",
       "4  #b260d83247a4d9e3b22143c950f7f471 @maumdal_257...  20181121  14   \n",
       "\n",
       "                             user_id  \\\n",
       "0  #a055d0c3520e1c002531001928217887   \n",
       "1  #a9cba8bf098c149170315d4cd8d3082e   \n",
       "2  #207c8cb590a843e247b9fe7fdd0e5281   \n",
       "3  #d76887a5b30adbf793f742c6f67b57bd   \n",
       "4  #b260d83247a4d9e3b22143c950f7f471   \n",
       "\n",
       "                                          article_id  \n",
       "0  @charlessay_30 @wal8am_27 @uglyduckmin_40 @ant...  \n",
       "1             @jinbread_88 @jinbread_87 @jinbread_89  \n",
       "2                                    @sangheeshyn_66  \n",
       "3                        @tenbody_1506 @tenbody_1506  \n",
       "4                          @maumdal_257 @maumdal_257  "
      ]
     },
     "execution_count": 11,
     "metadata": {},
     "output_type": "execute_result"
    }
   ],
   "source": [
    "read.head()"
   ]
  },
  {
   "cell_type": "code",
   "execution_count": 13,
   "metadata": {},
   "outputs": [],
   "source": [
    "read.drop('raw', inplace=True, axis=1)"
   ]
  },
  {
   "cell_type": "code",
   "execution_count": 17,
   "metadata": {},
   "outputs": [],
   "source": [
    "read['cnt'] = read['article_id'].apply(lambda x: len(x.split(' ')))"
   ]
  },
  {
   "cell_type": "code",
   "execution_count": 32,
   "metadata": {},
   "outputs": [],
   "source": [
    "read_new = read[read.cnt >= 20]"
   ]
  },
  {
   "cell_type": "code",
   "execution_count": 33,
   "metadata": {},
   "outputs": [
    {
     "data": {
      "text/plain": [
       "54466"
      ]
     },
     "execution_count": 33,
     "metadata": {},
     "output_type": "execute_result"
    }
   ],
   "source": [
    "len(read_new['user_id'].unique())"
   ]
  },
  {
   "cell_type": "code",
   "execution_count": null,
   "metadata": {},
   "outputs": [],
   "source": []
  }
 ],
 "metadata": {
  "kernelspec": {
   "display_name": "tf2",
   "language": "python",
   "name": "tf2"
  },
  "language_info": {
   "codemirror_mode": {
    "name": "ipython",
    "version": 3
   },
   "file_extension": ".py",
   "mimetype": "text/x-python",
   "name": "python",
   "nbconvert_exporter": "python",
   "pygments_lexer": "ipython3",
   "version": "3.6.12"
  }
 },
 "nbformat": 4,
 "nbformat_minor": 4
}
