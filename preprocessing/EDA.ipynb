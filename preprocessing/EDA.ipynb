{
 "cells": [
  {
   "cell_type": "markdown",
   "metadata": {},
   "source": [
    "# 데이터 EDA ipython notebook\n"
   ]
  },
  {
   "cell_type": "code",
   "execution_count": 1,
   "metadata": {},
   "outputs": [],
   "source": [
    "from collections import Counter\n",
    "from datetime import timedelta, datetime\n",
    "import glob\n",
    "from itertools import chain\n",
    "import json\n",
    "import os, sys\n",
    "import re\n"
   ]
  },
  {
   "cell_type": "code",
   "execution_count": 2,
   "metadata": {},
   "outputs": [],
   "source": [
    "import matplotlib.pyplot as plt\n",
    "import numpy as np\n",
    "import pandas as pd\n",
    "from pandas.plotting import register_matplotlib_converters\n",
    "import seaborn as sns"
   ]
  },
  {
   "cell_type": "code",
   "execution_count": 3,
   "metadata": {},
   "outputs": [],
   "source": [
    "sys.path.append(os.pardir)\n",
    "import config as conf"
   ]
  },
  {
   "cell_type": "code",
   "execution_count": 53,
   "metadata": {},
   "outputs": [],
   "source": [
    "import matplotlib\n",
    "import matplotlib.pyplot as plt\n",
    "import matplotlib.font_manager as fm\n",
    "import matplotlib as mpl\n",
    "mpl.rcParams['axes.unicode_minus'] = False\n",
    "\n",
    "# font_path = '/Users/ohyeji/fonts/NanumGothic.otf'\n",
    "# font_name = fm.FontProperties(fname=font_path, size=10).get_name()\n",
    "# plt.rc('font', family=font_name, size=12)\n",
    "plt.rcParams[\"figure.figsize\"] = (20, 10)\n",
    "register_matplotlib_converters()\n",
    "plt.rc('font', family='AppleGothic')\n",
    "plt.rcParams['axes.unicode_minus'] = False"
   ]
  },
  {
   "cell_type": "markdown",
   "metadata": {},
   "source": [
    "## 1. Data Read\n"
   ]
  },
  {
   "cell_type": "markdown",
   "metadata": {},
   "source": [
    "### a. Magazine.json"
   ]
  },
  {
   "cell_type": "code",
   "execution_count": 7,
   "metadata": {},
   "outputs": [],
   "source": [
    "magazine = pd.read_json(directory + 'magazine.json', lines=True)"
   ]
  },
  {
   "cell_type": "code",
   "execution_count": 8,
   "metadata": {},
   "outputs": [
    {
     "data": {
      "text/plain": [
       "(27967, 2)"
      ]
     },
     "execution_count": 8,
     "metadata": {},
     "output_type": "execute_result"
    }
   ],
   "source": [
    "magazine.shape"
   ]
  },
  {
   "cell_type": "code",
   "execution_count": 9,
   "metadata": {},
   "outputs": [
    {
     "data": {
      "text/html": [
       "<div>\n",
       "<style scoped>\n",
       "    .dataframe tbody tr th:only-of-type {\n",
       "        vertical-align: middle;\n",
       "    }\n",
       "\n",
       "    .dataframe tbody tr th {\n",
       "        vertical-align: top;\n",
       "    }\n",
       "\n",
       "    .dataframe thead th {\n",
       "        text-align: right;\n",
       "    }\n",
       "</style>\n",
       "<table border=\"1\" class=\"dataframe\">\n",
       "  <thead>\n",
       "    <tr style=\"text-align: right;\">\n",
       "      <th></th>\n",
       "      <th>magazine_tag_list</th>\n",
       "      <th>id</th>\n",
       "    </tr>\n",
       "  </thead>\n",
       "  <tbody>\n",
       "    <tr>\n",
       "      <th>0</th>\n",
       "      <td>[브런치북, 육아일기, 대화법, 들려주고픈이야기]</td>\n",
       "      <td>38842</td>\n",
       "    </tr>\n",
       "    <tr>\n",
       "      <th>1</th>\n",
       "      <td>[tea, food]</td>\n",
       "      <td>11540</td>\n",
       "    </tr>\n",
       "    <tr>\n",
       "      <th>2</th>\n",
       "      <td>[food]</td>\n",
       "      <td>11541</td>\n",
       "    </tr>\n",
       "    <tr>\n",
       "      <th>3</th>\n",
       "      <td>[브런치북, 일상, 시, 사람]</td>\n",
       "      <td>11546</td>\n",
       "    </tr>\n",
       "    <tr>\n",
       "      <th>4</th>\n",
       "      <td>[감성에세이, 노래, 음악에세이]</td>\n",
       "      <td>11544</td>\n",
       "    </tr>\n",
       "  </tbody>\n",
       "</table>\n",
       "</div>"
      ],
      "text/plain": [
       "             magazine_tag_list     id\n",
       "0  [브런치북, 육아일기, 대화법, 들려주고픈이야기]  38842\n",
       "1                  [tea, food]  11540\n",
       "2                       [food]  11541\n",
       "3            [브런치북, 일상, 시, 사람]  11546\n",
       "4           [감성에세이, 노래, 음악에세이]  11544"
      ]
     },
     "execution_count": 9,
     "metadata": {},
     "output_type": "execute_result"
    }
   ],
   "source": [
    "magazine.head()"
   ]
  },
  {
   "cell_type": "markdown",
   "metadata": {},
   "source": [
    "### b. Metadata.json"
   ]
  },
  {
   "cell_type": "code",
   "execution_count": 10,
   "metadata": {},
   "outputs": [],
   "source": [
    "metadata = pd.read_json(directory + 'metadata.json', lines=True)"
   ]
  },
  {
   "cell_type": "code",
   "execution_count": 11,
   "metadata": {},
   "outputs": [
    {
     "data": {
      "text/plain": [
       "(643104, 9)"
      ]
     },
     "execution_count": 11,
     "metadata": {},
     "output_type": "execute_result"
    }
   ],
   "source": [
    "metadata.shape"
   ]
  },
  {
   "cell_type": "code",
   "execution_count": 12,
   "metadata": {},
   "outputs": [
    {
     "data": {
      "text/html": [
       "<div>\n",
       "<style scoped>\n",
       "    .dataframe tbody tr th:only-of-type {\n",
       "        vertical-align: middle;\n",
       "    }\n",
       "\n",
       "    .dataframe tbody tr th {\n",
       "        vertical-align: top;\n",
       "    }\n",
       "\n",
       "    .dataframe thead th {\n",
       "        text-align: right;\n",
       "    }\n",
       "</style>\n",
       "<table border=\"1\" class=\"dataframe\">\n",
       "  <thead>\n",
       "    <tr style=\"text-align: right;\">\n",
       "      <th></th>\n",
       "      <th>magazine_id</th>\n",
       "      <th>user_id</th>\n",
       "      <th>title</th>\n",
       "      <th>keyword_list</th>\n",
       "      <th>display_url</th>\n",
       "      <th>sub_title</th>\n",
       "      <th>reg_ts</th>\n",
       "      <th>article_id</th>\n",
       "      <th>id</th>\n",
       "    </tr>\n",
       "  </thead>\n",
       "  <tbody>\n",
       "    <tr>\n",
       "      <th>0</th>\n",
       "      <td>8982</td>\n",
       "      <td>@bookdb</td>\n",
       "      <td>사진으로 옮기기에도 아까운, 리치필드 국립공원</td>\n",
       "      <td>[여행, 호주, 국립공원]</td>\n",
       "      <td>https://brunch.co.kr/@bookdb/782</td>\n",
       "      <td>세상 어디에도 없는 호주 Top 10</td>\n",
       "      <td>1474944427000</td>\n",
       "      <td>782</td>\n",
       "      <td>@bookdb_782</td>\n",
       "    </tr>\n",
       "    <tr>\n",
       "      <th>1</th>\n",
       "      <td>12081</td>\n",
       "      <td>@kohwang56</td>\n",
       "      <td>[시] 서러운 봄</td>\n",
       "      <td>[목련꽃, 아지랑이, 동행]</td>\n",
       "      <td>https://brunch.co.kr/@kohwang56/81</td>\n",
       "      <td></td>\n",
       "      <td>1463092749000</td>\n",
       "      <td>81</td>\n",
       "      <td>@kohwang56_81</td>\n",
       "    </tr>\n",
       "    <tr>\n",
       "      <th>2</th>\n",
       "      <td>0</td>\n",
       "      <td>@hannahajink</td>\n",
       "      <td>무엇을 위해</td>\n",
       "      <td>[]</td>\n",
       "      <td>https://brunch.co.kr/@hannahajink/4</td>\n",
       "      <td>무엇 때문에</td>\n",
       "      <td>1447997287000</td>\n",
       "      <td>4</td>\n",
       "      <td>@hannahajink_4</td>\n",
       "    </tr>\n",
       "    <tr>\n",
       "      <th>3</th>\n",
       "      <td>16315</td>\n",
       "      <td>@bryceandjuli</td>\n",
       "      <td>싫다</td>\n",
       "      <td>[감정, 마음, 위로]</td>\n",
       "      <td>https://brunch.co.kr/@bryceandjuli/88</td>\n",
       "      <td></td>\n",
       "      <td>1491055161000</td>\n",
       "      <td>88</td>\n",
       "      <td>@bryceandjuli_88</td>\n",
       "    </tr>\n",
       "    <tr>\n",
       "      <th>4</th>\n",
       "      <td>29363</td>\n",
       "      <td>@mijeongpark</td>\n",
       "      <td>Dubliner#7</td>\n",
       "      <td>[유럽여행, 더블린, 아일랜드]</td>\n",
       "      <td>https://brunch.co.kr/@mijeongpark/34</td>\n",
       "      <td>#7. 내 친구의 집은 어디인가</td>\n",
       "      <td>1523292942000</td>\n",
       "      <td>34</td>\n",
       "      <td>@mijeongpark_34</td>\n",
       "    </tr>\n",
       "  </tbody>\n",
       "</table>\n",
       "</div>"
      ],
      "text/plain": [
       "   magazine_id        user_id                      title       keyword_list  \\\n",
       "0         8982        @bookdb  사진으로 옮기기에도 아까운, 리치필드 국립공원     [여행, 호주, 국립공원]   \n",
       "1        12081     @kohwang56                  [시] 서러운 봄    [목련꽃, 아지랑이, 동행]   \n",
       "2            0   @hannahajink                     무엇을 위해                 []   \n",
       "3        16315  @bryceandjuli                         싫다       [감정, 마음, 위로]   \n",
       "4        29363   @mijeongpark                 Dubliner#7  [유럽여행, 더블린, 아일랜드]   \n",
       "\n",
       "                             display_url             sub_title         reg_ts  \\\n",
       "0       https://brunch.co.kr/@bookdb/782  세상 어디에도 없는 호주 Top 10  1474944427000   \n",
       "1     https://brunch.co.kr/@kohwang56/81                        1463092749000   \n",
       "2    https://brunch.co.kr/@hannahajink/4                무엇 때문에  1447997287000   \n",
       "3  https://brunch.co.kr/@bryceandjuli/88                        1491055161000   \n",
       "4   https://brunch.co.kr/@mijeongpark/34     #7. 내 친구의 집은 어디인가  1523292942000   \n",
       "\n",
       "   article_id                id  \n",
       "0         782       @bookdb_782  \n",
       "1          81     @kohwang56_81  \n",
       "2           4    @hannahajink_4  \n",
       "3          88  @bryceandjuli_88  \n",
       "4          34   @mijeongpark_34  "
      ]
     },
     "execution_count": 12,
     "metadata": {},
     "output_type": "execute_result"
    }
   ],
   "source": [
    "metadata.head()"
   ]
  },
  {
   "cell_type": "markdown",
   "metadata": {},
   "source": [
    "### c. Users.json\n"
   ]
  },
  {
   "cell_type": "code",
   "execution_count": 13,
   "metadata": {},
   "outputs": [],
   "source": [
    "users = pd.read_json(directory + '/users.json', lines=True)"
   ]
  },
  {
   "cell_type": "code",
   "execution_count": 14,
   "metadata": {},
   "outputs": [
    {
     "data": {
      "text/plain": [
       "(310758, 3)"
      ]
     },
     "execution_count": 14,
     "metadata": {},
     "output_type": "execute_result"
    }
   ],
   "source": [
    "users.shape\n"
   ]
  },
  {
   "cell_type": "code",
   "execution_count": 158,
   "metadata": {},
   "outputs": [
    {
     "data": {
      "text/html": [
       "<div>\n",
       "<style scoped>\n",
       "    .dataframe tbody tr th:only-of-type {\n",
       "        vertical-align: middle;\n",
       "    }\n",
       "\n",
       "    .dataframe tbody tr th {\n",
       "        vertical-align: top;\n",
       "    }\n",
       "\n",
       "    .dataframe thead th {\n",
       "        text-align: right;\n",
       "    }\n",
       "</style>\n",
       "<table border=\"1\" class=\"dataframe\">\n",
       "  <thead>\n",
       "    <tr style=\"text-align: right;\">\n",
       "      <th></th>\n",
       "      <th>keyword_list</th>\n",
       "      <th>following_list</th>\n",
       "      <th>id</th>\n",
       "    </tr>\n",
       "  </thead>\n",
       "  <tbody>\n",
       "    <tr>\n",
       "      <th>310753</th>\n",
       "      <td>[]</td>\n",
       "      <td>[@login002, @kkonal, @leeraha, @tobeme, @sohyu...</td>\n",
       "      <td>#2863e47d50f1640df6dac10b7bad94fb</td>\n",
       "    </tr>\n",
       "    <tr>\n",
       "      <th>310754</th>\n",
       "      <td>[]</td>\n",
       "      <td>[@simplelife-1p, @mint5051, @thecapitalist, @s...</td>\n",
       "      <td>#4341a155d1966e5618e310c45386aea4</td>\n",
       "    </tr>\n",
       "    <tr>\n",
       "      <th>310755</th>\n",
       "      <td>[]</td>\n",
       "      <td>[@cometseeker, @bijou, @suhanjang, @brunch]</td>\n",
       "      <td>#0d70f397a78d2ef638f812592fa8e6ba</td>\n",
       "    </tr>\n",
       "    <tr>\n",
       "      <th>310756</th>\n",
       "      <td>[{'cnt': 1, 'keyword': '꽃병 꽃꽂이'}, {'cnt': 1, '...</td>\n",
       "      <td>[@taekangk, @cielbleu, @yongisa, @joongheekim,...</td>\n",
       "      <td>#1bbf5e3d1e4c373103981cdd819812da</td>\n",
       "    </tr>\n",
       "    <tr>\n",
       "      <th>310757</th>\n",
       "      <td>[]</td>\n",
       "      <td>[]</td>\n",
       "      <td>#680cbb3ccc817891d2002f20a503e7e6</td>\n",
       "    </tr>\n",
       "  </tbody>\n",
       "</table>\n",
       "</div>"
      ],
      "text/plain": [
       "                                             keyword_list  \\\n",
       "310753                                                 []   \n",
       "310754                                                 []   \n",
       "310755                                                 []   \n",
       "310756  [{'cnt': 1, 'keyword': '꽃병 꽃꽂이'}, {'cnt': 1, '...   \n",
       "310757                                                 []   \n",
       "\n",
       "                                           following_list  \\\n",
       "310753  [@login002, @kkonal, @leeraha, @tobeme, @sohyu...   \n",
       "310754  [@simplelife-1p, @mint5051, @thecapitalist, @s...   \n",
       "310755        [@cometseeker, @bijou, @suhanjang, @brunch]   \n",
       "310756  [@taekangk, @cielbleu, @yongisa, @joongheekim,...   \n",
       "310757                                                 []   \n",
       "\n",
       "                                       id  \n",
       "310753  #2863e47d50f1640df6dac10b7bad94fb  \n",
       "310754  #4341a155d1966e5618e310c45386aea4  \n",
       "310755  #0d70f397a78d2ef638f812592fa8e6ba  \n",
       "310756  #1bbf5e3d1e4c373103981cdd819812da  \n",
       "310757  #680cbb3ccc817891d2002f20a503e7e6  "
      ]
     },
     "execution_count": 158,
     "metadata": {},
     "output_type": "execute_result"
    }
   ],
   "source": [
    "users.tail()\n"
   ]
  },
  {
   "cell_type": "markdown",
   "metadata": {},
   "source": [
    "### d. Read Files"
   ]
  },
  {
   "cell_type": "code",
   "execution_count": 16,
   "metadata": {},
   "outputs": [],
   "source": [
    "read_file_lst = glob.glob(directory + 'read/*')\n"
   ]
  },
  {
   "cell_type": "code",
   "execution_count": 17,
   "metadata": {},
   "outputs": [],
   "source": [
    "exclude_file_lst = ['read.tar']\n"
   ]
  },
  {
   "cell_type": "code",
   "execution_count": 18,
   "metadata": {},
   "outputs": [],
   "source": [
    "read_df_lst = []\n",
    "for f in read_file_lst:\n",
    "    file_name = os.path.basename(f)\n",
    "    if file_name in exclude_file_lst:\n",
    "        print(file_name)\n",
    "    else:\n",
    "        df_temp = pd.read_csv(f, header=None, names=['raw'])\n",
    "        df_temp['dt'] = file_name[:8]\n",
    "        df_temp['hr'] = file_name[8:10]\n",
    "        df_temp['user_id'] = df_temp['raw'].str.split(' ').str[0]\n",
    "        df_temp['article_id'] = df_temp['raw'].str.split(' ').str[1:].str.join(' ').str.strip()\n",
    "        read_df_lst.append(df_temp)"
   ]
  },
  {
   "cell_type": "code",
   "execution_count": 19,
   "metadata": {},
   "outputs": [],
   "source": [
    "read = pd.concat(read_df_lst)"
   ]
  },
  {
   "cell_type": "code",
   "execution_count": 20,
   "metadata": {},
   "outputs": [
    {
     "data": {
      "text/plain": [
       "(3507097, 5)"
      ]
     },
     "execution_count": 20,
     "metadata": {},
     "output_type": "execute_result"
    }
   ],
   "source": [
    "read.shape\n"
   ]
  },
  {
   "cell_type": "code",
   "execution_count": 21,
   "metadata": {},
   "outputs": [
    {
     "data": {
      "text/html": [
       "<div>\n",
       "<style scoped>\n",
       "    .dataframe tbody tr th:only-of-type {\n",
       "        vertical-align: middle;\n",
       "    }\n",
       "\n",
       "    .dataframe tbody tr th {\n",
       "        vertical-align: top;\n",
       "    }\n",
       "\n",
       "    .dataframe thead th {\n",
       "        text-align: right;\n",
       "    }\n",
       "</style>\n",
       "<table border=\"1\" class=\"dataframe\">\n",
       "  <thead>\n",
       "    <tr style=\"text-align: right;\">\n",
       "      <th></th>\n",
       "      <th>raw</th>\n",
       "      <th>dt</th>\n",
       "      <th>hr</th>\n",
       "      <th>user_id</th>\n",
       "      <th>article_id</th>\n",
       "    </tr>\n",
       "  </thead>\n",
       "  <tbody>\n",
       "    <tr>\n",
       "      <th>0</th>\n",
       "      <td>#a055d0c3520e1c002531001928217887 @charlessay_...</td>\n",
       "      <td>20181121</td>\n",
       "      <td>14</td>\n",
       "      <td>#a055d0c3520e1c002531001928217887</td>\n",
       "      <td>@charlessay_30 @wal8am_27 @uglyduckmin_40 @ant...</td>\n",
       "    </tr>\n",
       "    <tr>\n",
       "      <th>1</th>\n",
       "      <td>#a9cba8bf098c149170315d4cd8d3082e @jinbread_88...</td>\n",
       "      <td>20181121</td>\n",
       "      <td>14</td>\n",
       "      <td>#a9cba8bf098c149170315d4cd8d3082e</td>\n",
       "      <td>@jinbread_88 @jinbread_87 @jinbread_89</td>\n",
       "    </tr>\n",
       "    <tr>\n",
       "      <th>2</th>\n",
       "      <td>#207c8cb590a843e247b9fe7fdd0e5281 @sangheeshyn...</td>\n",
       "      <td>20181121</td>\n",
       "      <td>14</td>\n",
       "      <td>#207c8cb590a843e247b9fe7fdd0e5281</td>\n",
       "      <td>@sangheeshyn_66</td>\n",
       "    </tr>\n",
       "    <tr>\n",
       "      <th>3</th>\n",
       "      <td>#d76887a5b30adbf793f742c6f67b57bd @tenbody_150...</td>\n",
       "      <td>20181121</td>\n",
       "      <td>14</td>\n",
       "      <td>#d76887a5b30adbf793f742c6f67b57bd</td>\n",
       "      <td>@tenbody_1506 @tenbody_1506</td>\n",
       "    </tr>\n",
       "    <tr>\n",
       "      <th>4</th>\n",
       "      <td>#b260d83247a4d9e3b22143c950f7f471 @maumdal_257...</td>\n",
       "      <td>20181121</td>\n",
       "      <td>14</td>\n",
       "      <td>#b260d83247a4d9e3b22143c950f7f471</td>\n",
       "      <td>@maumdal_257 @maumdal_257</td>\n",
       "    </tr>\n",
       "  </tbody>\n",
       "</table>\n",
       "</div>"
      ],
      "text/plain": [
       "                                                 raw        dt  hr  \\\n",
       "0  #a055d0c3520e1c002531001928217887 @charlessay_...  20181121  14   \n",
       "1  #a9cba8bf098c149170315d4cd8d3082e @jinbread_88...  20181121  14   \n",
       "2  #207c8cb590a843e247b9fe7fdd0e5281 @sangheeshyn...  20181121  14   \n",
       "3  #d76887a5b30adbf793f742c6f67b57bd @tenbody_150...  20181121  14   \n",
       "4  #b260d83247a4d9e3b22143c950f7f471 @maumdal_257...  20181121  14   \n",
       "\n",
       "                             user_id  \\\n",
       "0  #a055d0c3520e1c002531001928217887   \n",
       "1  #a9cba8bf098c149170315d4cd8d3082e   \n",
       "2  #207c8cb590a843e247b9fe7fdd0e5281   \n",
       "3  #d76887a5b30adbf793f742c6f67b57bd   \n",
       "4  #b260d83247a4d9e3b22143c950f7f471   \n",
       "\n",
       "                                          article_id  \n",
       "0  @charlessay_30 @wal8am_27 @uglyduckmin_40 @ant...  \n",
       "1             @jinbread_88 @jinbread_87 @jinbread_89  \n",
       "2                                    @sangheeshyn_66  \n",
       "3                        @tenbody_1506 @tenbody_1506  \n",
       "4                          @maumdal_257 @maumdal_257  "
      ]
     },
     "execution_count": 21,
     "metadata": {},
     "output_type": "execute_result"
    }
   ],
   "source": [
    "read.head()"
   ]
  },
  {
   "cell_type": "markdown",
   "metadata": {},
   "source": [
    "#### 탐색하기 좋은 데이터 포맷으로 변경"
   ]
  },
  {
   "cell_type": "code",
   "execution_count": 22,
   "metadata": {},
   "outputs": [],
   "source": [
    "def chainer(s):\n",
    "    return list(chain.from_iterable(s.str.split(' ')))"
   ]
  },
  {
   "cell_type": "code",
   "execution_count": 23,
   "metadata": {},
   "outputs": [],
   "source": [
    "read_cnt_by_user = read['article_id'].str.split(' ').map(len)"
   ]
  },
  {
   "cell_type": "code",
   "execution_count": 24,
   "metadata": {},
   "outputs": [],
   "source": [
    "read_raw = pd.DataFrame({'dt': np.repeat(read['dt'], read_cnt_by_user),\n",
    "                         'hr': np.repeat(read['hr'], read_cnt_by_user),\n",
    "                         'user_id': np.repeat(read['user_id'], read_cnt_by_user),\n",
    "                         'article_id': chainer(read['article_id'])})"
   ]
  },
  {
   "cell_type": "code",
   "execution_count": 25,
   "metadata": {},
   "outputs": [
    {
     "data": {
      "text/plain": [
       "(22110706, 4)"
      ]
     },
     "execution_count": 25,
     "metadata": {},
     "output_type": "execute_result"
    }
   ],
   "source": [
    "read_raw.shape"
   ]
  },
  {
   "cell_type": "code",
   "execution_count": 26,
   "metadata": {},
   "outputs": [
    {
     "data": {
      "text/html": [
       "<div>\n",
       "<style scoped>\n",
       "    .dataframe tbody tr th:only-of-type {\n",
       "        vertical-align: middle;\n",
       "    }\n",
       "\n",
       "    .dataframe tbody tr th {\n",
       "        vertical-align: top;\n",
       "    }\n",
       "\n",
       "    .dataframe thead th {\n",
       "        text-align: right;\n",
       "    }\n",
       "</style>\n",
       "<table border=\"1\" class=\"dataframe\">\n",
       "  <thead>\n",
       "    <tr style=\"text-align: right;\">\n",
       "      <th></th>\n",
       "      <th>dt</th>\n",
       "      <th>hr</th>\n",
       "      <th>user_id</th>\n",
       "      <th>article_id</th>\n",
       "    </tr>\n",
       "  </thead>\n",
       "  <tbody>\n",
       "    <tr>\n",
       "      <th>0</th>\n",
       "      <td>20181121</td>\n",
       "      <td>14</td>\n",
       "      <td>#a055d0c3520e1c002531001928217887</td>\n",
       "      <td>@charlessay_30</td>\n",
       "    </tr>\n",
       "    <tr>\n",
       "      <th>0</th>\n",
       "      <td>20181121</td>\n",
       "      <td>14</td>\n",
       "      <td>#a055d0c3520e1c002531001928217887</td>\n",
       "      <td>@wal8am_27</td>\n",
       "    </tr>\n",
       "    <tr>\n",
       "      <th>0</th>\n",
       "      <td>20181121</td>\n",
       "      <td>14</td>\n",
       "      <td>#a055d0c3520e1c002531001928217887</td>\n",
       "      <td>@uglyduckmin_40</td>\n",
       "    </tr>\n",
       "    <tr>\n",
       "      <th>0</th>\n",
       "      <td>20181121</td>\n",
       "      <td>14</td>\n",
       "      <td>#a055d0c3520e1c002531001928217887</td>\n",
       "      <td>@anti-essay_133</td>\n",
       "    </tr>\n",
       "    <tr>\n",
       "      <th>0</th>\n",
       "      <td>20181121</td>\n",
       "      <td>14</td>\n",
       "      <td>#a055d0c3520e1c002531001928217887</td>\n",
       "      <td>@roysday_125</td>\n",
       "    </tr>\n",
       "  </tbody>\n",
       "</table>\n",
       "</div>"
      ],
      "text/plain": [
       "         dt  hr                            user_id       article_id\n",
       "0  20181121  14  #a055d0c3520e1c002531001928217887   @charlessay_30\n",
       "0  20181121  14  #a055d0c3520e1c002531001928217887       @wal8am_27\n",
       "0  20181121  14  #a055d0c3520e1c002531001928217887  @uglyduckmin_40\n",
       "0  20181121  14  #a055d0c3520e1c002531001928217887  @anti-essay_133\n",
       "0  20181121  14  #a055d0c3520e1c002531001928217887     @roysday_125"
      ]
     },
     "execution_count": 26,
     "metadata": {},
     "output_type": "execute_result"
    }
   ],
   "source": [
    "read_raw.head()"
   ]
  },
  {
   "cell_type": "code",
   "execution_count": 27,
   "metadata": {},
   "outputs": [
    {
     "name": "stdout",
     "output_type": "stream",
     "text": [
      "전체 데이터 건수: (22110706, 4)\n",
      "중복 소비를 제외한 데이터 건수: (12597878, 2)\n",
      "Unique 독자 수: 306222\n",
      "소비된 Unique 글 수: 505841\n"
     ]
    }
   ],
   "source": [
    "print(\"전체 데이터 건수:\", read_raw.shape)\n",
    "print(\"중복 소비를 제외한 데이터 건수:\", read_raw[['user_id', 'article_id']].drop_duplicates().shape)\n",
    "print(\"Unique 독자 수:\", len(read_raw['user_id'].unique()))\n",
    "print(\"소비된 Unique 글 수:\", len(read_raw['article_id'].unique()))"
   ]
  },
  {
   "cell_type": "code",
   "execution_count": null,
   "metadata": {},
   "outputs": [],
   "source": []
  },
  {
   "cell_type": "code",
   "execution_count": null,
   "metadata": {},
   "outputs": [],
   "source": []
  },
  {
   "cell_type": "markdown",
   "metadata": {},
   "source": [
    "## 2. EDA\n",
    "- 1. 글 수\n",
    "- 2. 글 소비\n",
    "- 3. 경과일에 따른 글 소비 변화\n",
    "- 4. 위클리 매거진\n",
    "- 5. 유저\n",
    "- 6. Following List\n",
    "- 7. 글의 메타데이터"
   ]
  },
  {
   "cell_type": "markdown",
   "metadata": {},
   "source": [
    "### 1. 글 수"
   ]
  },
  {
   "cell_type": "markdown",
   "metadata": {},
   "source": [
    "### a. metadata 전처리"
   ]
  },
  {
   "cell_type": "code",
   "execution_count": 28,
   "metadata": {},
   "outputs": [],
   "source": [
    "atc = metadata.copy()"
   ]
  },
  {
   "cell_type": "code",
   "execution_count": 29,
   "metadata": {},
   "outputs": [
    {
     "data": {
      "text/html": [
       "<div>\n",
       "<style scoped>\n",
       "    .dataframe tbody tr th:only-of-type {\n",
       "        vertical-align: middle;\n",
       "    }\n",
       "\n",
       "    .dataframe tbody tr th {\n",
       "        vertical-align: top;\n",
       "    }\n",
       "\n",
       "    .dataframe thead th {\n",
       "        text-align: right;\n",
       "    }\n",
       "</style>\n",
       "<table border=\"1\" class=\"dataframe\">\n",
       "  <thead>\n",
       "    <tr style=\"text-align: right;\">\n",
       "      <th></th>\n",
       "      <th>magazine_id</th>\n",
       "      <th>user_id</th>\n",
       "      <th>title</th>\n",
       "      <th>keyword_list</th>\n",
       "      <th>display_url</th>\n",
       "      <th>sub_title</th>\n",
       "      <th>reg_ts</th>\n",
       "      <th>article_id</th>\n",
       "      <th>id</th>\n",
       "    </tr>\n",
       "  </thead>\n",
       "  <tbody>\n",
       "    <tr>\n",
       "      <th>0</th>\n",
       "      <td>8982</td>\n",
       "      <td>@bookdb</td>\n",
       "      <td>사진으로 옮기기에도 아까운, 리치필드 국립공원</td>\n",
       "      <td>[여행, 호주, 국립공원]</td>\n",
       "      <td>https://brunch.co.kr/@bookdb/782</td>\n",
       "      <td>세상 어디에도 없는 호주 Top 10</td>\n",
       "      <td>1474944427000</td>\n",
       "      <td>782</td>\n",
       "      <td>@bookdb_782</td>\n",
       "    </tr>\n",
       "    <tr>\n",
       "      <th>1</th>\n",
       "      <td>12081</td>\n",
       "      <td>@kohwang56</td>\n",
       "      <td>[시] 서러운 봄</td>\n",
       "      <td>[목련꽃, 아지랑이, 동행]</td>\n",
       "      <td>https://brunch.co.kr/@kohwang56/81</td>\n",
       "      <td></td>\n",
       "      <td>1463092749000</td>\n",
       "      <td>81</td>\n",
       "      <td>@kohwang56_81</td>\n",
       "    </tr>\n",
       "    <tr>\n",
       "      <th>2</th>\n",
       "      <td>0</td>\n",
       "      <td>@hannahajink</td>\n",
       "      <td>무엇을 위해</td>\n",
       "      <td>[]</td>\n",
       "      <td>https://brunch.co.kr/@hannahajink/4</td>\n",
       "      <td>무엇 때문에</td>\n",
       "      <td>1447997287000</td>\n",
       "      <td>4</td>\n",
       "      <td>@hannahajink_4</td>\n",
       "    </tr>\n",
       "    <tr>\n",
       "      <th>3</th>\n",
       "      <td>16315</td>\n",
       "      <td>@bryceandjuli</td>\n",
       "      <td>싫다</td>\n",
       "      <td>[감정, 마음, 위로]</td>\n",
       "      <td>https://brunch.co.kr/@bryceandjuli/88</td>\n",
       "      <td></td>\n",
       "      <td>1491055161000</td>\n",
       "      <td>88</td>\n",
       "      <td>@bryceandjuli_88</td>\n",
       "    </tr>\n",
       "    <tr>\n",
       "      <th>4</th>\n",
       "      <td>29363</td>\n",
       "      <td>@mijeongpark</td>\n",
       "      <td>Dubliner#7</td>\n",
       "      <td>[유럽여행, 더블린, 아일랜드]</td>\n",
       "      <td>https://brunch.co.kr/@mijeongpark/34</td>\n",
       "      <td>#7. 내 친구의 집은 어디인가</td>\n",
       "      <td>1523292942000</td>\n",
       "      <td>34</td>\n",
       "      <td>@mijeongpark_34</td>\n",
       "    </tr>\n",
       "  </tbody>\n",
       "</table>\n",
       "</div>"
      ],
      "text/plain": [
       "   magazine_id        user_id                      title       keyword_list  \\\n",
       "0         8982        @bookdb  사진으로 옮기기에도 아까운, 리치필드 국립공원     [여행, 호주, 국립공원]   \n",
       "1        12081     @kohwang56                  [시] 서러운 봄    [목련꽃, 아지랑이, 동행]   \n",
       "2            0   @hannahajink                     무엇을 위해                 []   \n",
       "3        16315  @bryceandjuli                         싫다       [감정, 마음, 위로]   \n",
       "4        29363   @mijeongpark                 Dubliner#7  [유럽여행, 더블린, 아일랜드]   \n",
       "\n",
       "                             display_url             sub_title         reg_ts  \\\n",
       "0       https://brunch.co.kr/@bookdb/782  세상 어디에도 없는 호주 Top 10  1474944427000   \n",
       "1     https://brunch.co.kr/@kohwang56/81                        1463092749000   \n",
       "2    https://brunch.co.kr/@hannahajink/4                무엇 때문에  1447997287000   \n",
       "3  https://brunch.co.kr/@bryceandjuli/88                        1491055161000   \n",
       "4   https://brunch.co.kr/@mijeongpark/34     #7. 내 친구의 집은 어디인가  1523292942000   \n",
       "\n",
       "   article_id                id  \n",
       "0         782       @bookdb_782  \n",
       "1          81     @kohwang56_81  \n",
       "2           4    @hannahajink_4  \n",
       "3          88  @bryceandjuli_88  \n",
       "4          34   @mijeongpark_34  "
      ]
     },
     "execution_count": 29,
     "metadata": {},
     "output_type": "execute_result"
    }
   ],
   "source": [
    "atc.head()"
   ]
  },
  {
   "cell_type": "code",
   "execution_count": 30,
   "metadata": {},
   "outputs": [],
   "source": [
    "atc['reg_datetime'] = atc['reg_ts'].apply(lambda x : datetime.fromtimestamp(x/1000.0)) # timestamp를 datetime으로 바꿔줌\n",
    "atc.loc[atc['reg_datetime'] == atc['reg_datetime'].min(), 'reg_datetime'] = datetime(2090, 12, 31)\n",
    "atc['reg_dt'] = atc['reg_datetime'].dt.date # date만 가져오기. (글 등록 날짜)\n",
    "atc['type'] = atc['magazine_id'].apply(lambda x : '개인' if x == 0.0 else '매거진') # 매거진 id가 0이면 개인, 아니면 매거진으로 분류"
   ]
  },
  {
   "cell_type": "code",
   "execution_count": 31,
   "metadata": {},
   "outputs": [],
   "source": [
    "# 컬럼명 변경\n",
    "\n",
    "atc.columns = ['magazine_id', 'author_id', 'title', 'keyword_list', 'display_url', 'sub_title', 'reg_ts', 'id', 'article_id', 'reg_datetime', 'reg_dt', 'type']\n",
    "\n"
   ]
  },
  {
   "cell_type": "code",
   "execution_count": 32,
   "metadata": {},
   "outputs": [
    {
     "data": {
      "text/html": [
       "<div>\n",
       "<style scoped>\n",
       "    .dataframe tbody tr th:only-of-type {\n",
       "        vertical-align: middle;\n",
       "    }\n",
       "\n",
       "    .dataframe tbody tr th {\n",
       "        vertical-align: top;\n",
       "    }\n",
       "\n",
       "    .dataframe thead th {\n",
       "        text-align: right;\n",
       "    }\n",
       "</style>\n",
       "<table border=\"1\" class=\"dataframe\">\n",
       "  <thead>\n",
       "    <tr style=\"text-align: right;\">\n",
       "      <th></th>\n",
       "      <th>magazine_id</th>\n",
       "      <th>author_id</th>\n",
       "      <th>title</th>\n",
       "      <th>keyword_list</th>\n",
       "      <th>display_url</th>\n",
       "      <th>sub_title</th>\n",
       "      <th>reg_ts</th>\n",
       "      <th>id</th>\n",
       "      <th>article_id</th>\n",
       "      <th>reg_datetime</th>\n",
       "      <th>reg_dt</th>\n",
       "      <th>type</th>\n",
       "    </tr>\n",
       "  </thead>\n",
       "  <tbody>\n",
       "    <tr>\n",
       "      <th>0</th>\n",
       "      <td>8982</td>\n",
       "      <td>@bookdb</td>\n",
       "      <td>사진으로 옮기기에도 아까운, 리치필드 국립공원</td>\n",
       "      <td>[여행, 호주, 국립공원]</td>\n",
       "      <td>https://brunch.co.kr/@bookdb/782</td>\n",
       "      <td>세상 어디에도 없는 호주 Top 10</td>\n",
       "      <td>1474944427000</td>\n",
       "      <td>782</td>\n",
       "      <td>@bookdb_782</td>\n",
       "      <td>2016-09-27 11:47:07</td>\n",
       "      <td>2016-09-27</td>\n",
       "      <td>매거진</td>\n",
       "    </tr>\n",
       "    <tr>\n",
       "      <th>1</th>\n",
       "      <td>12081</td>\n",
       "      <td>@kohwang56</td>\n",
       "      <td>[시] 서러운 봄</td>\n",
       "      <td>[목련꽃, 아지랑이, 동행]</td>\n",
       "      <td>https://brunch.co.kr/@kohwang56/81</td>\n",
       "      <td></td>\n",
       "      <td>1463092749000</td>\n",
       "      <td>81</td>\n",
       "      <td>@kohwang56_81</td>\n",
       "      <td>2016-05-13 07:39:09</td>\n",
       "      <td>2016-05-13</td>\n",
       "      <td>매거진</td>\n",
       "    </tr>\n",
       "    <tr>\n",
       "      <th>2</th>\n",
       "      <td>0</td>\n",
       "      <td>@hannahajink</td>\n",
       "      <td>무엇을 위해</td>\n",
       "      <td>[]</td>\n",
       "      <td>https://brunch.co.kr/@hannahajink/4</td>\n",
       "      <td>무엇 때문에</td>\n",
       "      <td>1447997287000</td>\n",
       "      <td>4</td>\n",
       "      <td>@hannahajink_4</td>\n",
       "      <td>2015-11-20 14:28:07</td>\n",
       "      <td>2015-11-20</td>\n",
       "      <td>개인</td>\n",
       "    </tr>\n",
       "    <tr>\n",
       "      <th>3</th>\n",
       "      <td>16315</td>\n",
       "      <td>@bryceandjuli</td>\n",
       "      <td>싫다</td>\n",
       "      <td>[감정, 마음, 위로]</td>\n",
       "      <td>https://brunch.co.kr/@bryceandjuli/88</td>\n",
       "      <td></td>\n",
       "      <td>1491055161000</td>\n",
       "      <td>88</td>\n",
       "      <td>@bryceandjuli_88</td>\n",
       "      <td>2017-04-01 22:59:21</td>\n",
       "      <td>2017-04-01</td>\n",
       "      <td>매거진</td>\n",
       "    </tr>\n",
       "    <tr>\n",
       "      <th>4</th>\n",
       "      <td>29363</td>\n",
       "      <td>@mijeongpark</td>\n",
       "      <td>Dubliner#7</td>\n",
       "      <td>[유럽여행, 더블린, 아일랜드]</td>\n",
       "      <td>https://brunch.co.kr/@mijeongpark/34</td>\n",
       "      <td>#7. 내 친구의 집은 어디인가</td>\n",
       "      <td>1523292942000</td>\n",
       "      <td>34</td>\n",
       "      <td>@mijeongpark_34</td>\n",
       "      <td>2018-04-10 01:55:42</td>\n",
       "      <td>2018-04-10</td>\n",
       "      <td>매거진</td>\n",
       "    </tr>\n",
       "  </tbody>\n",
       "</table>\n",
       "</div>"
      ],
      "text/plain": [
       "   magazine_id      author_id                      title       keyword_list  \\\n",
       "0         8982        @bookdb  사진으로 옮기기에도 아까운, 리치필드 국립공원     [여행, 호주, 국립공원]   \n",
       "1        12081     @kohwang56                  [시] 서러운 봄    [목련꽃, 아지랑이, 동행]   \n",
       "2            0   @hannahajink                     무엇을 위해                 []   \n",
       "3        16315  @bryceandjuli                         싫다       [감정, 마음, 위로]   \n",
       "4        29363   @mijeongpark                 Dubliner#7  [유럽여행, 더블린, 아일랜드]   \n",
       "\n",
       "                             display_url             sub_title         reg_ts  \\\n",
       "0       https://brunch.co.kr/@bookdb/782  세상 어디에도 없는 호주 Top 10  1474944427000   \n",
       "1     https://brunch.co.kr/@kohwang56/81                        1463092749000   \n",
       "2    https://brunch.co.kr/@hannahajink/4                무엇 때문에  1447997287000   \n",
       "3  https://brunch.co.kr/@bryceandjuli/88                        1491055161000   \n",
       "4   https://brunch.co.kr/@mijeongpark/34     #7. 내 친구의 집은 어디인가  1523292942000   \n",
       "\n",
       "    id        article_id        reg_datetime      reg_dt type  \n",
       "0  782       @bookdb_782 2016-09-27 11:47:07  2016-09-27  매거진  \n",
       "1   81     @kohwang56_81 2016-05-13 07:39:09  2016-05-13  매거진  \n",
       "2    4    @hannahajink_4 2015-11-20 14:28:07  2015-11-20   개인  \n",
       "3   88  @bryceandjuli_88 2017-04-01 22:59:21  2017-04-01  매거진  \n",
       "4   34   @mijeongpark_34 2018-04-10 01:55:42  2018-04-10  매거진  "
      ]
     },
     "execution_count": 32,
     "metadata": {},
     "output_type": "execute_result"
    }
   ],
   "source": [
    "atc.head()\n"
   ]
  },
  {
   "cell_type": "code",
   "execution_count": null,
   "metadata": {},
   "outputs": [],
   "source": []
  },
  {
   "cell_type": "markdown",
   "metadata": {},
   "source": [
    "### b. 등록일자별 글 수"
   ]
  },
  {
   "cell_type": "code",
   "execution_count": 33,
   "metadata": {},
   "outputs": [],
   "source": [
    "atc_cnt_by_reg_dt = atc.groupby('reg_dt', as_index=False)['article_id'].count()\n"
   ]
  },
  {
   "cell_type": "code",
   "execution_count": 159,
   "metadata": {},
   "outputs": [
    {
     "data": {
      "text/html": [
       "<div>\n",
       "<style scoped>\n",
       "    .dataframe tbody tr th:only-of-type {\n",
       "        vertical-align: middle;\n",
       "    }\n",
       "\n",
       "    .dataframe tbody tr th {\n",
       "        vertical-align: top;\n",
       "    }\n",
       "\n",
       "    .dataframe thead th {\n",
       "        text-align: right;\n",
       "    }\n",
       "</style>\n",
       "<table border=\"1\" class=\"dataframe\">\n",
       "  <thead>\n",
       "    <tr style=\"text-align: right;\">\n",
       "      <th></th>\n",
       "      <th>reg_dt</th>\n",
       "      <th>article_id</th>\n",
       "    </tr>\n",
       "  </thead>\n",
       "  <tbody>\n",
       "    <tr>\n",
       "      <th>0</th>\n",
       "      <td>2015-05-06</td>\n",
       "      <td>1</td>\n",
       "    </tr>\n",
       "    <tr>\n",
       "      <th>1</th>\n",
       "      <td>2015-05-07</td>\n",
       "      <td>4</td>\n",
       "    </tr>\n",
       "    <tr>\n",
       "      <th>2</th>\n",
       "      <td>2015-05-08</td>\n",
       "      <td>7</td>\n",
       "    </tr>\n",
       "    <tr>\n",
       "      <th>3</th>\n",
       "      <td>2015-05-10</td>\n",
       "      <td>1</td>\n",
       "    </tr>\n",
       "    <tr>\n",
       "      <th>4</th>\n",
       "      <td>2015-05-11</td>\n",
       "      <td>7</td>\n",
       "    </tr>\n",
       "    <tr>\n",
       "      <th>...</th>\n",
       "      <td>...</td>\n",
       "      <td>...</td>\n",
       "    </tr>\n",
       "    <tr>\n",
       "      <th>1421</th>\n",
       "      <td>2019-03-28</td>\n",
       "      <td>804</td>\n",
       "    </tr>\n",
       "    <tr>\n",
       "      <th>1422</th>\n",
       "      <td>2019-03-29</td>\n",
       "      <td>806</td>\n",
       "    </tr>\n",
       "    <tr>\n",
       "      <th>1423</th>\n",
       "      <td>2019-03-30</td>\n",
       "      <td>563</td>\n",
       "    </tr>\n",
       "    <tr>\n",
       "      <th>1424</th>\n",
       "      <td>2019-03-31</td>\n",
       "      <td>695</td>\n",
       "    </tr>\n",
       "    <tr>\n",
       "      <th>1425</th>\n",
       "      <td>2090-12-31</td>\n",
       "      <td>129</td>\n",
       "    </tr>\n",
       "  </tbody>\n",
       "</table>\n",
       "<p>1426 rows × 2 columns</p>\n",
       "</div>"
      ],
      "text/plain": [
       "          reg_dt  article_id\n",
       "0     2015-05-06           1\n",
       "1     2015-05-07           4\n",
       "2     2015-05-08           7\n",
       "3     2015-05-10           1\n",
       "4     2015-05-11           7\n",
       "...          ...         ...\n",
       "1421  2019-03-28         804\n",
       "1422  2019-03-29         806\n",
       "1423  2019-03-30         563\n",
       "1424  2019-03-31         695\n",
       "1425  2090-12-31         129\n",
       "\n",
       "[1426 rows x 2 columns]"
      ]
     },
     "execution_count": 159,
     "metadata": {},
     "output_type": "execute_result"
    }
   ],
   "source": [
    "atc_cnt_by_reg_dt"
   ]
  },
  {
   "cell_type": "code",
   "execution_count": 55,
   "metadata": {},
   "outputs": [
    {
     "data": {
      "text/plain": [
       "Text(0, 0.5, '글 수')"
      ]
     },
     "execution_count": 55,
     "metadata": {},
     "output_type": "execute_result"
    },
    {
     "data": {
      "image/png": "[encoded data removed]",
      "text/plain": [
       "<Figure size 1440x720 with 1 Axes>"
      ]
     },
     "metadata": {
      "needs_background": "light"
     },
     "output_type": "display_data"
    }
   ],
   "source": [
    "sns.lineplot(data=atc_cnt_by_reg_dt[:-1], x='reg_dt', y='article_id', color='#49beb7')\n",
    "plt.title('등록일자별 글 수')\n",
    "plt.xlabel('글 등록일')\n",
    "plt.ylabel('글 수')"
   ]
  },
  {
   "cell_type": "markdown",
   "metadata": {},
   "source": [
    "## 2. 글 소비\n"
   ]
  },
  {
   "cell_type": "markdown",
   "metadata": {},
   "source": [
    "### a. 글별 소비수 통계"
   ]
  },
  {
   "cell_type": "code",
   "execution_count": 164,
   "metadata": {},
   "outputs": [],
   "source": [
    "# 글당 유저가 본 횟수(?)\n",
    "atc_read_cnt = read_raw[read_raw.article_id != ''].groupby('article_id')['user_id'].count()\n"
   ]
  },
  {
   "cell_type": "code",
   "execution_count": 57,
   "metadata": {},
   "outputs": [
    {
     "data": {
      "text/plain": [
       "article_id\n",
       "#00700c454af49d5c9a36a13fcba01d0a_1      112\n",
       "#00700c454af49d5c9a36a13fcba01d0a_10      24\n",
       "#00700c454af49d5c9a36a13fcba01d0a_100     37\n",
       "#00700c454af49d5c9a36a13fcba01d0a_101     32\n",
       "#00700c454af49d5c9a36a13fcba01d0a_102     40\n",
       "                                        ... \n",
       "@zzzaam_6                                114\n",
       "@zzzaam_7                                 42\n",
       "@zzzaam_8                                 80\n",
       "@zzzaam_9                                 43\n",
       "@zzzwhite_4                                2\n",
       "Name: user_id, Length: 505840, dtype: int64"
      ]
     },
     "execution_count": 57,
     "metadata": {},
     "output_type": "execute_result"
    }
   ],
   "source": [
    "atc_read_cnt"
   ]
  },
  {
   "cell_type": "code",
   "execution_count": 58,
   "metadata": {},
   "outputs": [
    {
     "data": {
      "text/plain": [
       "count    505840.000000\n",
       "mean         43.700988\n",
       "std         302.292764\n",
       "min           1.000000\n",
       "25%           3.000000\n",
       "50%           8.000000\n",
       "75%          25.000000\n",
       "max       97206.000000\n",
       "Name: user_id, dtype: float64"
      ]
     },
     "execution_count": 58,
     "metadata": {},
     "output_type": "execute_result"
    }
   ],
   "source": [
    "# 글별 소비수 통계\n",
    "atc_read_cnt.describe()\n"
   ]
  },
  {
   "cell_type": "code",
   "execution_count": 168,
   "metadata": {},
   "outputs": [
    {
     "name": "stdout",
     "output_type": "stream",
     "text": [
      "중간 값: 8.0\n",
      "제 1 사분위: 3.0\n",
      "제 3 사분위: 25.0\n"
     ]
    }
   ],
   "source": [
    "\n",
    "print('중간 값: {}'.format(np.median(atc_read_cnt)))\n",
    "# 사분위의 대한 경우는 0~100 스케일로 되어있음\n",
    "print('제 1 사분위: {}'.format(np.percentile(atc_read_cnt, 25)))\n",
    "print('제 3 사분위: {}'.format(np.percentile(atc_read_cnt, 75)))"
   ]
  },
  {
   "cell_type": "code",
   "execution_count": 59,
   "metadata": {},
   "outputs": [
    {
     "data": {
      "text/plain": [
       "0.85     47.0\n",
       "0.95    141.0\n",
       "Name: user_id, dtype: float64"
      ]
     },
     "execution_count": 59,
     "metadata": {},
     "output_type": "execute_result"
    }
   ],
   "source": [
    "# 글별 소비수 85% 95% 기준 값\n",
    "atc_read_cnt.quantile([0.85, 0.95])\n"
   ]
  },
  {
   "cell_type": "code",
   "execution_count": 167,
   "metadata": {},
   "outputs": [
    {
     "data": {
      "text/plain": [
       "{'whiskers': [<matplotlib.lines.Line2D at 0x1b5bd98da0>,\n",
       "  <matplotlib.lines.Line2D at 0x1b5bc720b8>],\n",
       " 'caps': [<matplotlib.lines.Line2D at 0x1b5bc72358>,\n",
       "  <matplotlib.lines.Line2D at 0x1b5bc725f8>],\n",
       " 'boxes': [<matplotlib.lines.Line2D at 0x1b5bd98ac8>],\n",
       " 'medians': [<matplotlib.lines.Line2D at 0x1b5bc72a58>],\n",
       " 'fliers': [<matplotlib.lines.Line2D at 0x1b5bc72e48>],\n",
       " 'means': [<matplotlib.lines.Line2D at 0x1b5bc72cc0>]}"
      ]
     },
     "execution_count": 167,
     "metadata": {},
     "output_type": "execute_result"
    },
    {
     "data": {
      "image/png": "[encoded data removed]",
      "text/plain": [
       "<Figure size 1440x720 with 1 Axes>"
      ]
     },
     "metadata": {
      "needs_background": "light"
     },
     "output_type": "display_data"
    }
   ],
   "source": [
    "plt.boxplot(atc_read_cnt, labels=['counts'], showmeans=True)"
   ]
  },
  {
   "cell_type": "code",
   "execution_count": 60,
   "metadata": {},
   "outputs": [],
   "source": [
    "atc_read_cnt = atc_read_cnt.reset_index()\n",
    "atc_read_cnt.columns = ['article_id', 'read_cnt']"
   ]
  },
  {
   "cell_type": "code",
   "execution_count": 61,
   "metadata": {},
   "outputs": [
    {
     "data": {
      "text/html": [
       "<div>\n",
       "<style scoped>\n",
       "    .dataframe tbody tr th:only-of-type {\n",
       "        vertical-align: middle;\n",
       "    }\n",
       "\n",
       "    .dataframe tbody tr th {\n",
       "        vertical-align: top;\n",
       "    }\n",
       "\n",
       "    .dataframe thead th {\n",
       "        text-align: right;\n",
       "    }\n",
       "</style>\n",
       "<table border=\"1\" class=\"dataframe\">\n",
       "  <thead>\n",
       "    <tr style=\"text-align: right;\">\n",
       "      <th></th>\n",
       "      <th>article_id</th>\n",
       "      <th>read_cnt</th>\n",
       "    </tr>\n",
       "  </thead>\n",
       "  <tbody>\n",
       "    <tr>\n",
       "      <th>505835</th>\n",
       "      <td>@zzzaam_6</td>\n",
       "      <td>114</td>\n",
       "    </tr>\n",
       "    <tr>\n",
       "      <th>505836</th>\n",
       "      <td>@zzzaam_7</td>\n",
       "      <td>42</td>\n",
       "    </tr>\n",
       "    <tr>\n",
       "      <th>505837</th>\n",
       "      <td>@zzzaam_8</td>\n",
       "      <td>80</td>\n",
       "    </tr>\n",
       "    <tr>\n",
       "      <th>505838</th>\n",
       "      <td>@zzzaam_9</td>\n",
       "      <td>43</td>\n",
       "    </tr>\n",
       "    <tr>\n",
       "      <th>505839</th>\n",
       "      <td>@zzzwhite_4</td>\n",
       "      <td>2</td>\n",
       "    </tr>\n",
       "  </tbody>\n",
       "</table>\n",
       "</div>"
      ],
      "text/plain": [
       "         article_id  read_cnt\n",
       "505835    @zzzaam_6       114\n",
       "505836    @zzzaam_7        42\n",
       "505837    @zzzaam_8        80\n",
       "505838    @zzzaam_9        43\n",
       "505839  @zzzwhite_4         2"
      ]
     },
     "execution_count": 61,
     "metadata": {},
     "output_type": "execute_result"
    }
   ],
   "source": [
    "# article_id가 없는 글들이 있음..\n",
    "atc_read_cnt.tail()\n"
   ]
  },
  {
   "cell_type": "code",
   "execution_count": 62,
   "metadata": {},
   "outputs": [
    {
     "data": {
      "text/html": [
       "<div>\n",
       "<style scoped>\n",
       "    .dataframe tbody tr th:only-of-type {\n",
       "        vertical-align: middle;\n",
       "    }\n",
       "\n",
       "    .dataframe tbody tr th {\n",
       "        vertical-align: top;\n",
       "    }\n",
       "\n",
       "    .dataframe thead th {\n",
       "        text-align: right;\n",
       "    }\n",
       "</style>\n",
       "<table border=\"1\" class=\"dataframe\">\n",
       "  <thead>\n",
       "    <tr style=\"text-align: right;\">\n",
       "      <th></th>\n",
       "      <th>magazine_id</th>\n",
       "      <th>author_id</th>\n",
       "      <th>title</th>\n",
       "      <th>keyword_list</th>\n",
       "      <th>display_url</th>\n",
       "      <th>sub_title</th>\n",
       "      <th>reg_ts</th>\n",
       "      <th>id</th>\n",
       "      <th>article_id</th>\n",
       "      <th>reg_datetime</th>\n",
       "      <th>reg_dt</th>\n",
       "      <th>type</th>\n",
       "    </tr>\n",
       "  </thead>\n",
       "  <tbody>\n",
       "    <tr>\n",
       "      <th>0</th>\n",
       "      <td>8982</td>\n",
       "      <td>@bookdb</td>\n",
       "      <td>사진으로 옮기기에도 아까운, 리치필드 국립공원</td>\n",
       "      <td>[여행, 호주, 국립공원]</td>\n",
       "      <td>https://brunch.co.kr/@bookdb/782</td>\n",
       "      <td>세상 어디에도 없는 호주 Top 10</td>\n",
       "      <td>1474944427000</td>\n",
       "      <td>782</td>\n",
       "      <td>@bookdb_782</td>\n",
       "      <td>2016-09-27 11:47:07</td>\n",
       "      <td>2016-09-27</td>\n",
       "      <td>매거진</td>\n",
       "    </tr>\n",
       "    <tr>\n",
       "      <th>1</th>\n",
       "      <td>12081</td>\n",
       "      <td>@kohwang56</td>\n",
       "      <td>[시] 서러운 봄</td>\n",
       "      <td>[목련꽃, 아지랑이, 동행]</td>\n",
       "      <td>https://brunch.co.kr/@kohwang56/81</td>\n",
       "      <td></td>\n",
       "      <td>1463092749000</td>\n",
       "      <td>81</td>\n",
       "      <td>@kohwang56_81</td>\n",
       "      <td>2016-05-13 07:39:09</td>\n",
       "      <td>2016-05-13</td>\n",
       "      <td>매거진</td>\n",
       "    </tr>\n",
       "    <tr>\n",
       "      <th>2</th>\n",
       "      <td>0</td>\n",
       "      <td>@hannahajink</td>\n",
       "      <td>무엇을 위해</td>\n",
       "      <td>[]</td>\n",
       "      <td>https://brunch.co.kr/@hannahajink/4</td>\n",
       "      <td>무엇 때문에</td>\n",
       "      <td>1447997287000</td>\n",
       "      <td>4</td>\n",
       "      <td>@hannahajink_4</td>\n",
       "      <td>2015-11-20 14:28:07</td>\n",
       "      <td>2015-11-20</td>\n",
       "      <td>개인</td>\n",
       "    </tr>\n",
       "    <tr>\n",
       "      <th>3</th>\n",
       "      <td>16315</td>\n",
       "      <td>@bryceandjuli</td>\n",
       "      <td>싫다</td>\n",
       "      <td>[감정, 마음, 위로]</td>\n",
       "      <td>https://brunch.co.kr/@bryceandjuli/88</td>\n",
       "      <td></td>\n",
       "      <td>1491055161000</td>\n",
       "      <td>88</td>\n",
       "      <td>@bryceandjuli_88</td>\n",
       "      <td>2017-04-01 22:59:21</td>\n",
       "      <td>2017-04-01</td>\n",
       "      <td>매거진</td>\n",
       "    </tr>\n",
       "    <tr>\n",
       "      <th>4</th>\n",
       "      <td>29363</td>\n",
       "      <td>@mijeongpark</td>\n",
       "      <td>Dubliner#7</td>\n",
       "      <td>[유럽여행, 더블린, 아일랜드]</td>\n",
       "      <td>https://brunch.co.kr/@mijeongpark/34</td>\n",
       "      <td>#7. 내 친구의 집은 어디인가</td>\n",
       "      <td>1523292942000</td>\n",
       "      <td>34</td>\n",
       "      <td>@mijeongpark_34</td>\n",
       "      <td>2018-04-10 01:55:42</td>\n",
       "      <td>2018-04-10</td>\n",
       "      <td>매거진</td>\n",
       "    </tr>\n",
       "  </tbody>\n",
       "</table>\n",
       "</div>"
      ],
      "text/plain": [
       "   magazine_id      author_id                      title       keyword_list  \\\n",
       "0         8982        @bookdb  사진으로 옮기기에도 아까운, 리치필드 국립공원     [여행, 호주, 국립공원]   \n",
       "1        12081     @kohwang56                  [시] 서러운 봄    [목련꽃, 아지랑이, 동행]   \n",
       "2            0   @hannahajink                     무엇을 위해                 []   \n",
       "3        16315  @bryceandjuli                         싫다       [감정, 마음, 위로]   \n",
       "4        29363   @mijeongpark                 Dubliner#7  [유럽여행, 더블린, 아일랜드]   \n",
       "\n",
       "                             display_url             sub_title         reg_ts  \\\n",
       "0       https://brunch.co.kr/@bookdb/782  세상 어디에도 없는 호주 Top 10  1474944427000   \n",
       "1     https://brunch.co.kr/@kohwang56/81                        1463092749000   \n",
       "2    https://brunch.co.kr/@hannahajink/4                무엇 때문에  1447997287000   \n",
       "3  https://brunch.co.kr/@bryceandjuli/88                        1491055161000   \n",
       "4   https://brunch.co.kr/@mijeongpark/34     #7. 내 친구의 집은 어디인가  1523292942000   \n",
       "\n",
       "    id        article_id        reg_datetime      reg_dt type  \n",
       "0  782       @bookdb_782 2016-09-27 11:47:07  2016-09-27  매거진  \n",
       "1   81     @kohwang56_81 2016-05-13 07:39:09  2016-05-13  매거진  \n",
       "2    4    @hannahajink_4 2015-11-20 14:28:07  2015-11-20   개인  \n",
       "3   88  @bryceandjuli_88 2017-04-01 22:59:21  2017-04-01  매거진  \n",
       "4   34   @mijeongpark_34 2018-04-10 01:55:42  2018-04-10  매거진  "
      ]
     },
     "execution_count": 62,
     "metadata": {},
     "output_type": "execute_result"
    }
   ],
   "source": [
    "atc.head()"
   ]
  },
  {
   "cell_type": "code",
   "execution_count": 63,
   "metadata": {},
   "outputs": [],
   "source": [
    "atc_read_cnt = pd.merge(atc_read_cnt, atc, how='left', left_on='article_id', right_on='article_id')\n"
   ]
  },
  {
   "cell_type": "code",
   "execution_count": 64,
   "metadata": {},
   "outputs": [
    {
     "data": {
      "text/html": [
       "<div>\n",
       "<style scoped>\n",
       "    .dataframe tbody tr th:only-of-type {\n",
       "        vertical-align: middle;\n",
       "    }\n",
       "\n",
       "    .dataframe tbody tr th {\n",
       "        vertical-align: top;\n",
       "    }\n",
       "\n",
       "    .dataframe thead th {\n",
       "        text-align: right;\n",
       "    }\n",
       "</style>\n",
       "<table border=\"1\" class=\"dataframe\">\n",
       "  <thead>\n",
       "    <tr style=\"text-align: right;\">\n",
       "      <th></th>\n",
       "      <th>article_id</th>\n",
       "      <th>read_cnt</th>\n",
       "      <th>magazine_id</th>\n",
       "      <th>author_id</th>\n",
       "      <th>title</th>\n",
       "      <th>keyword_list</th>\n",
       "      <th>display_url</th>\n",
       "      <th>sub_title</th>\n",
       "      <th>reg_ts</th>\n",
       "      <th>id</th>\n",
       "      <th>reg_datetime</th>\n",
       "      <th>reg_dt</th>\n",
       "      <th>type</th>\n",
       "    </tr>\n",
       "  </thead>\n",
       "  <tbody>\n",
       "    <tr>\n",
       "      <th>505835</th>\n",
       "      <td>@zzzaam_6</td>\n",
       "      <td>114</td>\n",
       "      <td>0.0</td>\n",
       "      <td>@zzzaam</td>\n",
       "      <td>좋은 제품 UX 디자인을 위한 9가지 방법</td>\n",
       "      <td>[디자인, UX, design]</td>\n",
       "      <td>https://brunch.co.kr/@zzzaam/6</td>\n",
       "      <td>Hacking Product Design</td>\n",
       "      <td>1.489403e+12</td>\n",
       "      <td>6.0</td>\n",
       "      <td>2017-03-13 20:08:01</td>\n",
       "      <td>2017-03-13</td>\n",
       "      <td>개인</td>\n",
       "    </tr>\n",
       "    <tr>\n",
       "      <th>505836</th>\n",
       "      <td>@zzzaam_7</td>\n",
       "      <td>42</td>\n",
       "      <td>0.0</td>\n",
       "      <td>@zzzaam</td>\n",
       "      <td>반복적 디자인에 대한 소고</td>\n",
       "      <td>[UX, 전략, 사용성]</td>\n",
       "      <td>https://brunch.co.kr/@zzzaam/7</td>\n",
       "      <td>Iteration is not design</td>\n",
       "      <td>1.490278e+12</td>\n",
       "      <td>7.0</td>\n",
       "      <td>2017-03-23 23:00:17</td>\n",
       "      <td>2017-03-23</td>\n",
       "      <td>개인</td>\n",
       "    </tr>\n",
       "    <tr>\n",
       "      <th>505837</th>\n",
       "      <td>@zzzaam_8</td>\n",
       "      <td>80</td>\n",
       "      <td>0.0</td>\n",
       "      <td>@zzzaam</td>\n",
       "      <td>인공지능과 미래의 디자인: 2025년의 디자이너</td>\n",
       "      <td>[인공지능, AI, 디자인]</td>\n",
       "      <td>https://brunch.co.kr/@zzzaam/8</td>\n",
       "      <td>AI와 휴머니티의 간극</td>\n",
       "      <td>1.493136e+12</td>\n",
       "      <td>8.0</td>\n",
       "      <td>2017-04-26 00:57:34</td>\n",
       "      <td>2017-04-26</td>\n",
       "      <td>개인</td>\n",
       "    </tr>\n",
       "    <tr>\n",
       "      <th>505838</th>\n",
       "      <td>@zzzaam_9</td>\n",
       "      <td>43</td>\n",
       "      <td>0.0</td>\n",
       "      <td>@zzzaam</td>\n",
       "      <td>디자인팀에 작가가 필요한 이유</td>\n",
       "      <td>[UX, 작가, 글쓰기]</td>\n",
       "      <td>https://brunch.co.kr/@zzzaam/9</td>\n",
       "      <td>Writers + Designers = A match made in he</td>\n",
       "      <td>1.496501e+12</td>\n",
       "      <td>9.0</td>\n",
       "      <td>2017-06-03 23:39:22</td>\n",
       "      <td>2017-06-03</td>\n",
       "      <td>개인</td>\n",
       "    </tr>\n",
       "    <tr>\n",
       "      <th>505839</th>\n",
       "      <td>@zzzwhite_4</td>\n",
       "      <td>2</td>\n",
       "      <td>0.0</td>\n",
       "      <td>@zzzwhite</td>\n",
       "      <td>너는 희망이다.</td>\n",
       "      <td>[감성그림, 희망, 엄마]</td>\n",
       "      <td>https://brunch.co.kr/@zzzwhite/4</td>\n",
       "      <td>감성드로잉</td>\n",
       "      <td>1.467290e+12</td>\n",
       "      <td>4.0</td>\n",
       "      <td>2016-06-30 21:30:54</td>\n",
       "      <td>2016-06-30</td>\n",
       "      <td>개인</td>\n",
       "    </tr>\n",
       "  </tbody>\n",
       "</table>\n",
       "</div>"
      ],
      "text/plain": [
       "         article_id  read_cnt  magazine_id  author_id  \\\n",
       "505835    @zzzaam_6       114          0.0    @zzzaam   \n",
       "505836    @zzzaam_7        42          0.0    @zzzaam   \n",
       "505837    @zzzaam_8        80          0.0    @zzzaam   \n",
       "505838    @zzzaam_9        43          0.0    @zzzaam   \n",
       "505839  @zzzwhite_4         2          0.0  @zzzwhite   \n",
       "\n",
       "                             title       keyword_list  \\\n",
       "505835     좋은 제품 UX 디자인을 위한 9가지 방법  [디자인, UX, design]   \n",
       "505836              반복적 디자인에 대한 소고      [UX, 전략, 사용성]   \n",
       "505837  인공지능과 미래의 디자인: 2025년의 디자이너    [인공지능, AI, 디자인]   \n",
       "505838            디자인팀에 작가가 필요한 이유      [UX, 작가, 글쓰기]   \n",
       "505839                    너는 희망이다.     [감성그림, 희망, 엄마]   \n",
       "\n",
       "                             display_url  \\\n",
       "505835    https://brunch.co.kr/@zzzaam/6   \n",
       "505836    https://brunch.co.kr/@zzzaam/7   \n",
       "505837    https://brunch.co.kr/@zzzaam/8   \n",
       "505838    https://brunch.co.kr/@zzzaam/9   \n",
       "505839  https://brunch.co.kr/@zzzwhite/4   \n",
       "\n",
       "                                       sub_title        reg_ts   id  \\\n",
       "505835                    Hacking Product Design  1.489403e+12  6.0   \n",
       "505836                   Iteration is not design  1.490278e+12  7.0   \n",
       "505837                              AI와 휴머니티의 간극  1.493136e+12  8.0   \n",
       "505838  Writers + Designers = A match made in he  1.496501e+12  9.0   \n",
       "505839                                     감성드로잉  1.467290e+12  4.0   \n",
       "\n",
       "              reg_datetime      reg_dt type  \n",
       "505835 2017-03-13 20:08:01  2017-03-13   개인  \n",
       "505836 2017-03-23 23:00:17  2017-03-23   개인  \n",
       "505837 2017-04-26 00:57:34  2017-04-26   개인  \n",
       "505838 2017-06-03 23:39:22  2017-06-03   개인  \n",
       "505839 2016-06-30 21:30:54  2016-06-30   개인  "
      ]
     },
     "execution_count": 64,
     "metadata": {},
     "output_type": "execute_result"
    }
   ],
   "source": [
    "atc_read_cnt.tail()"
   ]
  },
  {
   "cell_type": "code",
   "execution_count": 65,
   "metadata": {},
   "outputs": [
    {
     "data": {
      "text/plain": [
       "(505840, 13)"
      ]
     },
     "execution_count": 65,
     "metadata": {},
     "output_type": "execute_result"
    }
   ],
   "source": [
    "atc_read_cnt.shape\n"
   ]
  },
  {
   "cell_type": "code",
   "execution_count": 66,
   "metadata": {},
   "outputs": [],
   "source": [
    "# metadata를 찾을 수 없는 소비 로그 제외\n",
    "# id가 없는 글들 삭제\n",
    "\n",
    "atc_read_cnt_nn = atc_read_cnt[atc_read_cnt['id'].notnull()]"
   ]
  },
  {
   "cell_type": "code",
   "execution_count": 67,
   "metadata": {},
   "outputs": [
    {
     "data": {
      "text/plain": [
       "count    476147.000000\n",
       "mean         43.904592\n",
       "std         304.873256\n",
       "min           1.000000\n",
       "25%           3.000000\n",
       "50%           8.000000\n",
       "75%          25.000000\n",
       "max       97206.000000\n",
       "Name: read_cnt, dtype: float64"
      ]
     },
     "execution_count": 67,
     "metadata": {},
     "output_type": "execute_result"
    }
   ],
   "source": [
    "# metadata를 찾을 수 없는 로그를 제외한 후 글별 소비수 통계\n",
    "atc_read_cnt_nn['read_cnt'].describe()"
   ]
  },
  {
   "cell_type": "code",
   "execution_count": 68,
   "metadata": {},
   "outputs": [
    {
     "data": {
      "text/plain": [
       "0.90     72.0\n",
       "0.95    142.0\n",
       "Name: read_cnt, dtype: float64"
      ]
     },
     "execution_count": 68,
     "metadata": {},
     "output_type": "execute_result"
    }
   ],
   "source": [
    "# 글별 소비수 90% 95% 기준 값\n",
    "atc_read_cnt_nn['read_cnt'].quantile([0.90, 0.95])"
   ]
  },
  {
   "cell_type": "code",
   "execution_count": 171,
   "metadata": {},
   "outputs": [
    {
     "data": {
      "text/plain": [
       "{'whiskers': [<matplotlib.lines.Line2D at 0x1b5c4a8780>,\n",
       "  <matplotlib.lines.Line2D at 0x1b5c162828>],\n",
       " 'caps': [<matplotlib.lines.Line2D at 0x1b5c21e390>,\n",
       "  <matplotlib.lines.Line2D at 0x1b5c21e550>],\n",
       " 'boxes': [<matplotlib.lines.Line2D at 0x1b5c4403c8>],\n",
       " 'medians': [<matplotlib.lines.Line2D at 0x1b5c21ea90>],\n",
       " 'fliers': [<matplotlib.lines.Line2D at 0x1b5c21eac8>],\n",
       " 'means': [<matplotlib.lines.Line2D at 0x1b5c21ee10>]}"
      ]
     },
     "execution_count": 171,
     "metadata": {},
     "output_type": "execute_result"
    },
    {
     "data": {
      "image/png": "[encoded data removed]",
      "text/plain": [
       "<Figure size 1440x720 with 1 Axes>"
      ]
     },
     "metadata": {
      "needs_background": "light"
     },
     "output_type": "display_data"
    }
   ],
   "source": [
    "plt.boxplot(atc_read_cnt_nn['read_cnt'], labels=['counts'], showmeans=True)"
   ]
  },
  {
   "cell_type": "code",
   "execution_count": 69,
   "metadata": {},
   "outputs": [],
   "source": [
    "# 소비수 기준 분류값\n",
    "def get_class(x):\n",
    "    if x >= 142:\n",
    "        result = '5%'\n",
    "    elif x >= 72:\n",
    "        result = '10%'\n",
    "    elif x >= 25:\n",
    "        result = '25%'\n",
    "    elif x >= 8:\n",
    "        result = '50%'\n",
    "    elif x >= 3:\n",
    "        result = '75%'\n",
    "    else:\n",
    "        result = '100%'\n",
    "    return result"
   ]
  },
  {
   "cell_type": "code",
   "execution_count": 70,
   "metadata": {},
   "outputs": [
    {
     "name": "stderr",
     "output_type": "stream",
     "text": [
      "/Users/ohyeji/anaconda3/envs/tf2/lib/python3.6/site-packages/ipykernel_launcher.py:1: SettingWithCopyWarning: \n",
      "A value is trying to be set on a copy of a slice from a DataFrame.\n",
      "Try using .loc[row_indexer,col_indexer] = value instead\n",
      "\n",
      "See the caveats in the documentation: https://pandas.pydata.org/pandas-docs/stable/user_guide/indexing.html#returning-a-view-versus-a-copy\n",
      "  \"\"\"Entry point for launching an IPython kernel.\n"
     ]
    }
   ],
   "source": [
    "\n",
    "atc_read_cnt_nn['class'] = atc_read_cnt_nn['read_cnt'].map(get_class)\n"
   ]
  },
  {
   "cell_type": "code",
   "execution_count": 71,
   "metadata": {},
   "outputs": [
    {
     "data": {
      "text/html": [
       "<div>\n",
       "<style scoped>\n",
       "    .dataframe tbody tr th:only-of-type {\n",
       "        vertical-align: middle;\n",
       "    }\n",
       "\n",
       "    .dataframe tbody tr th {\n",
       "        vertical-align: top;\n",
       "    }\n",
       "\n",
       "    .dataframe thead th {\n",
       "        text-align: right;\n",
       "    }\n",
       "</style>\n",
       "<table border=\"1\" class=\"dataframe\">\n",
       "  <thead>\n",
       "    <tr style=\"text-align: right;\">\n",
       "      <th></th>\n",
       "      <th>article_id</th>\n",
       "      <th>read_cnt</th>\n",
       "      <th>magazine_id</th>\n",
       "      <th>author_id</th>\n",
       "      <th>title</th>\n",
       "      <th>keyword_list</th>\n",
       "      <th>display_url</th>\n",
       "      <th>sub_title</th>\n",
       "      <th>reg_ts</th>\n",
       "      <th>id</th>\n",
       "      <th>reg_datetime</th>\n",
       "      <th>reg_dt</th>\n",
       "      <th>type</th>\n",
       "      <th>class</th>\n",
       "    </tr>\n",
       "  </thead>\n",
       "  <tbody>\n",
       "    <tr>\n",
       "      <th>5417</th>\n",
       "      <td>@002_10</td>\n",
       "      <td>2</td>\n",
       "      <td>0.0</td>\n",
       "      <td>@002</td>\n",
       "      <td>'80% 안심계란' 포기하게 한 20% 살충제 계란</td>\n",
       "      <td>[계란, 살충제, 피해]</td>\n",
       "      <td>https://brunch.co.kr/@002/10</td>\n",
       "      <td>정직한 농가에 대한 피해보상은 소비자 신뢰를 돌려주는 것</td>\n",
       "      <td>1.504448e+12</td>\n",
       "      <td>10.0</td>\n",
       "      <td>2017-09-03 23:12:35</td>\n",
       "      <td>2017-09-03</td>\n",
       "      <td>개인</td>\n",
       "      <td>100%</td>\n",
       "    </tr>\n",
       "    <tr>\n",
       "      <th>5418</th>\n",
       "      <td>@002_2</td>\n",
       "      <td>6</td>\n",
       "      <td>0.0</td>\n",
       "      <td>@002</td>\n",
       "      <td>청년들은 '왜' 농촌으로 갔을까?</td>\n",
       "      <td>[귀촌, 농촌, 청년농업인]</td>\n",
       "      <td>https://brunch.co.kr/@002/2</td>\n",
       "      <td>삶의 가치를 찾아 유랑하는 청년들의 'YOLO 라이프'</td>\n",
       "      <td>1.501030e+12</td>\n",
       "      <td>2.0</td>\n",
       "      <td>2017-07-26 09:46:45</td>\n",
       "      <td>2017-07-26</td>\n",
       "      <td>개인</td>\n",
       "      <td>75%</td>\n",
       "    </tr>\n",
       "    <tr>\n",
       "      <th>5419</th>\n",
       "      <td>@002jesus_1</td>\n",
       "      <td>10</td>\n",
       "      <td>0.0</td>\n",
       "      <td>@002jesus</td>\n",
       "      <td>우리는 왜 가난해야 하나요?</td>\n",
       "      <td>[후원, 기부, 비영리]</td>\n",
       "      <td>https://brunch.co.kr/@002jesus/1</td>\n",
       "      <td>비영리를 바라보는 편견들 (1)</td>\n",
       "      <td>1.549456e+12</td>\n",
       "      <td>1.0</td>\n",
       "      <td>2019-02-06 21:18:49</td>\n",
       "      <td>2019-02-06</td>\n",
       "      <td>개인</td>\n",
       "      <td>50%</td>\n",
       "    </tr>\n",
       "    <tr>\n",
       "      <th>5420</th>\n",
       "      <td>@002paper_2</td>\n",
       "      <td>3</td>\n",
       "      <td>0.0</td>\n",
       "      <td>@002paper</td>\n",
       "      <td>할수 있는 것과 하고 싶은 것</td>\n",
       "      <td>[제주, 서울생활, 서울]</td>\n",
       "      <td>https://brunch.co.kr/@002paper/2</td>\n",
       "      <td>현실과 꿈의 거리..</td>\n",
       "      <td>1.470905e+12</td>\n",
       "      <td>2.0</td>\n",
       "      <td>2016-08-11 17:49:42</td>\n",
       "      <td>2016-08-11</td>\n",
       "      <td>개인</td>\n",
       "      <td>75%</td>\n",
       "    </tr>\n",
       "    <tr>\n",
       "      <th>5421</th>\n",
       "      <td>@002paper_3</td>\n",
       "      <td>2</td>\n",
       "      <td>0.0</td>\n",
       "      <td>@002paper</td>\n",
       "      <td>긍정적으로 생각하며 주문을 걸기..</td>\n",
       "      <td>[바램, 일상에세이, 긍정]</td>\n",
       "      <td>https://brunch.co.kr/@002paper/3</td>\n",
       "      <td>된다. 된다. 될거다....</td>\n",
       "      <td>1.470913e+12</td>\n",
       "      <td>3.0</td>\n",
       "      <td>2016-08-11 19:58:52</td>\n",
       "      <td>2016-08-11</td>\n",
       "      <td>개인</td>\n",
       "      <td>100%</td>\n",
       "    </tr>\n",
       "  </tbody>\n",
       "</table>\n",
       "</div>"
      ],
      "text/plain": [
       "       article_id  read_cnt  magazine_id  author_id  \\\n",
       "5417      @002_10         2          0.0       @002   \n",
       "5418       @002_2         6          0.0       @002   \n",
       "5419  @002jesus_1        10          0.0  @002jesus   \n",
       "5420  @002paper_2         3          0.0  @002paper   \n",
       "5421  @002paper_3         2          0.0  @002paper   \n",
       "\n",
       "                             title     keyword_list  \\\n",
       "5417  '80% 안심계란' 포기하게 한 20% 살충제 계란    [계란, 살충제, 피해]   \n",
       "5418            청년들은 '왜' 농촌으로 갔을까?  [귀촌, 농촌, 청년농업인]   \n",
       "5419              우리는 왜 가난해야 하나요?     [후원, 기부, 비영리]   \n",
       "5420              할수 있는 것과 하고 싶은 것   [제주, 서울생활, 서울]   \n",
       "5421           긍정적으로 생각하며 주문을 걸기..  [바램, 일상에세이, 긍정]   \n",
       "\n",
       "                           display_url                        sub_title  \\\n",
       "5417      https://brunch.co.kr/@002/10  정직한 농가에 대한 피해보상은 소비자 신뢰를 돌려주는 것   \n",
       "5418       https://brunch.co.kr/@002/2  삶의 가치를 찾아 유랑하는 청년들의 'YOLO 라이프'    \n",
       "5419  https://brunch.co.kr/@002jesus/1                비영리를 바라보는 편견들 (1)   \n",
       "5420  https://brunch.co.kr/@002paper/2                      현실과 꿈의 거리..   \n",
       "5421  https://brunch.co.kr/@002paper/3                  된다. 된다. 될거다....   \n",
       "\n",
       "            reg_ts    id        reg_datetime      reg_dt type class  \n",
       "5417  1.504448e+12  10.0 2017-09-03 23:12:35  2017-09-03   개인  100%  \n",
       "5418  1.501030e+12   2.0 2017-07-26 09:46:45  2017-07-26   개인   75%  \n",
       "5419  1.549456e+12   1.0 2019-02-06 21:18:49  2019-02-06   개인   50%  \n",
       "5420  1.470905e+12   2.0 2016-08-11 17:49:42  2016-08-11   개인   75%  \n",
       "5421  1.470913e+12   3.0 2016-08-11 19:58:52  2016-08-11   개인  100%  "
      ]
     },
     "execution_count": 71,
     "metadata": {},
     "output_type": "execute_result"
    }
   ],
   "source": [
    "atc_read_cnt_nn.head()"
   ]
  },
  {
   "cell_type": "markdown",
   "metadata": {},
   "source": [
    "### b. 등록일자별 글 소비수\n"
   ]
  },
  {
   "cell_type": "code",
   "execution_count": 72,
   "metadata": {},
   "outputs": [
    {
     "data": {
      "text/plain": [
       "Text(0, 0.5, '글 소비수')"
      ]
     },
     "execution_count": 72,
     "metadata": {},
     "output_type": "execute_result"
    },
    {
     "data": {
      "image/png": "[encoded data removed]",
      "text/plain": [
       "<Figure size 1440x720 with 1 Axes>"
      ]
     },
     "metadata": {
      "needs_background": "light"
     },
     "output_type": "display_data"
    }
   ],
   "source": [
    "lm = sns.scatterplot(data=atc_read_cnt_nn, x='reg_dt', y='read_cnt', color='#49beb7')\n",
    "lm.set(xlim=(datetime.date(datetime(2015, 4, 1)), datetime.date(datetime(2019, 3, 30))))\n",
    "plt.title('등록일자별 글 소비수')\n",
    "plt.xlabel('글 등록일')\n",
    "plt.ylabel('글 소비수')\n"
   ]
  },
  {
   "cell_type": "markdown",
   "metadata": {},
   "source": [
    "- 두 개의 아티클이 글 소비수가 매우 높음\n",
    "- 그래프를 자세히 보기 위해 두 개의 아티클을 제외하고 다시 그려보자"
   ]
  },
  {
   "cell_type": "code",
   "execution_count": 73,
   "metadata": {},
   "outputs": [
    {
     "data": {
      "text/html": [
       "<div>\n",
       "<style scoped>\n",
       "    .dataframe tbody tr th:only-of-type {\n",
       "        vertical-align: middle;\n",
       "    }\n",
       "\n",
       "    .dataframe tbody tr th {\n",
       "        vertical-align: top;\n",
       "    }\n",
       "\n",
       "    .dataframe thead th {\n",
       "        text-align: right;\n",
       "    }\n",
       "</style>\n",
       "<table border=\"1\" class=\"dataframe\">\n",
       "  <thead>\n",
       "    <tr style=\"text-align: right;\">\n",
       "      <th></th>\n",
       "      <th>article_id</th>\n",
       "      <th>read_cnt</th>\n",
       "      <th>magazine_id</th>\n",
       "      <th>author_id</th>\n",
       "      <th>title</th>\n",
       "      <th>keyword_list</th>\n",
       "      <th>display_url</th>\n",
       "      <th>sub_title</th>\n",
       "      <th>reg_ts</th>\n",
       "      <th>id</th>\n",
       "      <th>reg_datetime</th>\n",
       "      <th>reg_dt</th>\n",
       "      <th>type</th>\n",
       "      <th>class</th>\n",
       "    </tr>\n",
       "  </thead>\n",
       "  <tbody>\n",
       "    <tr>\n",
       "      <th>63061</th>\n",
       "      <td>@brunch_141</td>\n",
       "      <td>97206</td>\n",
       "      <td>0.0</td>\n",
       "      <td>@brunch</td>\n",
       "      <td>브런치 작가가 함께 빨강머리 앤을 그리고 쓰다.</td>\n",
       "      <td>[브런치X빨강머리앤, 빨강머리앤, 출판, 작가]</td>\n",
       "      <td>https://brunch.co.kr/@brunch/141</td>\n",
       "      <td>글·그림 작가 파트너 프로젝트</td>\n",
       "      <td>1.539742e+12</td>\n",
       "      <td>141.0</td>\n",
       "      <td>2018-10-17 11:11:22</td>\n",
       "      <td>2018-10-17</td>\n",
       "      <td>개인</td>\n",
       "      <td>5%</td>\n",
       "    </tr>\n",
       "    <tr>\n",
       "      <th>63070</th>\n",
       "      <td>@brunch_151</td>\n",
       "      <td>66903</td>\n",
       "      <td>0.0</td>\n",
       "      <td>@brunch</td>\n",
       "      <td>브런치 무비 패스, 영화의 진한 여운을 나누세요</td>\n",
       "      <td>[브런치, 시사회, 브런치무비패스]</td>\n",
       "      <td>https://brunch.co.kr/@brunch/151</td>\n",
       "      <td>브런치 무비 패스 5기 작가 모집</td>\n",
       "      <td>1.550466e+12</td>\n",
       "      <td>151.0</td>\n",
       "      <td>2019-02-18 14:00:34</td>\n",
       "      <td>2019-02-18</td>\n",
       "      <td>개인</td>\n",
       "      <td>5%</td>\n",
       "    </tr>\n",
       "  </tbody>\n",
       "</table>\n",
       "</div>"
      ],
      "text/plain": [
       "        article_id  read_cnt  magazine_id author_id  \\\n",
       "63061  @brunch_141     97206          0.0   @brunch   \n",
       "63070  @brunch_151     66903          0.0   @brunch   \n",
       "\n",
       "                            title                keyword_list  \\\n",
       "63061  브런치 작가가 함께 빨강머리 앤을 그리고 쓰다.  [브런치X빨강머리앤, 빨강머리앤, 출판, 작가]   \n",
       "63070  브런치 무비 패스, 영화의 진한 여운을 나누세요         [브런치, 시사회, 브런치무비패스]   \n",
       "\n",
       "                            display_url           sub_title        reg_ts  \\\n",
       "63061  https://brunch.co.kr/@brunch/141    글·그림 작가 파트너 프로젝트  1.539742e+12   \n",
       "63070  https://brunch.co.kr/@brunch/151  브런치 무비 패스 5기 작가 모집  1.550466e+12   \n",
       "\n",
       "          id        reg_datetime      reg_dt type class  \n",
       "63061  141.0 2018-10-17 11:11:22  2018-10-17   개인    5%  \n",
       "63070  151.0 2019-02-18 14:00:34  2019-02-18   개인    5%  "
      ]
     },
     "execution_count": 73,
     "metadata": {},
     "output_type": "execute_result"
    }
   ],
   "source": [
    "atc_read_cnt_nn.sort_values(by='read_cnt', ascending=False).head(2)\n"
   ]
  },
  {
   "cell_type": "code",
   "execution_count": 74,
   "metadata": {},
   "outputs": [
    {
     "data": {
      "text/plain": [
       "Text(0, 0.5, '글 소비수')"
      ]
     },
     "execution_count": 74,
     "metadata": {},
     "output_type": "execute_result"
    },
    {
     "data": {
      "image/png": "[encoded data removed]",
      "text/plain": [
       "<Figure size 1440x720 with 1 Axes>"
      ]
     },
     "metadata": {
      "needs_background": "light"
     },
     "output_type": "display_data"
    }
   ],
   "source": [
    "# 특이값 2개 데이터를 제외\n",
    "lm = sns.scatterplot(data=atc_read_cnt_nn[~atc_read_cnt_nn.article_id.isin(['@brunch_141', '@brunch_151'])], x='reg_dt', y='read_cnt', hue='type', alpha=0.5, palette=['#49beb7', '#ff5959'])\n",
    "lm.set(xlim=(datetime.date(datetime(2015, 4, 1)), datetime.date(datetime(2019, 3, 30))))\n",
    "plt.title('등록일자별 글 소비수')\n",
    "plt.xlabel('글 등록일')\n",
    "plt.ylabel('글 소비수')"
   ]
  },
  {
   "cell_type": "code",
   "execution_count": null,
   "metadata": {},
   "outputs": [],
   "source": []
  },
  {
   "cell_type": "markdown",
   "metadata": {},
   "source": [
    "## 3. 경과일에 따른 글 소비 변화"
   ]
  },
  {
   "cell_type": "markdown",
   "metadata": {},
   "source": [
    "### a. 데이터 전처리\n"
   ]
  },
  {
   "cell_type": "code",
   "execution_count": 75,
   "metadata": {},
   "outputs": [],
   "source": [
    "off_data = pd.merge(read_raw, atc, how='inner', left_on='article_id', right_on='article_id')\n"
   ]
  },
  {
   "cell_type": "code",
   "execution_count": 76,
   "metadata": {},
   "outputs": [
    {
     "data": {
      "text/plain": [
       "(20905040, 15)"
      ]
     },
     "execution_count": 76,
     "metadata": {},
     "output_type": "execute_result"
    }
   ],
   "source": [
    "off_data.shape\n"
   ]
  },
  {
   "cell_type": "code",
   "execution_count": 77,
   "metadata": {},
   "outputs": [
    {
     "data": {
      "text/html": [
       "<div>\n",
       "<style scoped>\n",
       "    .dataframe tbody tr th:only-of-type {\n",
       "        vertical-align: middle;\n",
       "    }\n",
       "\n",
       "    .dataframe tbody tr th {\n",
       "        vertical-align: top;\n",
       "    }\n",
       "\n",
       "    .dataframe thead th {\n",
       "        text-align: right;\n",
       "    }\n",
       "</style>\n",
       "<table border=\"1\" class=\"dataframe\">\n",
       "  <thead>\n",
       "    <tr style=\"text-align: right;\">\n",
       "      <th></th>\n",
       "      <th>dt</th>\n",
       "      <th>hr</th>\n",
       "      <th>user_id</th>\n",
       "      <th>article_id</th>\n",
       "      <th>magazine_id</th>\n",
       "      <th>author_id</th>\n",
       "      <th>title</th>\n",
       "      <th>keyword_list</th>\n",
       "      <th>display_url</th>\n",
       "      <th>sub_title</th>\n",
       "      <th>reg_ts</th>\n",
       "      <th>id</th>\n",
       "      <th>reg_datetime</th>\n",
       "      <th>reg_dt</th>\n",
       "      <th>type</th>\n",
       "    </tr>\n",
       "  </thead>\n",
       "  <tbody>\n",
       "    <tr>\n",
       "      <th>0</th>\n",
       "      <td>20181121</td>\n",
       "      <td>14</td>\n",
       "      <td>#a055d0c3520e1c002531001928217887</td>\n",
       "      <td>@charlessay_30</td>\n",
       "      <td>37242</td>\n",
       "      <td>@charlessay</td>\n",
       "      <td>프랑스 인큐베이팅 프로그램 킥오프(2)</td>\n",
       "      <td>[IT, 스타트업]</td>\n",
       "      <td>https://brunch.co.kr/@charlessay/30</td>\n",
       "      <td>자신의 비전을 이루기 위해 여행을 떠나는 길동무들</td>\n",
       "      <td>1542529515000</td>\n",
       "      <td>30</td>\n",
       "      <td>2018-11-18 17:25:15</td>\n",
       "      <td>2018-11-18</td>\n",
       "      <td>매거진</td>\n",
       "    </tr>\n",
       "    <tr>\n",
       "      <th>1</th>\n",
       "      <td>20181118</td>\n",
       "      <td>18</td>\n",
       "      <td>#585b5346c56d6d0ed6341afe382e03b7</td>\n",
       "      <td>@charlessay_30</td>\n",
       "      <td>37242</td>\n",
       "      <td>@charlessay</td>\n",
       "      <td>프랑스 인큐베이팅 프로그램 킥오프(2)</td>\n",
       "      <td>[IT, 스타트업]</td>\n",
       "      <td>https://brunch.co.kr/@charlessay/30</td>\n",
       "      <td>자신의 비전을 이루기 위해 여행을 떠나는 길동무들</td>\n",
       "      <td>1542529515000</td>\n",
       "      <td>30</td>\n",
       "      <td>2018-11-18 17:25:15</td>\n",
       "      <td>2018-11-18</td>\n",
       "      <td>매거진</td>\n",
       "    </tr>\n",
       "    <tr>\n",
       "      <th>2</th>\n",
       "      <td>20181118</td>\n",
       "      <td>18</td>\n",
       "      <td>#ad179b8f764c4c56f048ba337daee781</td>\n",
       "      <td>@charlessay_30</td>\n",
       "      <td>37242</td>\n",
       "      <td>@charlessay</td>\n",
       "      <td>프랑스 인큐베이팅 프로그램 킥오프(2)</td>\n",
       "      <td>[IT, 스타트업]</td>\n",
       "      <td>https://brunch.co.kr/@charlessay/30</td>\n",
       "      <td>자신의 비전을 이루기 위해 여행을 떠나는 길동무들</td>\n",
       "      <td>1542529515000</td>\n",
       "      <td>30</td>\n",
       "      <td>2018-11-18 17:25:15</td>\n",
       "      <td>2018-11-18</td>\n",
       "      <td>매거진</td>\n",
       "    </tr>\n",
       "    <tr>\n",
       "      <th>3</th>\n",
       "      <td>20181119</td>\n",
       "      <td>12</td>\n",
       "      <td>#3cb3edc483bc5d9bd95b677b97a3521c</td>\n",
       "      <td>@charlessay_30</td>\n",
       "      <td>37242</td>\n",
       "      <td>@charlessay</td>\n",
       "      <td>프랑스 인큐베이팅 프로그램 킥오프(2)</td>\n",
       "      <td>[IT, 스타트업]</td>\n",
       "      <td>https://brunch.co.kr/@charlessay/30</td>\n",
       "      <td>자신의 비전을 이루기 위해 여행을 떠나는 길동무들</td>\n",
       "      <td>1542529515000</td>\n",
       "      <td>30</td>\n",
       "      <td>2018-11-18 17:25:15</td>\n",
       "      <td>2018-11-18</td>\n",
       "      <td>매거진</td>\n",
       "    </tr>\n",
       "    <tr>\n",
       "      <th>4</th>\n",
       "      <td>20181122</td>\n",
       "      <td>19</td>\n",
       "      <td>#e714f32a816fd9c8e553cd7a7573b71c</td>\n",
       "      <td>@charlessay_30</td>\n",
       "      <td>37242</td>\n",
       "      <td>@charlessay</td>\n",
       "      <td>프랑스 인큐베이팅 프로그램 킥오프(2)</td>\n",
       "      <td>[IT, 스타트업]</td>\n",
       "      <td>https://brunch.co.kr/@charlessay/30</td>\n",
       "      <td>자신의 비전을 이루기 위해 여행을 떠나는 길동무들</td>\n",
       "      <td>1542529515000</td>\n",
       "      <td>30</td>\n",
       "      <td>2018-11-18 17:25:15</td>\n",
       "      <td>2018-11-18</td>\n",
       "      <td>매거진</td>\n",
       "    </tr>\n",
       "  </tbody>\n",
       "</table>\n",
       "</div>"
      ],
      "text/plain": [
       "         dt  hr                            user_id      article_id  \\\n",
       "0  20181121  14  #a055d0c3520e1c002531001928217887  @charlessay_30   \n",
       "1  20181118  18  #585b5346c56d6d0ed6341afe382e03b7  @charlessay_30   \n",
       "2  20181118  18  #ad179b8f764c4c56f048ba337daee781  @charlessay_30   \n",
       "3  20181119  12  #3cb3edc483bc5d9bd95b677b97a3521c  @charlessay_30   \n",
       "4  20181122  19  #e714f32a816fd9c8e553cd7a7573b71c  @charlessay_30   \n",
       "\n",
       "   magazine_id    author_id                  title keyword_list  \\\n",
       "0        37242  @charlessay  프랑스 인큐베이팅 프로그램 킥오프(2)   [IT, 스타트업]   \n",
       "1        37242  @charlessay  프랑스 인큐베이팅 프로그램 킥오프(2)   [IT, 스타트업]   \n",
       "2        37242  @charlessay  프랑스 인큐베이팅 프로그램 킥오프(2)   [IT, 스타트업]   \n",
       "3        37242  @charlessay  프랑스 인큐베이팅 프로그램 킥오프(2)   [IT, 스타트업]   \n",
       "4        37242  @charlessay  프랑스 인큐베이팅 프로그램 킥오프(2)   [IT, 스타트업]   \n",
       "\n",
       "                           display_url                    sub_title  \\\n",
       "0  https://brunch.co.kr/@charlessay/30  자신의 비전을 이루기 위해 여행을 떠나는 길동무들   \n",
       "1  https://brunch.co.kr/@charlessay/30  자신의 비전을 이루기 위해 여행을 떠나는 길동무들   \n",
       "2  https://brunch.co.kr/@charlessay/30  자신의 비전을 이루기 위해 여행을 떠나는 길동무들   \n",
       "3  https://brunch.co.kr/@charlessay/30  자신의 비전을 이루기 위해 여행을 떠나는 길동무들   \n",
       "4  https://brunch.co.kr/@charlessay/30  자신의 비전을 이루기 위해 여행을 떠나는 길동무들   \n",
       "\n",
       "          reg_ts  id        reg_datetime      reg_dt type  \n",
       "0  1542529515000  30 2018-11-18 17:25:15  2018-11-18  매거진  \n",
       "1  1542529515000  30 2018-11-18 17:25:15  2018-11-18  매거진  \n",
       "2  1542529515000  30 2018-11-18 17:25:15  2018-11-18  매거진  \n",
       "3  1542529515000  30 2018-11-18 17:25:15  2018-11-18  매거진  \n",
       "4  1542529515000  30 2018-11-18 17:25:15  2018-11-18  매거진  "
      ]
     },
     "execution_count": 77,
     "metadata": {},
     "output_type": "execute_result"
    }
   ],
   "source": [
    "off_data.head()\n"
   ]
  },
  {
   "cell_type": "code",
   "execution_count": 78,
   "metadata": {},
   "outputs": [],
   "source": [
    "\n",
    "# off_data.columns = ['read_dt', 'hr', 'user_id', 'article_id', 'article_seq', 'display_url',\n",
    "#                     'keyword_list', 'magazine_id', 'reg_ts', 'sub_title', 'title',\n",
    "#                     'author_id', 'reg_datetime', 'reg_dt', 'type']\n",
    "\n",
    "off_data.columns = ['read_dt', 'hr', 'user_id', 'article_id',\n",
    "                    'magazine_id', 'author_id', 'title', 'keyword_list',\n",
    "                    'display_url', 'sub_title',\n",
    "                    'reg_ts', 'article_seq', 'reg_datetime', \n",
    "                    'reg_dt', 'type']\n",
    "\n"
   ]
  },
  {
   "cell_type": "code",
   "execution_count": 79,
   "metadata": {},
   "outputs": [],
   "source": [
    "off_data = off_data[['read_dt', 'user_id', 'article_id', \n",
    "                     'title', 'sub_title', 'author_id', \n",
    "                     'reg_dt', 'type', 'display_url', \n",
    "                     'keyword_list', 'magazine_id']]\n",
    "\n"
   ]
  },
  {
   "cell_type": "code",
   "execution_count": 80,
   "metadata": {},
   "outputs": [],
   "source": [
    "off_data['read_dt'] = pd.to_datetime(off_data['read_dt'], format='%Y%m%d')\n",
    "off_data['reg_dt'] = pd.to_datetime(off_data['reg_dt'], format='%Y-%m-%d')\n",
    "off_data['off_day'] = (off_data['read_dt'] - off_data['reg_dt']).dt.days"
   ]
  },
  {
   "cell_type": "code",
   "execution_count": 81,
   "metadata": {},
   "outputs": [],
   "source": [
    "# meatadata와 join\n",
    "off_data = pd.merge(off_data, atc_read_cnt_nn[['article_id', 'read_cnt', 'class']], how='left', left_on='article_id', right_on='article_id')\n",
    "\n"
   ]
  },
  {
   "cell_type": "code",
   "execution_count": 82,
   "metadata": {},
   "outputs": [
    {
     "data": {
      "text/plain": [
       "(20905040, 14)"
      ]
     },
     "execution_count": 82,
     "metadata": {},
     "output_type": "execute_result"
    }
   ],
   "source": [
    "off_data.shape\n"
   ]
  },
  {
   "cell_type": "code",
   "execution_count": 83,
   "metadata": {},
   "outputs": [
    {
     "data": {
      "text/html": [
       "<div>\n",
       "<style scoped>\n",
       "    .dataframe tbody tr th:only-of-type {\n",
       "        vertical-align: middle;\n",
       "    }\n",
       "\n",
       "    .dataframe tbody tr th {\n",
       "        vertical-align: top;\n",
       "    }\n",
       "\n",
       "    .dataframe thead th {\n",
       "        text-align: right;\n",
       "    }\n",
       "</style>\n",
       "<table border=\"1\" class=\"dataframe\">\n",
       "  <thead>\n",
       "    <tr style=\"text-align: right;\">\n",
       "      <th></th>\n",
       "      <th>read_dt</th>\n",
       "      <th>user_id</th>\n",
       "      <th>article_id</th>\n",
       "      <th>title</th>\n",
       "      <th>sub_title</th>\n",
       "      <th>author_id</th>\n",
       "      <th>reg_dt</th>\n",
       "      <th>type</th>\n",
       "      <th>display_url</th>\n",
       "      <th>keyword_list</th>\n",
       "      <th>magazine_id</th>\n",
       "      <th>off_day</th>\n",
       "      <th>read_cnt</th>\n",
       "      <th>class</th>\n",
       "    </tr>\n",
       "  </thead>\n",
       "  <tbody>\n",
       "    <tr>\n",
       "      <th>0</th>\n",
       "      <td>2018-11-21</td>\n",
       "      <td>#a055d0c3520e1c002531001928217887</td>\n",
       "      <td>@charlessay_30</td>\n",
       "      <td>프랑스 인큐베이팅 프로그램 킥오프(2)</td>\n",
       "      <td>자신의 비전을 이루기 위해 여행을 떠나는 길동무들</td>\n",
       "      <td>@charlessay</td>\n",
       "      <td>2018-11-18</td>\n",
       "      <td>매거진</td>\n",
       "      <td>https://brunch.co.kr/@charlessay/30</td>\n",
       "      <td>[IT, 스타트업]</td>\n",
       "      <td>37242</td>\n",
       "      <td>3</td>\n",
       "      <td>31</td>\n",
       "      <td>25%</td>\n",
       "    </tr>\n",
       "    <tr>\n",
       "      <th>1</th>\n",
       "      <td>2018-11-18</td>\n",
       "      <td>#585b5346c56d6d0ed6341afe382e03b7</td>\n",
       "      <td>@charlessay_30</td>\n",
       "      <td>프랑스 인큐베이팅 프로그램 킥오프(2)</td>\n",
       "      <td>자신의 비전을 이루기 위해 여행을 떠나는 길동무들</td>\n",
       "      <td>@charlessay</td>\n",
       "      <td>2018-11-18</td>\n",
       "      <td>매거진</td>\n",
       "      <td>https://brunch.co.kr/@charlessay/30</td>\n",
       "      <td>[IT, 스타트업]</td>\n",
       "      <td>37242</td>\n",
       "      <td>0</td>\n",
       "      <td>31</td>\n",
       "      <td>25%</td>\n",
       "    </tr>\n",
       "    <tr>\n",
       "      <th>2</th>\n",
       "      <td>2018-11-18</td>\n",
       "      <td>#ad179b8f764c4c56f048ba337daee781</td>\n",
       "      <td>@charlessay_30</td>\n",
       "      <td>프랑스 인큐베이팅 프로그램 킥오프(2)</td>\n",
       "      <td>자신의 비전을 이루기 위해 여행을 떠나는 길동무들</td>\n",
       "      <td>@charlessay</td>\n",
       "      <td>2018-11-18</td>\n",
       "      <td>매거진</td>\n",
       "      <td>https://brunch.co.kr/@charlessay/30</td>\n",
       "      <td>[IT, 스타트업]</td>\n",
       "      <td>37242</td>\n",
       "      <td>0</td>\n",
       "      <td>31</td>\n",
       "      <td>25%</td>\n",
       "    </tr>\n",
       "    <tr>\n",
       "      <th>3</th>\n",
       "      <td>2018-11-19</td>\n",
       "      <td>#3cb3edc483bc5d9bd95b677b97a3521c</td>\n",
       "      <td>@charlessay_30</td>\n",
       "      <td>프랑스 인큐베이팅 프로그램 킥오프(2)</td>\n",
       "      <td>자신의 비전을 이루기 위해 여행을 떠나는 길동무들</td>\n",
       "      <td>@charlessay</td>\n",
       "      <td>2018-11-18</td>\n",
       "      <td>매거진</td>\n",
       "      <td>https://brunch.co.kr/@charlessay/30</td>\n",
       "      <td>[IT, 스타트업]</td>\n",
       "      <td>37242</td>\n",
       "      <td>1</td>\n",
       "      <td>31</td>\n",
       "      <td>25%</td>\n",
       "    </tr>\n",
       "    <tr>\n",
       "      <th>4</th>\n",
       "      <td>2018-11-22</td>\n",
       "      <td>#e714f32a816fd9c8e553cd7a7573b71c</td>\n",
       "      <td>@charlessay_30</td>\n",
       "      <td>프랑스 인큐베이팅 프로그램 킥오프(2)</td>\n",
       "      <td>자신의 비전을 이루기 위해 여행을 떠나는 길동무들</td>\n",
       "      <td>@charlessay</td>\n",
       "      <td>2018-11-18</td>\n",
       "      <td>매거진</td>\n",
       "      <td>https://brunch.co.kr/@charlessay/30</td>\n",
       "      <td>[IT, 스타트업]</td>\n",
       "      <td>37242</td>\n",
       "      <td>4</td>\n",
       "      <td>31</td>\n",
       "      <td>25%</td>\n",
       "    </tr>\n",
       "  </tbody>\n",
       "</table>\n",
       "</div>"
      ],
      "text/plain": [
       "     read_dt                            user_id      article_id  \\\n",
       "0 2018-11-21  #a055d0c3520e1c002531001928217887  @charlessay_30   \n",
       "1 2018-11-18  #585b5346c56d6d0ed6341afe382e03b7  @charlessay_30   \n",
       "2 2018-11-18  #ad179b8f764c4c56f048ba337daee781  @charlessay_30   \n",
       "3 2018-11-19  #3cb3edc483bc5d9bd95b677b97a3521c  @charlessay_30   \n",
       "4 2018-11-22  #e714f32a816fd9c8e553cd7a7573b71c  @charlessay_30   \n",
       "\n",
       "                   title                    sub_title    author_id     reg_dt  \\\n",
       "0  프랑스 인큐베이팅 프로그램 킥오프(2)  자신의 비전을 이루기 위해 여행을 떠나는 길동무들  @charlessay 2018-11-18   \n",
       "1  프랑스 인큐베이팅 프로그램 킥오프(2)  자신의 비전을 이루기 위해 여행을 떠나는 길동무들  @charlessay 2018-11-18   \n",
       "2  프랑스 인큐베이팅 프로그램 킥오프(2)  자신의 비전을 이루기 위해 여행을 떠나는 길동무들  @charlessay 2018-11-18   \n",
       "3  프랑스 인큐베이팅 프로그램 킥오프(2)  자신의 비전을 이루기 위해 여행을 떠나는 길동무들  @charlessay 2018-11-18   \n",
       "4  프랑스 인큐베이팅 프로그램 킥오프(2)  자신의 비전을 이루기 위해 여행을 떠나는 길동무들  @charlessay 2018-11-18   \n",
       "\n",
       "  type                          display_url keyword_list  magazine_id  \\\n",
       "0  매거진  https://brunch.co.kr/@charlessay/30   [IT, 스타트업]        37242   \n",
       "1  매거진  https://brunch.co.kr/@charlessay/30   [IT, 스타트업]        37242   \n",
       "2  매거진  https://brunch.co.kr/@charlessay/30   [IT, 스타트업]        37242   \n",
       "3  매거진  https://brunch.co.kr/@charlessay/30   [IT, 스타트업]        37242   \n",
       "4  매거진  https://brunch.co.kr/@charlessay/30   [IT, 스타트업]        37242   \n",
       "\n",
       "   off_day  read_cnt class  \n",
       "0        3        31   25%  \n",
       "1        0        31   25%  \n",
       "2        0        31   25%  \n",
       "3        1        31   25%  \n",
       "4        4        31   25%  "
      ]
     },
     "execution_count": 83,
     "metadata": {},
     "output_type": "execute_result"
    }
   ],
   "source": [
    "off_data.head()"
   ]
  },
  {
   "cell_type": "code",
   "execution_count": 84,
   "metadata": {},
   "outputs": [],
   "source": [
    "off_data_agg = off_data.groupby(['article_id', 'off_day', 'read_dt', 'reg_dt', 'title', 'author_id', 'type', 'display_url', 'magazine_id', 'class'], as_index=False)['user_id'].count()\n",
    "\n"
   ]
  },
  {
   "cell_type": "code",
   "execution_count": 173,
   "metadata": {},
   "outputs": [
    {
     "data": {
      "text/plain": [
       "(4584757, 11)"
      ]
     },
     "execution_count": 173,
     "metadata": {},
     "output_type": "execute_result"
    }
   ],
   "source": [
    "off_data_agg.shape"
   ]
  },
  {
   "cell_type": "code",
   "execution_count": 175,
   "metadata": {},
   "outputs": [
    {
     "data": {
      "text/html": [
       "<div>\n",
       "<style scoped>\n",
       "    .dataframe tbody tr th:only-of-type {\n",
       "        vertical-align: middle;\n",
       "    }\n",
       "\n",
       "    .dataframe tbody tr th {\n",
       "        vertical-align: top;\n",
       "    }\n",
       "\n",
       "    .dataframe thead th {\n",
       "        text-align: right;\n",
       "    }\n",
       "</style>\n",
       "<table border=\"1\" class=\"dataframe\">\n",
       "  <thead>\n",
       "    <tr style=\"text-align: right;\">\n",
       "      <th></th>\n",
       "      <th>article_id</th>\n",
       "      <th>off_day</th>\n",
       "      <th>read_dt</th>\n",
       "      <th>reg_dt</th>\n",
       "      <th>title</th>\n",
       "      <th>author_id</th>\n",
       "      <th>type</th>\n",
       "      <th>display_url</th>\n",
       "      <th>magazine_id</th>\n",
       "      <th>class</th>\n",
       "      <th>user_id</th>\n",
       "    </tr>\n",
       "  </thead>\n",
       "  <tbody>\n",
       "    <tr>\n",
       "      <th>0</th>\n",
       "      <td>@002_10</td>\n",
       "      <td>431</td>\n",
       "      <td>2018-11-08</td>\n",
       "      <td>2017-09-03</td>\n",
       "      <td>'80% 안심계란' 포기하게 한 20% 살충제 계란</td>\n",
       "      <td>@002</td>\n",
       "      <td>개인</td>\n",
       "      <td>https://brunch.co.kr/@002/10</td>\n",
       "      <td>0</td>\n",
       "      <td>100%</td>\n",
       "      <td>1</td>\n",
       "    </tr>\n",
       "    <tr>\n",
       "      <th>1</th>\n",
       "      <td>@002_10</td>\n",
       "      <td>515</td>\n",
       "      <td>2019-01-31</td>\n",
       "      <td>2017-09-03</td>\n",
       "      <td>'80% 안심계란' 포기하게 한 20% 살충제 계란</td>\n",
       "      <td>@002</td>\n",
       "      <td>개인</td>\n",
       "      <td>https://brunch.co.kr/@002/10</td>\n",
       "      <td>0</td>\n",
       "      <td>100%</td>\n",
       "      <td>1</td>\n",
       "    </tr>\n",
       "    <tr>\n",
       "      <th>2</th>\n",
       "      <td>@002_2</td>\n",
       "      <td>469</td>\n",
       "      <td>2018-11-07</td>\n",
       "      <td>2017-07-26</td>\n",
       "      <td>청년들은 '왜' 농촌으로 갔을까?</td>\n",
       "      <td>@002</td>\n",
       "      <td>개인</td>\n",
       "      <td>https://brunch.co.kr/@002/2</td>\n",
       "      <td>0</td>\n",
       "      <td>75%</td>\n",
       "      <td>1</td>\n",
       "    </tr>\n",
       "    <tr>\n",
       "      <th>3</th>\n",
       "      <td>@002_2</td>\n",
       "      <td>477</td>\n",
       "      <td>2018-11-15</td>\n",
       "      <td>2017-07-26</td>\n",
       "      <td>청년들은 '왜' 농촌으로 갔을까?</td>\n",
       "      <td>@002</td>\n",
       "      <td>개인</td>\n",
       "      <td>https://brunch.co.kr/@002/2</td>\n",
       "      <td>0</td>\n",
       "      <td>75%</td>\n",
       "      <td>2</td>\n",
       "    </tr>\n",
       "    <tr>\n",
       "      <th>4</th>\n",
       "      <td>@002_2</td>\n",
       "      <td>498</td>\n",
       "      <td>2018-12-06</td>\n",
       "      <td>2017-07-26</td>\n",
       "      <td>청년들은 '왜' 농촌으로 갔을까?</td>\n",
       "      <td>@002</td>\n",
       "      <td>개인</td>\n",
       "      <td>https://brunch.co.kr/@002/2</td>\n",
       "      <td>0</td>\n",
       "      <td>75%</td>\n",
       "      <td>1</td>\n",
       "    </tr>\n",
       "    <tr>\n",
       "      <th>...</th>\n",
       "      <td>...</td>\n",
       "      <td>...</td>\n",
       "      <td>...</td>\n",
       "      <td>...</td>\n",
       "      <td>...</td>\n",
       "      <td>...</td>\n",
       "      <td>...</td>\n",
       "      <td>...</td>\n",
       "      <td>...</td>\n",
       "      <td>...</td>\n",
       "      <td>...</td>\n",
       "    </tr>\n",
       "    <tr>\n",
       "      <th>4584752</th>\n",
       "      <td>@zzzaam_9</td>\n",
       "      <td>610</td>\n",
       "      <td>2019-02-03</td>\n",
       "      <td>2017-06-03</td>\n",
       "      <td>디자인팀에 작가가 필요한 이유</td>\n",
       "      <td>@zzzaam</td>\n",
       "      <td>개인</td>\n",
       "      <td>https://brunch.co.kr/@zzzaam/9</td>\n",
       "      <td>0</td>\n",
       "      <td>25%</td>\n",
       "      <td>2</td>\n",
       "    </tr>\n",
       "    <tr>\n",
       "      <th>4584753</th>\n",
       "      <td>@zzzaam_9</td>\n",
       "      <td>614</td>\n",
       "      <td>2019-02-07</td>\n",
       "      <td>2017-06-03</td>\n",
       "      <td>디자인팀에 작가가 필요한 이유</td>\n",
       "      <td>@zzzaam</td>\n",
       "      <td>개인</td>\n",
       "      <td>https://brunch.co.kr/@zzzaam/9</td>\n",
       "      <td>0</td>\n",
       "      <td>25%</td>\n",
       "      <td>1</td>\n",
       "    </tr>\n",
       "    <tr>\n",
       "      <th>4584754</th>\n",
       "      <td>@zzzaam_9</td>\n",
       "      <td>629</td>\n",
       "      <td>2019-02-22</td>\n",
       "      <td>2017-06-03</td>\n",
       "      <td>디자인팀에 작가가 필요한 이유</td>\n",
       "      <td>@zzzaam</td>\n",
       "      <td>개인</td>\n",
       "      <td>https://brunch.co.kr/@zzzaam/9</td>\n",
       "      <td>0</td>\n",
       "      <td>25%</td>\n",
       "      <td>2</td>\n",
       "    </tr>\n",
       "    <tr>\n",
       "      <th>4584755</th>\n",
       "      <td>@zzzaam_9</td>\n",
       "      <td>634</td>\n",
       "      <td>2019-02-27</td>\n",
       "      <td>2017-06-03</td>\n",
       "      <td>디자인팀에 작가가 필요한 이유</td>\n",
       "      <td>@zzzaam</td>\n",
       "      <td>개인</td>\n",
       "      <td>https://brunch.co.kr/@zzzaam/9</td>\n",
       "      <td>0</td>\n",
       "      <td>25%</td>\n",
       "      <td>1</td>\n",
       "    </tr>\n",
       "    <tr>\n",
       "      <th>4584756</th>\n",
       "      <td>@zzzwhite_4</td>\n",
       "      <td>922</td>\n",
       "      <td>2019-01-08</td>\n",
       "      <td>2016-06-30</td>\n",
       "      <td>너는 희망이다.</td>\n",
       "      <td>@zzzwhite</td>\n",
       "      <td>개인</td>\n",
       "      <td>https://brunch.co.kr/@zzzwhite/4</td>\n",
       "      <td>0</td>\n",
       "      <td>100%</td>\n",
       "      <td>2</td>\n",
       "    </tr>\n",
       "  </tbody>\n",
       "</table>\n",
       "<p>4584686 rows × 11 columns</p>\n",
       "</div>"
      ],
      "text/plain": [
       "          article_id  off_day    read_dt     reg_dt  \\\n",
       "0            @002_10      431 2018-11-08 2017-09-03   \n",
       "1            @002_10      515 2019-01-31 2017-09-03   \n",
       "2             @002_2      469 2018-11-07 2017-07-26   \n",
       "3             @002_2      477 2018-11-15 2017-07-26   \n",
       "4             @002_2      498 2018-12-06 2017-07-26   \n",
       "...              ...      ...        ...        ...   \n",
       "4584752    @zzzaam_9      610 2019-02-03 2017-06-03   \n",
       "4584753    @zzzaam_9      614 2019-02-07 2017-06-03   \n",
       "4584754    @zzzaam_9      629 2019-02-22 2017-06-03   \n",
       "4584755    @zzzaam_9      634 2019-02-27 2017-06-03   \n",
       "4584756  @zzzwhite_4      922 2019-01-08 2016-06-30   \n",
       "\n",
       "                                title  author_id type  \\\n",
       "0        '80% 안심계란' 포기하게 한 20% 살충제 계란       @002   개인   \n",
       "1        '80% 안심계란' 포기하게 한 20% 살충제 계란       @002   개인   \n",
       "2                  청년들은 '왜' 농촌으로 갔을까?       @002   개인   \n",
       "3                  청년들은 '왜' 농촌으로 갔을까?       @002   개인   \n",
       "4                  청년들은 '왜' 농촌으로 갔을까?       @002   개인   \n",
       "...                               ...        ...  ...   \n",
       "4584752              디자인팀에 작가가 필요한 이유    @zzzaam   개인   \n",
       "4584753              디자인팀에 작가가 필요한 이유    @zzzaam   개인   \n",
       "4584754              디자인팀에 작가가 필요한 이유    @zzzaam   개인   \n",
       "4584755              디자인팀에 작가가 필요한 이유    @zzzaam   개인   \n",
       "4584756                      너는 희망이다.  @zzzwhite   개인   \n",
       "\n",
       "                              display_url  magazine_id class  user_id  \n",
       "0            https://brunch.co.kr/@002/10            0  100%        1  \n",
       "1            https://brunch.co.kr/@002/10            0  100%        1  \n",
       "2             https://brunch.co.kr/@002/2            0   75%        1  \n",
       "3             https://brunch.co.kr/@002/2            0   75%        2  \n",
       "4             https://brunch.co.kr/@002/2            0   75%        1  \n",
       "...                                   ...          ...   ...      ...  \n",
       "4584752    https://brunch.co.kr/@zzzaam/9            0   25%        2  \n",
       "4584753    https://brunch.co.kr/@zzzaam/9            0   25%        1  \n",
       "4584754    https://brunch.co.kr/@zzzaam/9            0   25%        2  \n",
       "4584755    https://brunch.co.kr/@zzzaam/9            0   25%        1  \n",
       "4584756  https://brunch.co.kr/@zzzwhite/4            0  100%        2  \n",
       "\n",
       "[4584686 rows x 11 columns]"
      ]
     },
     "execution_count": 175,
     "metadata": {},
     "output_type": "execute_result"
    }
   ],
   "source": [
    "off_data_agg[off_data_agg.off_day >= 0]"
   ]
  },
  {
   "cell_type": "code",
   "execution_count": 176,
   "metadata": {},
   "outputs": [
    {
     "data": {
      "text/html": [
       "<div>\n",
       "<style scoped>\n",
       "    .dataframe tbody tr th:only-of-type {\n",
       "        vertical-align: middle;\n",
       "    }\n",
       "\n",
       "    .dataframe tbody tr th {\n",
       "        vertical-align: top;\n",
       "    }\n",
       "\n",
       "    .dataframe thead th {\n",
       "        text-align: right;\n",
       "    }\n",
       "</style>\n",
       "<table border=\"1\" class=\"dataframe\">\n",
       "  <thead>\n",
       "    <tr style=\"text-align: right;\">\n",
       "      <th></th>\n",
       "      <th>article_id</th>\n",
       "      <th>off_day</th>\n",
       "      <th>read_dt</th>\n",
       "      <th>reg_dt</th>\n",
       "      <th>title</th>\n",
       "      <th>author_id</th>\n",
       "      <th>type</th>\n",
       "      <th>display_url</th>\n",
       "      <th>magazine_id</th>\n",
       "      <th>class</th>\n",
       "      <th>user_id</th>\n",
       "    </tr>\n",
       "  </thead>\n",
       "  <tbody>\n",
       "    <tr>\n",
       "      <th>166</th>\n",
       "      <td>@01023920600_18</td>\n",
       "      <td>-26324</td>\n",
       "      <td>2018-12-05</td>\n",
       "      <td>2090-12-31</td>\n",
       "      <td>김영화가</td>\n",
       "      <td>@01023920600</td>\n",
       "      <td>매거진</td>\n",
       "      <td>https://brunch.co.kr/@01023920600/18</td>\n",
       "      <td>8123</td>\n",
       "      <td>75%</td>\n",
       "      <td>2</td>\n",
       "    </tr>\n",
       "    <tr>\n",
       "      <th>167</th>\n",
       "      <td>@01023920600_18</td>\n",
       "      <td>-26303</td>\n",
       "      <td>2018-12-26</td>\n",
       "      <td>2090-12-31</td>\n",
       "      <td>김영화가</td>\n",
       "      <td>@01023920600</td>\n",
       "      <td>매거진</td>\n",
       "      <td>https://brunch.co.kr/@01023920600/18</td>\n",
       "      <td>8123</td>\n",
       "      <td>75%</td>\n",
       "      <td>2</td>\n",
       "    </tr>\n",
       "    <tr>\n",
       "      <th>168</th>\n",
       "      <td>@01023920600_18</td>\n",
       "      <td>-26280</td>\n",
       "      <td>2019-01-18</td>\n",
       "      <td>2090-12-31</td>\n",
       "      <td>김영화가</td>\n",
       "      <td>@01023920600</td>\n",
       "      <td>매거진</td>\n",
       "      <td>https://brunch.co.kr/@01023920600/18</td>\n",
       "      <td>8123</td>\n",
       "      <td>75%</td>\n",
       "      <td>1</td>\n",
       "    </tr>\n",
       "    <tr>\n",
       "      <th>172</th>\n",
       "      <td>@01023920600_2</td>\n",
       "      <td>-26324</td>\n",
       "      <td>2018-12-05</td>\n",
       "      <td>2090-12-31</td>\n",
       "      <td>효자되는 소액투자  돈불리는 소액투자</td>\n",
       "      <td>@01023920600</td>\n",
       "      <td>개인</td>\n",
       "      <td>https://brunch.co.kr/@01023920600/2</td>\n",
       "      <td>0</td>\n",
       "      <td>75%</td>\n",
       "      <td>2</td>\n",
       "    </tr>\n",
       "    <tr>\n",
       "      <th>173</th>\n",
       "      <td>@01023920600_2</td>\n",
       "      <td>-26303</td>\n",
       "      <td>2018-12-26</td>\n",
       "      <td>2090-12-31</td>\n",
       "      <td>효자되는 소액투자  돈불리는 소액투자</td>\n",
       "      <td>@01023920600</td>\n",
       "      <td>개인</td>\n",
       "      <td>https://brunch.co.kr/@01023920600/2</td>\n",
       "      <td>0</td>\n",
       "      <td>75%</td>\n",
       "      <td>2</td>\n",
       "    </tr>\n",
       "    <tr>\n",
       "      <th>...</th>\n",
       "      <td>...</td>\n",
       "      <td>...</td>\n",
       "      <td>...</td>\n",
       "      <td>...</td>\n",
       "      <td>...</td>\n",
       "      <td>...</td>\n",
       "      <td>...</td>\n",
       "      <td>...</td>\n",
       "      <td>...</td>\n",
       "      <td>...</td>\n",
       "      <td>...</td>\n",
       "    </tr>\n",
       "    <tr>\n",
       "      <th>3624811</th>\n",
       "      <td>@snoopyno_115</td>\n",
       "      <td>-26259</td>\n",
       "      <td>2019-02-08</td>\n",
       "      <td>2090-12-31</td>\n",
       "      <td>밤벚꽃</td>\n",
       "      <td>@snoopyno</td>\n",
       "      <td>매거진</td>\n",
       "      <td>https://brunch.co.kr/@snoopyno/115</td>\n",
       "      <td>6587</td>\n",
       "      <td>75%</td>\n",
       "      <td>1</td>\n",
       "    </tr>\n",
       "    <tr>\n",
       "      <th>3624812</th>\n",
       "      <td>@snoopyno_115</td>\n",
       "      <td>-26258</td>\n",
       "      <td>2019-02-09</td>\n",
       "      <td>2090-12-31</td>\n",
       "      <td>밤벚꽃</td>\n",
       "      <td>@snoopyno</td>\n",
       "      <td>매거진</td>\n",
       "      <td>https://brunch.co.kr/@snoopyno/115</td>\n",
       "      <td>6587</td>\n",
       "      <td>75%</td>\n",
       "      <td>2</td>\n",
       "    </tr>\n",
       "    <tr>\n",
       "      <th>3624813</th>\n",
       "      <td>@snoopyno_115</td>\n",
       "      <td>-26252</td>\n",
       "      <td>2019-02-15</td>\n",
       "      <td>2090-12-31</td>\n",
       "      <td>밤벚꽃</td>\n",
       "      <td>@snoopyno</td>\n",
       "      <td>매거진</td>\n",
       "      <td>https://brunch.co.kr/@snoopyno/115</td>\n",
       "      <td>6587</td>\n",
       "      <td>75%</td>\n",
       "      <td>2</td>\n",
       "    </tr>\n",
       "    <tr>\n",
       "      <th>4019666</th>\n",
       "      <td>@tnrud572_70</td>\n",
       "      <td>-1</td>\n",
       "      <td>2019-02-11</td>\n",
       "      <td>2019-02-12</td>\n",
       "      <td>정신병원이지만 보통 사람입니다</td>\n",
       "      <td>@tnrud572</td>\n",
       "      <td>매거진</td>\n",
       "      <td>https://brunch.co.kr/@tnrud572/70</td>\n",
       "      <td>40709</td>\n",
       "      <td>5%</td>\n",
       "      <td>146</td>\n",
       "    </tr>\n",
       "    <tr>\n",
       "      <th>4510525</th>\n",
       "      <td>@ysp0722_295</td>\n",
       "      <td>-26241</td>\n",
       "      <td>2019-02-26</td>\n",
       "      <td>2090-12-31</td>\n",
       "      <td>블로거 존 모로</td>\n",
       "      <td>@ysp0722</td>\n",
       "      <td>매거진</td>\n",
       "      <td>https://brunch.co.kr/@ysp0722/295</td>\n",
       "      <td>7407</td>\n",
       "      <td>100%</td>\n",
       "      <td>1</td>\n",
       "    </tr>\n",
       "  </tbody>\n",
       "</table>\n",
       "<p>71 rows × 11 columns</p>\n",
       "</div>"
      ],
      "text/plain": [
       "              article_id  off_day    read_dt     reg_dt                 title  \\\n",
       "166      @01023920600_18   -26324 2018-12-05 2090-12-31                  김영화가   \n",
       "167      @01023920600_18   -26303 2018-12-26 2090-12-31                  김영화가   \n",
       "168      @01023920600_18   -26280 2019-01-18 2090-12-31                  김영화가   \n",
       "172       @01023920600_2   -26324 2018-12-05 2090-12-31  효자되는 소액투자  돈불리는 소액투자   \n",
       "173       @01023920600_2   -26303 2018-12-26 2090-12-31  효자되는 소액투자  돈불리는 소액투자   \n",
       "...                  ...      ...        ...        ...                   ...   \n",
       "3624811    @snoopyno_115   -26259 2019-02-08 2090-12-31                   밤벚꽃   \n",
       "3624812    @snoopyno_115   -26258 2019-02-09 2090-12-31                   밤벚꽃   \n",
       "3624813    @snoopyno_115   -26252 2019-02-15 2090-12-31                   밤벚꽃   \n",
       "4019666     @tnrud572_70       -1 2019-02-11 2019-02-12      정신병원이지만 보통 사람입니다   \n",
       "4510525     @ysp0722_295   -26241 2019-02-26 2090-12-31              블로거 존 모로   \n",
       "\n",
       "            author_id type                           display_url  magazine_id  \\\n",
       "166      @01023920600  매거진  https://brunch.co.kr/@01023920600/18         8123   \n",
       "167      @01023920600  매거진  https://brunch.co.kr/@01023920600/18         8123   \n",
       "168      @01023920600  매거진  https://brunch.co.kr/@01023920600/18         8123   \n",
       "172      @01023920600   개인   https://brunch.co.kr/@01023920600/2            0   \n",
       "173      @01023920600   개인   https://brunch.co.kr/@01023920600/2            0   \n",
       "...               ...  ...                                   ...          ...   \n",
       "3624811     @snoopyno  매거진    https://brunch.co.kr/@snoopyno/115         6587   \n",
       "3624812     @snoopyno  매거진    https://brunch.co.kr/@snoopyno/115         6587   \n",
       "3624813     @snoopyno  매거진    https://brunch.co.kr/@snoopyno/115         6587   \n",
       "4019666     @tnrud572  매거진     https://brunch.co.kr/@tnrud572/70        40709   \n",
       "4510525      @ysp0722  매거진     https://brunch.co.kr/@ysp0722/295         7407   \n",
       "\n",
       "        class  user_id  \n",
       "166       75%        2  \n",
       "167       75%        2  \n",
       "168       75%        1  \n",
       "172       75%        2  \n",
       "173       75%        2  \n",
       "...       ...      ...  \n",
       "3624811   75%        1  \n",
       "3624812   75%        2  \n",
       "3624813   75%        2  \n",
       "4019666    5%      146  \n",
       "4510525  100%        1  \n",
       "\n",
       "[71 rows x 11 columns]"
      ]
     },
     "execution_count": 176,
     "metadata": {},
     "output_type": "execute_result"
    }
   ],
   "source": [
    "# 등록일자가 missing된 로그들\n",
    "off_data_agg[off_data_agg.off_day < 0]"
   ]
  },
  {
   "cell_type": "markdown",
   "metadata": {},
   "source": [
    "### b. 경과일에 따른 글 소비 변화\n"
   ]
  },
  {
   "cell_type": "code",
   "execution_count": 86,
   "metadata": {},
   "outputs": [],
   "source": [
    "# 경과일자별 소비수 총합\n",
    "off_day_sum = off_data_agg[(off_data_agg['reg_dt'] >= datetime(2018, 10, 1)) & (off_data_agg.off_day >= 0)].groupby('off_day')['user_id'].sum()\n",
    "\n"
   ]
  },
  {
   "cell_type": "code",
   "execution_count": 87,
   "metadata": {},
   "outputs": [],
   "source": [
    "# 경과일자에 등록되어있는 아티클 수\n",
    "reg_dt_cnt = off_data_agg[(off_data_agg['reg_dt'] >= datetime(2018, 10, 1)) & (off_data_agg.off_day >= 0)].groupby('reg_dt')['article_id'].nunique()\n",
    "\n"
   ]
  },
  {
   "cell_type": "code",
   "execution_count": 88,
   "metadata": {},
   "outputs": [],
   "source": [
    "off_day_avg = pd.concat([off_day_sum, reg_dt_cnt.cumsum().sort_index(ascending=False).reset_index()], axis=1)\n"
   ]
  },
  {
   "cell_type": "code",
   "execution_count": 223,
   "metadata": {},
   "outputs": [
    {
     "data": {
      "text/plain": [
       "off_day\n",
       "0      3142049\n",
       "1      1726882\n",
       "2      1017862\n",
       "3       776093\n",
       "4       632960\n",
       "        ...   \n",
       "146        432\n",
       "147        428\n",
       "148        262\n",
       "149        154\n",
       "150         67\n",
       "Name: user_id, Length: 151, dtype: int64"
      ]
     },
     "execution_count": 223,
     "metadata": {},
     "output_type": "execute_result"
    }
   ],
   "source": [
    "off_day_sum"
   ]
  },
  {
   "cell_type": "code",
   "execution_count": 89,
   "metadata": {},
   "outputs": [],
   "source": [
    "off_day_avg['off_avg'] = off_day_avg['user_id'] / off_day_avg['article_id']\n"
   ]
  },
  {
   "cell_type": "code",
   "execution_count": 90,
   "metadata": {},
   "outputs": [],
   "source": [
    "off_day_avg['percentile'] = off_day_avg['off_avg'] / off_day_avg['off_avg'].sum()\n"
   ]
  },
  {
   "cell_type": "code",
   "execution_count": 91,
   "metadata": {},
   "outputs": [],
   "source": [
    "off_day_avg['cum_per'] = off_day_avg['percentile'].cumsum()\n"
   ]
  },
  {
   "cell_type": "code",
   "execution_count": 92,
   "metadata": {},
   "outputs": [
    {
     "data": {
      "text/html": [
       "<div>\n",
       "<style scoped>\n",
       "    .dataframe tbody tr th:only-of-type {\n",
       "        vertical-align: middle;\n",
       "    }\n",
       "\n",
       "    .dataframe tbody tr th {\n",
       "        vertical-align: top;\n",
       "    }\n",
       "\n",
       "    .dataframe thead th {\n",
       "        text-align: right;\n",
       "    }\n",
       "</style>\n",
       "<table border=\"1\" class=\"dataframe\">\n",
       "  <thead>\n",
       "    <tr style=\"text-align: right;\">\n",
       "      <th></th>\n",
       "      <th>user_id</th>\n",
       "      <th>reg_dt</th>\n",
       "      <th>article_id</th>\n",
       "      <th>off_avg</th>\n",
       "      <th>percentile</th>\n",
       "      <th>cum_per</th>\n",
       "    </tr>\n",
       "  </thead>\n",
       "  <tbody>\n",
       "    <tr>\n",
       "      <th>0</th>\n",
       "      <td>3142049</td>\n",
       "      <td>2019-02-28</td>\n",
       "      <td>107356</td>\n",
       "      <td>29.267568</td>\n",
       "      <td>0.207084</td>\n",
       "      <td>0.207084</td>\n",
       "    </tr>\n",
       "    <tr>\n",
       "      <th>1</th>\n",
       "      <td>1726882</td>\n",
       "      <td>2019-02-27</td>\n",
       "      <td>106649</td>\n",
       "      <td>16.192201</td>\n",
       "      <td>0.114569</td>\n",
       "      <td>0.321653</td>\n",
       "    </tr>\n",
       "    <tr>\n",
       "      <th>2</th>\n",
       "      <td>1017862</td>\n",
       "      <td>2019-02-26</td>\n",
       "      <td>105891</td>\n",
       "      <td>9.612356</td>\n",
       "      <td>0.068013</td>\n",
       "      <td>0.389665</td>\n",
       "    </tr>\n",
       "    <tr>\n",
       "      <th>3</th>\n",
       "      <td>776093</td>\n",
       "      <td>2019-02-25</td>\n",
       "      <td>105156</td>\n",
       "      <td>7.380397</td>\n",
       "      <td>0.052220</td>\n",
       "      <td>0.441886</td>\n",
       "    </tr>\n",
       "    <tr>\n",
       "      <th>4</th>\n",
       "      <td>632960</td>\n",
       "      <td>2019-02-24</td>\n",
       "      <td>104308</td>\n",
       "      <td>6.068183</td>\n",
       "      <td>0.042936</td>\n",
       "      <td>0.484821</td>\n",
       "    </tr>\n",
       "    <tr>\n",
       "      <th>5</th>\n",
       "      <td>529081</td>\n",
       "      <td>2019-02-23</td>\n",
       "      <td>103611</td>\n",
       "      <td>5.106417</td>\n",
       "      <td>0.036131</td>\n",
       "      <td>0.520952</td>\n",
       "    </tr>\n",
       "    <tr>\n",
       "      <th>6</th>\n",
       "      <td>436611</td>\n",
       "      <td>2019-02-22</td>\n",
       "      <td>103019</td>\n",
       "      <td>4.238160</td>\n",
       "      <td>0.029987</td>\n",
       "      <td>0.550939</td>\n",
       "    </tr>\n",
       "    <tr>\n",
       "      <th>7</th>\n",
       "      <td>412530</td>\n",
       "      <td>2019-02-21</td>\n",
       "      <td>102167</td>\n",
       "      <td>4.037801</td>\n",
       "      <td>0.028570</td>\n",
       "      <td>0.579509</td>\n",
       "    </tr>\n",
       "    <tr>\n",
       "      <th>8</th>\n",
       "      <td>236772</td>\n",
       "      <td>2019-02-20</td>\n",
       "      <td>101343</td>\n",
       "      <td>2.336343</td>\n",
       "      <td>0.016531</td>\n",
       "      <td>0.596040</td>\n",
       "    </tr>\n",
       "    <tr>\n",
       "      <th>9</th>\n",
       "      <td>193039</td>\n",
       "      <td>2019-02-19</td>\n",
       "      <td>100511</td>\n",
       "      <td>1.920576</td>\n",
       "      <td>0.013589</td>\n",
       "      <td>0.609629</td>\n",
       "    </tr>\n",
       "  </tbody>\n",
       "</table>\n",
       "</div>"
      ],
      "text/plain": [
       "   user_id     reg_dt  article_id    off_avg  percentile   cum_per\n",
       "0  3142049 2019-02-28      107356  29.267568    0.207084  0.207084\n",
       "1  1726882 2019-02-27      106649  16.192201    0.114569  0.321653\n",
       "2  1017862 2019-02-26      105891   9.612356    0.068013  0.389665\n",
       "3   776093 2019-02-25      105156   7.380397    0.052220  0.441886\n",
       "4   632960 2019-02-24      104308   6.068183    0.042936  0.484821\n",
       "5   529081 2019-02-23      103611   5.106417    0.036131  0.520952\n",
       "6   436611 2019-02-22      103019   4.238160    0.029987  0.550939\n",
       "7   412530 2019-02-21      102167   4.037801    0.028570  0.579509\n",
       "8   236772 2019-02-20      101343   2.336343    0.016531  0.596040\n",
       "9   193039 2019-02-19      100511   1.920576    0.013589  0.609629"
      ]
     },
     "execution_count": 92,
     "metadata": {},
     "output_type": "execute_result"
    }
   ],
   "source": [
    "off_day_avg.head(10)\n"
   ]
  },
  {
   "cell_type": "code",
   "execution_count": 93,
   "metadata": {},
   "outputs": [
    {
     "data": {
      "text/plain": [
       "Text(0, 0.5, '평균 글 소비수')"
      ]
     },
     "execution_count": 93,
     "metadata": {},
     "output_type": "execute_result"
    },
    {
     "data": {
      "image/png": "[encoded data removed]",
      "text/plain": [
       "<Figure size 1440x720 with 1 Axes>"
      ]
     },
     "metadata": {
      "needs_background": "light"
     },
     "output_type": "display_data"
    }
   ],
   "source": [
    "sns.lineplot(data=off_day_avg, x=off_day_avg.index, y='off_avg', color='#49beb7')\n",
    "plt.title('경과일에 따른 글 소비수 변화')\n",
    "plt.xlabel('경과일')\n",
    "plt.ylabel('평균 글 소비수')"
   ]
  },
  {
   "cell_type": "code",
   "execution_count": null,
   "metadata": {},
   "outputs": [],
   "source": []
  },
  {
   "cell_type": "markdown",
   "metadata": {},
   "source": [
    "## 4. 위클리 매거진\n"
   ]
  },
  {
   "cell_type": "code",
   "execution_count": 94,
   "metadata": {},
   "outputs": [],
   "source": [
    "magazine_34075 = atc_read_cnt_nn[atc_read_cnt_nn.magazine_id == 34075]\n"
   ]
  },
  {
   "cell_type": "code",
   "execution_count": 95,
   "metadata": {},
   "outputs": [
    {
     "data": {
      "text/html": [
       "<div>\n",
       "<style scoped>\n",
       "    .dataframe tbody tr th:only-of-type {\n",
       "        vertical-align: middle;\n",
       "    }\n",
       "\n",
       "    .dataframe tbody tr th {\n",
       "        vertical-align: top;\n",
       "    }\n",
       "\n",
       "    .dataframe thead th {\n",
       "        text-align: right;\n",
       "    }\n",
       "</style>\n",
       "<table border=\"1\" class=\"dataframe\">\n",
       "  <thead>\n",
       "    <tr style=\"text-align: right;\">\n",
       "      <th></th>\n",
       "      <th>article_id</th>\n",
       "      <th>read_cnt</th>\n",
       "      <th>magazine_id</th>\n",
       "      <th>author_id</th>\n",
       "      <th>title</th>\n",
       "      <th>keyword_list</th>\n",
       "      <th>display_url</th>\n",
       "      <th>sub_title</th>\n",
       "      <th>reg_ts</th>\n",
       "      <th>id</th>\n",
       "      <th>reg_datetime</th>\n",
       "      <th>reg_dt</th>\n",
       "      <th>type</th>\n",
       "      <th>class</th>\n",
       "    </tr>\n",
       "  </thead>\n",
       "  <tbody>\n",
       "    <tr>\n",
       "      <th>299425</th>\n",
       "      <td>@merryseo_51</td>\n",
       "      <td>3946</td>\n",
       "      <td>34075.0</td>\n",
       "      <td>@merryseo</td>\n",
       "      <td>\"프리랜서입니다\"</td>\n",
       "      <td>[퇴사, 일러스트, 에세이]</td>\n",
       "      <td>https://brunch.co.kr/@merryseo/51</td>\n",
       "      <td>기술도 없는 사무직 퇴사자의 프리랜서 도전기</td>\n",
       "      <td>1.532531e+12</td>\n",
       "      <td>51.0</td>\n",
       "      <td>2018-07-26</td>\n",
       "      <td>2018-07-26</td>\n",
       "      <td>매거진</td>\n",
       "      <td>5%</td>\n",
       "    </tr>\n",
       "    <tr>\n",
       "      <th>299426</th>\n",
       "      <td>@merryseo_52</td>\n",
       "      <td>4906</td>\n",
       "      <td>34075.0</td>\n",
       "      <td>@merryseo</td>\n",
       "      <td>퇴사를 결심하다</td>\n",
       "      <td>[퇴사, 에세이, 일러스트]</td>\n",
       "      <td>https://brunch.co.kr/@merryseo/52</td>\n",
       "      <td>기술도 없는 사무직 퇴사자의 프리랜서 도전기</td>\n",
       "      <td>1.533136e+12</td>\n",
       "      <td>52.0</td>\n",
       "      <td>2018-08-02</td>\n",
       "      <td>2018-08-02</td>\n",
       "      <td>매거진</td>\n",
       "      <td>5%</td>\n",
       "    </tr>\n",
       "    <tr>\n",
       "      <th>299427</th>\n",
       "      <td>@merryseo_53</td>\n",
       "      <td>7620</td>\n",
       "      <td>34075.0</td>\n",
       "      <td>@merryseo</td>\n",
       "      <td>회사 체질이 아니야</td>\n",
       "      <td>[퇴사, 에세이, 일러스트]</td>\n",
       "      <td>https://brunch.co.kr/@merryseo/53</td>\n",
       "      <td>기술도 없는 사무직 퇴사자의 프리랜서 도전기</td>\n",
       "      <td>1.533740e+12</td>\n",
       "      <td>53.0</td>\n",
       "      <td>2018-08-09</td>\n",
       "      <td>2018-08-09</td>\n",
       "      <td>매거진</td>\n",
       "      <td>5%</td>\n",
       "    </tr>\n",
       "    <tr>\n",
       "      <th>299428</th>\n",
       "      <td>@merryseo_54</td>\n",
       "      <td>3134</td>\n",
       "      <td>34075.0</td>\n",
       "      <td>@merryseo</td>\n",
       "      <td>프리랜서? 좋지. 근데 기술은 있고?</td>\n",
       "      <td>[퇴사, 프리랜서, 에세이]</td>\n",
       "      <td>https://brunch.co.kr/@merryseo/54</td>\n",
       "      <td>기술도 없는 사무직 퇴사자의 프리랜서 도전기</td>\n",
       "      <td>1.534345e+12</td>\n",
       "      <td>54.0</td>\n",
       "      <td>2018-08-16</td>\n",
       "      <td>2018-08-16</td>\n",
       "      <td>매거진</td>\n",
       "      <td>5%</td>\n",
       "    </tr>\n",
       "    <tr>\n",
       "      <th>299429</th>\n",
       "      <td>@merryseo_55</td>\n",
       "      <td>3112</td>\n",
       "      <td>34075.0</td>\n",
       "      <td>@merryseo</td>\n",
       "      <td>생각보다 넓고 깊은 프리랜서의 세계</td>\n",
       "      <td>[프리랜서, 퇴사, 에세이]</td>\n",
       "      <td>https://brunch.co.kr/@merryseo/55</td>\n",
       "      <td>기술도 없는 사무직 퇴사자의 프리랜서 도전기</td>\n",
       "      <td>1.534950e+12</td>\n",
       "      <td>55.0</td>\n",
       "      <td>2018-08-23</td>\n",
       "      <td>2018-08-23</td>\n",
       "      <td>매거진</td>\n",
       "      <td>5%</td>\n",
       "    </tr>\n",
       "    <tr>\n",
       "      <th>299430</th>\n",
       "      <td>@merryseo_56</td>\n",
       "      <td>2942</td>\n",
       "      <td>34075.0</td>\n",
       "      <td>@merryseo</td>\n",
       "      <td>세상에서 가장 소심한 퇴사 준비</td>\n",
       "      <td>[퇴사, 프리랜서, 에세이]</td>\n",
       "      <td>https://brunch.co.kr/@merryseo/56</td>\n",
       "      <td>기술도 없는 사무직 퇴사자의 프리랜서 도전기</td>\n",
       "      <td>1.535555e+12</td>\n",
       "      <td>56.0</td>\n",
       "      <td>2018-08-30</td>\n",
       "      <td>2018-08-30</td>\n",
       "      <td>매거진</td>\n",
       "      <td>5%</td>\n",
       "    </tr>\n",
       "    <tr>\n",
       "      <th>299431</th>\n",
       "      <td>@merryseo_57</td>\n",
       "      <td>2745</td>\n",
       "      <td>34075.0</td>\n",
       "      <td>@merryseo</td>\n",
       "      <td>한 달 동안의 아주 사치스러운 백수 생활</td>\n",
       "      <td>[퇴사, 프리랜서, 에세이]</td>\n",
       "      <td>https://brunch.co.kr/@merryseo/57</td>\n",
       "      <td>기술도 없는 사무직 퇴사자의 프리랜서 도전기</td>\n",
       "      <td>1.536160e+12</td>\n",
       "      <td>57.0</td>\n",
       "      <td>2018-09-06</td>\n",
       "      <td>2018-09-06</td>\n",
       "      <td>매거진</td>\n",
       "      <td>5%</td>\n",
       "    </tr>\n",
       "    <tr>\n",
       "      <th>299432</th>\n",
       "      <td>@merryseo_58</td>\n",
       "      <td>2522</td>\n",
       "      <td>34075.0</td>\n",
       "      <td>@merryseo</td>\n",
       "      <td>이렇게 평범한 내가 프리랜서를?</td>\n",
       "      <td>[퇴사, 프리랜서, 에세이]</td>\n",
       "      <td>https://brunch.co.kr/@merryseo/58</td>\n",
       "      <td>기술도 없는 사무직 퇴사자의 프리랜서 도전기</td>\n",
       "      <td>1.536764e+12</td>\n",
       "      <td>58.0</td>\n",
       "      <td>2018-09-13</td>\n",
       "      <td>2018-09-13</td>\n",
       "      <td>매거진</td>\n",
       "      <td>5%</td>\n",
       "    </tr>\n",
       "    <tr>\n",
       "      <th>299433</th>\n",
       "      <td>@merryseo_59</td>\n",
       "      <td>2687</td>\n",
       "      <td>34075.0</td>\n",
       "      <td>@merryseo</td>\n",
       "      <td>역시 사람은 기술을 배워야 혀~</td>\n",
       "      <td>[프리랜서, 퇴사, 에세이]</td>\n",
       "      <td>https://brunch.co.kr/@merryseo/59</td>\n",
       "      <td>기술도 없는 사무직 퇴사자의 프리랜서 도전기</td>\n",
       "      <td>1.537369e+12</td>\n",
       "      <td>59.0</td>\n",
       "      <td>2018-09-20</td>\n",
       "      <td>2018-09-20</td>\n",
       "      <td>매거진</td>\n",
       "      <td>5%</td>\n",
       "    </tr>\n",
       "    <tr>\n",
       "      <th>299435</th>\n",
       "      <td>@merryseo_61</td>\n",
       "      <td>3356</td>\n",
       "      <td>34075.0</td>\n",
       "      <td>@merryseo</td>\n",
       "      <td>뭔가 플러스 알파가 필요해</td>\n",
       "      <td>[퇴사, 프리랜서, 일상툰]</td>\n",
       "      <td>https://brunch.co.kr/@merryseo/61</td>\n",
       "      <td>기술도 없는 사무직 퇴사자의 프리랜서 도전기</td>\n",
       "      <td>1.537974e+12</td>\n",
       "      <td>61.0</td>\n",
       "      <td>2018-09-27</td>\n",
       "      <td>2018-09-27</td>\n",
       "      <td>매거진</td>\n",
       "      <td>5%</td>\n",
       "    </tr>\n",
       "    <tr>\n",
       "      <th>299436</th>\n",
       "      <td>@merryseo_62</td>\n",
       "      <td>4950</td>\n",
       "      <td>34075.0</td>\n",
       "      <td>@merryseo</td>\n",
       "      <td>일이 없는 프리랜서도 프리랜서일까</td>\n",
       "      <td>[퇴사, 프리랜서, 에세이]</td>\n",
       "      <td>https://brunch.co.kr/@merryseo/62</td>\n",
       "      <td>기술도 없는 사무직 퇴사자의 프리랜서 도전기</td>\n",
       "      <td>1.538579e+12</td>\n",
       "      <td>62.0</td>\n",
       "      <td>2018-10-04</td>\n",
       "      <td>2018-10-04</td>\n",
       "      <td>매거진</td>\n",
       "      <td>5%</td>\n",
       "    </tr>\n",
       "    <tr>\n",
       "      <th>299437</th>\n",
       "      <td>@merryseo_63</td>\n",
       "      <td>5652</td>\n",
       "      <td>34075.0</td>\n",
       "      <td>@merryseo</td>\n",
       "      <td>무슨 일이든 일단 하고 보자</td>\n",
       "      <td>[퇴사, 프리랜서, 에세이]</td>\n",
       "      <td>https://brunch.co.kr/@merryseo/63</td>\n",
       "      <td>기술도 없는 사무직 퇴사자의 프리랜서 도전기</td>\n",
       "      <td>1.539184e+12</td>\n",
       "      <td>63.0</td>\n",
       "      <td>2018-10-11</td>\n",
       "      <td>2018-10-11</td>\n",
       "      <td>매거진</td>\n",
       "      <td>5%</td>\n",
       "    </tr>\n",
       "    <tr>\n",
       "      <th>299438</th>\n",
       "      <td>@merryseo_64</td>\n",
       "      <td>5701</td>\n",
       "      <td>34075.0</td>\n",
       "      <td>@merryseo</td>\n",
       "      <td>스카우트 제의, 기회일까? 시련일까?</td>\n",
       "      <td>[퇴사, 프리랜서, 에세이]</td>\n",
       "      <td>https://brunch.co.kr/@merryseo/64</td>\n",
       "      <td>기술도 없는 사무직 퇴사자의 프리랜서 도전기</td>\n",
       "      <td>1.539788e+12</td>\n",
       "      <td>64.0</td>\n",
       "      <td>2018-10-18</td>\n",
       "      <td>2018-10-18</td>\n",
       "      <td>매거진</td>\n",
       "      <td>5%</td>\n",
       "    </tr>\n",
       "    <tr>\n",
       "      <th>299439</th>\n",
       "      <td>@merryseo_65</td>\n",
       "      <td>4798</td>\n",
       "      <td>34075.0</td>\n",
       "      <td>@merryseo</td>\n",
       "      <td>생계를 위해 잠시 회사로 돌아가다</td>\n",
       "      <td>[퇴사, 프리랜서, 에세이]</td>\n",
       "      <td>https://brunch.co.kr/@merryseo/65</td>\n",
       "      <td>기술도 없는 사무직 퇴사자의 프리랜서 도전기</td>\n",
       "      <td>1.540393e+12</td>\n",
       "      <td>65.0</td>\n",
       "      <td>2018-10-25</td>\n",
       "      <td>2018-10-25</td>\n",
       "      <td>매거진</td>\n",
       "      <td>5%</td>\n",
       "    </tr>\n",
       "    <tr>\n",
       "      <th>299441</th>\n",
       "      <td>@merryseo_67</td>\n",
       "      <td>3585</td>\n",
       "      <td>34075.0</td>\n",
       "      <td>@merryseo</td>\n",
       "      <td>두 번째 퇴사, 첫 번째 일감</td>\n",
       "      <td>[퇴사, 일러스트, 에세이]</td>\n",
       "      <td>https://brunch.co.kr/@merryseo/67</td>\n",
       "      <td>기술도 없는 사무직 퇴사자의 프리랜서 도전기</td>\n",
       "      <td>1.540998e+12</td>\n",
       "      <td>67.0</td>\n",
       "      <td>2018-11-01</td>\n",
       "      <td>2018-11-01</td>\n",
       "      <td>매거진</td>\n",
       "      <td>5%</td>\n",
       "    </tr>\n",
       "    <tr>\n",
       "      <th>299443</th>\n",
       "      <td>@merryseo_69</td>\n",
       "      <td>4019</td>\n",
       "      <td>34075.0</td>\n",
       "      <td>@merryseo</td>\n",
       "      <td>프리랜서에게도 비빌 언덕이 필요하다</td>\n",
       "      <td>[퇴사, 일러스트, 에세이]</td>\n",
       "      <td>https://brunch.co.kr/@merryseo/69</td>\n",
       "      <td>기술도 없는 사무직 퇴사자의 프리랜서 도전기</td>\n",
       "      <td>1.541603e+12</td>\n",
       "      <td>69.0</td>\n",
       "      <td>2018-11-08</td>\n",
       "      <td>2018-11-08</td>\n",
       "      <td>매거진</td>\n",
       "      <td>5%</td>\n",
       "    </tr>\n",
       "    <tr>\n",
       "      <th>299446</th>\n",
       "      <td>@merryseo_71</td>\n",
       "      <td>4062</td>\n",
       "      <td>34075.0</td>\n",
       "      <td>@merryseo</td>\n",
       "      <td>예고 없이 찾아온 프리랜서의 성수기</td>\n",
       "      <td>[퇴사, 에세이, 프리랜서]</td>\n",
       "      <td>https://brunch.co.kr/@merryseo/71</td>\n",
       "      <td>기술도 없는 사무직 퇴사자의 프리랜서 도전기</td>\n",
       "      <td>1.542208e+12</td>\n",
       "      <td>71.0</td>\n",
       "      <td>2018-11-15</td>\n",
       "      <td>2018-11-15</td>\n",
       "      <td>매거진</td>\n",
       "      <td>5%</td>\n",
       "    </tr>\n",
       "    <tr>\n",
       "      <th>299448</th>\n",
       "      <td>@merryseo_73</td>\n",
       "      <td>7971</td>\n",
       "      <td>34075.0</td>\n",
       "      <td>@merryseo</td>\n",
       "      <td>행복한가요? 얼마나 벌어요? 불안하진 않나요?</td>\n",
       "      <td>[퇴사, 에세이, 일러스트]</td>\n",
       "      <td>https://brunch.co.kr/@merryseo/73</td>\n",
       "      <td>기술도 없는 사무직 퇴사자의 프리랜서 도전기</td>\n",
       "      <td>1.542812e+12</td>\n",
       "      <td>73.0</td>\n",
       "      <td>2018-11-22</td>\n",
       "      <td>2018-11-22</td>\n",
       "      <td>매거진</td>\n",
       "      <td>5%</td>\n",
       "    </tr>\n",
       "  </tbody>\n",
       "</table>\n",
       "</div>"
      ],
      "text/plain": [
       "          article_id  read_cnt  magazine_id  author_id  \\\n",
       "299425  @merryseo_51      3946      34075.0  @merryseo   \n",
       "299426  @merryseo_52      4906      34075.0  @merryseo   \n",
       "299427  @merryseo_53      7620      34075.0  @merryseo   \n",
       "299428  @merryseo_54      3134      34075.0  @merryseo   \n",
       "299429  @merryseo_55      3112      34075.0  @merryseo   \n",
       "299430  @merryseo_56      2942      34075.0  @merryseo   \n",
       "299431  @merryseo_57      2745      34075.0  @merryseo   \n",
       "299432  @merryseo_58      2522      34075.0  @merryseo   \n",
       "299433  @merryseo_59      2687      34075.0  @merryseo   \n",
       "299435  @merryseo_61      3356      34075.0  @merryseo   \n",
       "299436  @merryseo_62      4950      34075.0  @merryseo   \n",
       "299437  @merryseo_63      5652      34075.0  @merryseo   \n",
       "299438  @merryseo_64      5701      34075.0  @merryseo   \n",
       "299439  @merryseo_65      4798      34075.0  @merryseo   \n",
       "299441  @merryseo_67      3585      34075.0  @merryseo   \n",
       "299443  @merryseo_69      4019      34075.0  @merryseo   \n",
       "299446  @merryseo_71      4062      34075.0  @merryseo   \n",
       "299448  @merryseo_73      7971      34075.0  @merryseo   \n",
       "\n",
       "                            title     keyword_list  \\\n",
       "299425                  \"프리랜서입니다\"  [퇴사, 일러스트, 에세이]   \n",
       "299426                   퇴사를 결심하다  [퇴사, 에세이, 일러스트]   \n",
       "299427                 회사 체질이 아니야  [퇴사, 에세이, 일러스트]   \n",
       "299428       프리랜서? 좋지. 근데 기술은 있고?  [퇴사, 프리랜서, 에세이]   \n",
       "299429        생각보다 넓고 깊은 프리랜서의 세계  [프리랜서, 퇴사, 에세이]   \n",
       "299430          세상에서 가장 소심한 퇴사 준비  [퇴사, 프리랜서, 에세이]   \n",
       "299431     한 달 동안의 아주 사치스러운 백수 생활  [퇴사, 프리랜서, 에세이]   \n",
       "299432          이렇게 평범한 내가 프리랜서를?  [퇴사, 프리랜서, 에세이]   \n",
       "299433          역시 사람은 기술을 배워야 혀~  [프리랜서, 퇴사, 에세이]   \n",
       "299435             뭔가 플러스 알파가 필요해  [퇴사, 프리랜서, 일상툰]   \n",
       "299436         일이 없는 프리랜서도 프리랜서일까  [퇴사, 프리랜서, 에세이]   \n",
       "299437            무슨 일이든 일단 하고 보자  [퇴사, 프리랜서, 에세이]   \n",
       "299438       스카우트 제의, 기회일까? 시련일까?  [퇴사, 프리랜서, 에세이]   \n",
       "299439         생계를 위해 잠시 회사로 돌아가다  [퇴사, 프리랜서, 에세이]   \n",
       "299441           두 번째 퇴사, 첫 번째 일감  [퇴사, 일러스트, 에세이]   \n",
       "299443        프리랜서에게도 비빌 언덕이 필요하다  [퇴사, 일러스트, 에세이]   \n",
       "299446        예고 없이 찾아온 프리랜서의 성수기  [퇴사, 에세이, 프리랜서]   \n",
       "299448  행복한가요? 얼마나 벌어요? 불안하진 않나요?  [퇴사, 에세이, 일러스트]   \n",
       "\n",
       "                              display_url                 sub_title  \\\n",
       "299425  https://brunch.co.kr/@merryseo/51  기술도 없는 사무직 퇴사자의 프리랜서 도전기   \n",
       "299426  https://brunch.co.kr/@merryseo/52  기술도 없는 사무직 퇴사자의 프리랜서 도전기   \n",
       "299427  https://brunch.co.kr/@merryseo/53  기술도 없는 사무직 퇴사자의 프리랜서 도전기   \n",
       "299428  https://brunch.co.kr/@merryseo/54  기술도 없는 사무직 퇴사자의 프리랜서 도전기   \n",
       "299429  https://brunch.co.kr/@merryseo/55  기술도 없는 사무직 퇴사자의 프리랜서 도전기   \n",
       "299430  https://brunch.co.kr/@merryseo/56  기술도 없는 사무직 퇴사자의 프리랜서 도전기   \n",
       "299431  https://brunch.co.kr/@merryseo/57  기술도 없는 사무직 퇴사자의 프리랜서 도전기   \n",
       "299432  https://brunch.co.kr/@merryseo/58  기술도 없는 사무직 퇴사자의 프리랜서 도전기   \n",
       "299433  https://brunch.co.kr/@merryseo/59  기술도 없는 사무직 퇴사자의 프리랜서 도전기   \n",
       "299435  https://brunch.co.kr/@merryseo/61  기술도 없는 사무직 퇴사자의 프리랜서 도전기   \n",
       "299436  https://brunch.co.kr/@merryseo/62  기술도 없는 사무직 퇴사자의 프리랜서 도전기   \n",
       "299437  https://brunch.co.kr/@merryseo/63  기술도 없는 사무직 퇴사자의 프리랜서 도전기   \n",
       "299438  https://brunch.co.kr/@merryseo/64  기술도 없는 사무직 퇴사자의 프리랜서 도전기   \n",
       "299439  https://brunch.co.kr/@merryseo/65  기술도 없는 사무직 퇴사자의 프리랜서 도전기   \n",
       "299441  https://brunch.co.kr/@merryseo/67  기술도 없는 사무직 퇴사자의 프리랜서 도전기   \n",
       "299443  https://brunch.co.kr/@merryseo/69  기술도 없는 사무직 퇴사자의 프리랜서 도전기   \n",
       "299446  https://brunch.co.kr/@merryseo/71  기술도 없는 사무직 퇴사자의 프리랜서 도전기   \n",
       "299448  https://brunch.co.kr/@merryseo/73  기술도 없는 사무직 퇴사자의 프리랜서 도전기   \n",
       "\n",
       "              reg_ts    id reg_datetime      reg_dt type class  \n",
       "299425  1.532531e+12  51.0   2018-07-26  2018-07-26  매거진    5%  \n",
       "299426  1.533136e+12  52.0   2018-08-02  2018-08-02  매거진    5%  \n",
       "299427  1.533740e+12  53.0   2018-08-09  2018-08-09  매거진    5%  \n",
       "299428  1.534345e+12  54.0   2018-08-16  2018-08-16  매거진    5%  \n",
       "299429  1.534950e+12  55.0   2018-08-23  2018-08-23  매거진    5%  \n",
       "299430  1.535555e+12  56.0   2018-08-30  2018-08-30  매거진    5%  \n",
       "299431  1.536160e+12  57.0   2018-09-06  2018-09-06  매거진    5%  \n",
       "299432  1.536764e+12  58.0   2018-09-13  2018-09-13  매거진    5%  \n",
       "299433  1.537369e+12  59.0   2018-09-20  2018-09-20  매거진    5%  \n",
       "299435  1.537974e+12  61.0   2018-09-27  2018-09-27  매거진    5%  \n",
       "299436  1.538579e+12  62.0   2018-10-04  2018-10-04  매거진    5%  \n",
       "299437  1.539184e+12  63.0   2018-10-11  2018-10-11  매거진    5%  \n",
       "299438  1.539788e+12  64.0   2018-10-18  2018-10-18  매거진    5%  \n",
       "299439  1.540393e+12  65.0   2018-10-25  2018-10-25  매거진    5%  \n",
       "299441  1.540998e+12  67.0   2018-11-01  2018-11-01  매거진    5%  \n",
       "299443  1.541603e+12  69.0   2018-11-08  2018-11-08  매거진    5%  \n",
       "299446  1.542208e+12  71.0   2018-11-15  2018-11-15  매거진    5%  \n",
       "299448  1.542812e+12  73.0   2018-11-22  2018-11-22  매거진    5%  "
      ]
     },
     "execution_count": 95,
     "metadata": {},
     "output_type": "execute_result"
    }
   ],
   "source": [
    "# Weekly매거진 회사 체질이 아니라서요 (by 서메리) 글 목록\n",
    "magazine_34075"
   ]
  },
  {
   "cell_type": "code",
   "execution_count": 96,
   "metadata": {},
   "outputs": [],
   "source": [
    "magazine_34075_read = off_data_agg[off_data_agg.magazine_id == 34075]\n"
   ]
  },
  {
   "cell_type": "code",
   "execution_count": 177,
   "metadata": {},
   "outputs": [
    {
     "data": {
      "text/html": [
       "<div>\n",
       "<style scoped>\n",
       "    .dataframe tbody tr th:only-of-type {\n",
       "        vertical-align: middle;\n",
       "    }\n",
       "\n",
       "    .dataframe tbody tr th {\n",
       "        vertical-align: top;\n",
       "    }\n",
       "\n",
       "    .dataframe thead th {\n",
       "        text-align: right;\n",
       "    }\n",
       "</style>\n",
       "<table border=\"1\" class=\"dataframe\">\n",
       "  <thead>\n",
       "    <tr style=\"text-align: right;\">\n",
       "      <th></th>\n",
       "      <th>article_id</th>\n",
       "      <th>off_day</th>\n",
       "      <th>read_dt</th>\n",
       "      <th>reg_dt</th>\n",
       "      <th>title</th>\n",
       "      <th>author_id</th>\n",
       "      <th>type</th>\n",
       "      <th>display_url</th>\n",
       "      <th>magazine_id</th>\n",
       "      <th>class</th>\n",
       "      <th>user_id</th>\n",
       "    </tr>\n",
       "  </thead>\n",
       "  <tbody>\n",
       "    <tr>\n",
       "      <th>2630367</th>\n",
       "      <td>@merryseo_51</td>\n",
       "      <td>67</td>\n",
       "      <td>2018-10-01</td>\n",
       "      <td>2018-07-26</td>\n",
       "      <td>\"프리랜서입니다\"</td>\n",
       "      <td>@merryseo</td>\n",
       "      <td>매거진</td>\n",
       "      <td>https://brunch.co.kr/@merryseo/51</td>\n",
       "      <td>34075</td>\n",
       "      <td>5%</td>\n",
       "      <td>16</td>\n",
       "    </tr>\n",
       "    <tr>\n",
       "      <th>2630368</th>\n",
       "      <td>@merryseo_51</td>\n",
       "      <td>68</td>\n",
       "      <td>2018-10-02</td>\n",
       "      <td>2018-07-26</td>\n",
       "      <td>\"프리랜서입니다\"</td>\n",
       "      <td>@merryseo</td>\n",
       "      <td>매거진</td>\n",
       "      <td>https://brunch.co.kr/@merryseo/51</td>\n",
       "      <td>34075</td>\n",
       "      <td>5%</td>\n",
       "      <td>25</td>\n",
       "    </tr>\n",
       "    <tr>\n",
       "      <th>2630369</th>\n",
       "      <td>@merryseo_51</td>\n",
       "      <td>69</td>\n",
       "      <td>2018-10-03</td>\n",
       "      <td>2018-07-26</td>\n",
       "      <td>\"프리랜서입니다\"</td>\n",
       "      <td>@merryseo</td>\n",
       "      <td>매거진</td>\n",
       "      <td>https://brunch.co.kr/@merryseo/51</td>\n",
       "      <td>34075</td>\n",
       "      <td>5%</td>\n",
       "      <td>16</td>\n",
       "    </tr>\n",
       "    <tr>\n",
       "      <th>2630370</th>\n",
       "      <td>@merryseo_51</td>\n",
       "      <td>70</td>\n",
       "      <td>2018-10-04</td>\n",
       "      <td>2018-07-26</td>\n",
       "      <td>\"프리랜서입니다\"</td>\n",
       "      <td>@merryseo</td>\n",
       "      <td>매거진</td>\n",
       "      <td>https://brunch.co.kr/@merryseo/51</td>\n",
       "      <td>34075</td>\n",
       "      <td>5%</td>\n",
       "      <td>308</td>\n",
       "    </tr>\n",
       "    <tr>\n",
       "      <th>2630371</th>\n",
       "      <td>@merryseo_51</td>\n",
       "      <td>71</td>\n",
       "      <td>2018-10-05</td>\n",
       "      <td>2018-07-26</td>\n",
       "      <td>\"프리랜서입니다\"</td>\n",
       "      <td>@merryseo</td>\n",
       "      <td>매거진</td>\n",
       "      <td>https://brunch.co.kr/@merryseo/51</td>\n",
       "      <td>34075</td>\n",
       "      <td>5%</td>\n",
       "      <td>16</td>\n",
       "    </tr>\n",
       "    <tr>\n",
       "      <th>...</th>\n",
       "      <td>...</td>\n",
       "      <td>...</td>\n",
       "      <td>...</td>\n",
       "      <td>...</td>\n",
       "      <td>...</td>\n",
       "      <td>...</td>\n",
       "      <td>...</td>\n",
       "      <td>...</td>\n",
       "      <td>...</td>\n",
       "      <td>...</td>\n",
       "      <td>...</td>\n",
       "    </tr>\n",
       "    <tr>\n",
       "      <th>2633448</th>\n",
       "      <td>@merryseo_73</td>\n",
       "      <td>94</td>\n",
       "      <td>2019-02-24</td>\n",
       "      <td>2018-11-22</td>\n",
       "      <td>행복한가요? 얼마나 벌어요? 불안하진 않나요?</td>\n",
       "      <td>@merryseo</td>\n",
       "      <td>매거진</td>\n",
       "      <td>https://brunch.co.kr/@merryseo/73</td>\n",
       "      <td>34075</td>\n",
       "      <td>5%</td>\n",
       "      <td>8</td>\n",
       "    </tr>\n",
       "    <tr>\n",
       "      <th>2633449</th>\n",
       "      <td>@merryseo_73</td>\n",
       "      <td>95</td>\n",
       "      <td>2019-02-25</td>\n",
       "      <td>2018-11-22</td>\n",
       "      <td>행복한가요? 얼마나 벌어요? 불안하진 않나요?</td>\n",
       "      <td>@merryseo</td>\n",
       "      <td>매거진</td>\n",
       "      <td>https://brunch.co.kr/@merryseo/73</td>\n",
       "      <td>34075</td>\n",
       "      <td>5%</td>\n",
       "      <td>15</td>\n",
       "    </tr>\n",
       "    <tr>\n",
       "      <th>2633450</th>\n",
       "      <td>@merryseo_73</td>\n",
       "      <td>96</td>\n",
       "      <td>2019-02-26</td>\n",
       "      <td>2018-11-22</td>\n",
       "      <td>행복한가요? 얼마나 벌어요? 불안하진 않나요?</td>\n",
       "      <td>@merryseo</td>\n",
       "      <td>매거진</td>\n",
       "      <td>https://brunch.co.kr/@merryseo/73</td>\n",
       "      <td>34075</td>\n",
       "      <td>5%</td>\n",
       "      <td>9</td>\n",
       "    </tr>\n",
       "    <tr>\n",
       "      <th>2633451</th>\n",
       "      <td>@merryseo_73</td>\n",
       "      <td>97</td>\n",
       "      <td>2019-02-27</td>\n",
       "      <td>2018-11-22</td>\n",
       "      <td>행복한가요? 얼마나 벌어요? 불안하진 않나요?</td>\n",
       "      <td>@merryseo</td>\n",
       "      <td>매거진</td>\n",
       "      <td>https://brunch.co.kr/@merryseo/73</td>\n",
       "      <td>34075</td>\n",
       "      <td>5%</td>\n",
       "      <td>8</td>\n",
       "    </tr>\n",
       "    <tr>\n",
       "      <th>2633452</th>\n",
       "      <td>@merryseo_73</td>\n",
       "      <td>98</td>\n",
       "      <td>2019-02-28</td>\n",
       "      <td>2018-11-22</td>\n",
       "      <td>행복한가요? 얼마나 벌어요? 불안하진 않나요?</td>\n",
       "      <td>@merryseo</td>\n",
       "      <td>매거진</td>\n",
       "      <td>https://brunch.co.kr/@merryseo/73</td>\n",
       "      <td>34075</td>\n",
       "      <td>5%</td>\n",
       "      <td>8</td>\n",
       "    </tr>\n",
       "  </tbody>\n",
       "</table>\n",
       "<p>2470 rows × 11 columns</p>\n",
       "</div>"
      ],
      "text/plain": [
       "           article_id  off_day    read_dt     reg_dt  \\\n",
       "2630367  @merryseo_51       67 2018-10-01 2018-07-26   \n",
       "2630368  @merryseo_51       68 2018-10-02 2018-07-26   \n",
       "2630369  @merryseo_51       69 2018-10-03 2018-07-26   \n",
       "2630370  @merryseo_51       70 2018-10-04 2018-07-26   \n",
       "2630371  @merryseo_51       71 2018-10-05 2018-07-26   \n",
       "...               ...      ...        ...        ...   \n",
       "2633448  @merryseo_73       94 2019-02-24 2018-11-22   \n",
       "2633449  @merryseo_73       95 2019-02-25 2018-11-22   \n",
       "2633450  @merryseo_73       96 2019-02-26 2018-11-22   \n",
       "2633451  @merryseo_73       97 2019-02-27 2018-11-22   \n",
       "2633452  @merryseo_73       98 2019-02-28 2018-11-22   \n",
       "\n",
       "                             title  author_id type  \\\n",
       "2630367                  \"프리랜서입니다\"  @merryseo  매거진   \n",
       "2630368                  \"프리랜서입니다\"  @merryseo  매거진   \n",
       "2630369                  \"프리랜서입니다\"  @merryseo  매거진   \n",
       "2630370                  \"프리랜서입니다\"  @merryseo  매거진   \n",
       "2630371                  \"프리랜서입니다\"  @merryseo  매거진   \n",
       "...                            ...        ...  ...   \n",
       "2633448  행복한가요? 얼마나 벌어요? 불안하진 않나요?  @merryseo  매거진   \n",
       "2633449  행복한가요? 얼마나 벌어요? 불안하진 않나요?  @merryseo  매거진   \n",
       "2633450  행복한가요? 얼마나 벌어요? 불안하진 않나요?  @merryseo  매거진   \n",
       "2633451  행복한가요? 얼마나 벌어요? 불안하진 않나요?  @merryseo  매거진   \n",
       "2633452  행복한가요? 얼마나 벌어요? 불안하진 않나요?  @merryseo  매거진   \n",
       "\n",
       "                               display_url  magazine_id class  user_id  \n",
       "2630367  https://brunch.co.kr/@merryseo/51        34075    5%       16  \n",
       "2630368  https://brunch.co.kr/@merryseo/51        34075    5%       25  \n",
       "2630369  https://brunch.co.kr/@merryseo/51        34075    5%       16  \n",
       "2630370  https://brunch.co.kr/@merryseo/51        34075    5%      308  \n",
       "2630371  https://brunch.co.kr/@merryseo/51        34075    5%       16  \n",
       "...                                    ...          ...   ...      ...  \n",
       "2633448  https://brunch.co.kr/@merryseo/73        34075    5%        8  \n",
       "2633449  https://brunch.co.kr/@merryseo/73        34075    5%       15  \n",
       "2633450  https://brunch.co.kr/@merryseo/73        34075    5%        9  \n",
       "2633451  https://brunch.co.kr/@merryseo/73        34075    5%        8  \n",
       "2633452  https://brunch.co.kr/@merryseo/73        34075    5%        8  \n",
       "\n",
       "[2470 rows x 11 columns]"
      ]
     },
     "execution_count": 177,
     "metadata": {},
     "output_type": "execute_result"
    }
   ],
   "source": [
    "magazine_34075_read\n"
   ]
  },
  {
   "cell_type": "code",
   "execution_count": 98,
   "metadata": {},
   "outputs": [
    {
     "data": {
      "text/plain": [
       "Text(0, 0.5, '글 소비수')"
      ]
     },
     "execution_count": 98,
     "metadata": {},
     "output_type": "execute_result"
    },
    {
     "data": {
      "image/png": "[encoded data removed]",
      "text/plain": [
       "<Figure size 1440x720 with 1 Axes>"
      ]
     },
     "metadata": {
      "needs_background": "light"
     },
     "output_type": "display_data"
    }
   ],
   "source": [
    "sns.lineplot(data=magazine_34075_read, x='read_dt', y='user_id', hue='title')\n",
    "plt.title('위클리-회사 체질이 아니라서요(by 서메리)')\n",
    "plt.xlabel('글 소비일')\n",
    "plt.ylabel('글 소비수')"
   ]
  },
  {
   "cell_type": "code",
   "execution_count": null,
   "metadata": {},
   "outputs": [],
   "source": []
  },
  {
   "cell_type": "code",
   "execution_count": 99,
   "metadata": {},
   "outputs": [],
   "source": [
    "# 매거진 태그의 수 저장\n",
    "n_magazine_tag = []\n",
    "\n",
    "for i in range(len(magazine['magazine_tag_list'])):\n",
    "    n_magazine_tag.append(len(magazine['magazine_tag_list'][i]))"
   ]
  },
  {
   "cell_type": "code",
   "execution_count": 100,
   "metadata": {},
   "outputs": [
    {
     "data": {
      "text/plain": [
       "array([6, 5, 5, ..., 1, 1, 0])"
      ]
     },
     "execution_count": 100,
     "metadata": {},
     "output_type": "execute_result"
    }
   ],
   "source": [
    "# 매거진 태그의 수 (0~6개)\n",
    "n_magazine_tag = np.array(n_magazine_tag)\n",
    "sorted_m_tag = np.sort(n_magazine_tag)[::-1]\n",
    "sorted_m_tag"
   ]
  },
  {
   "cell_type": "code",
   "execution_count": 101,
   "metadata": {},
   "outputs": [
    {
     "data": {
      "image/png": "[encoded data removed]",
      "text/plain": [
       "<Figure size 1440x720 with 1 Axes>"
      ]
     },
     "metadata": {
      "needs_background": "light"
     },
     "output_type": "display_data"
    }
   ],
   "source": [
    "# 매거진 태그의 수 (대부분 3개)\n",
    "plt.plot(sorted_m_tag)\n",
    "plt.show()"
   ]
  },
  {
   "cell_type": "code",
   "execution_count": null,
   "metadata": {},
   "outputs": [],
   "source": []
  },
  {
   "cell_type": "code",
   "execution_count": null,
   "metadata": {},
   "outputs": [],
   "source": []
  },
  {
   "cell_type": "code",
   "execution_count": null,
   "metadata": {},
   "outputs": [],
   "source": []
  },
  {
   "cell_type": "markdown",
   "metadata": {},
   "source": [
    "## 5. 유저\n"
   ]
  },
  {
   "cell_type": "code",
   "execution_count": 102,
   "metadata": {},
   "outputs": [],
   "source": [
    "# 유져별 방문일수, 글 소비수\n",
    "grp_by_user = off_data.groupby('user_id').agg({'read_dt':['nunique', 'count']})\n"
   ]
  },
  {
   "cell_type": "code",
   "execution_count": 103,
   "metadata": {},
   "outputs": [],
   "source": [
    "grp_by_user = grp_by_user.reset_index()\n",
    "grp_by_user.columns = ['user_id', 'visit_day_cnt', 'read_cnt']"
   ]
  },
  {
   "cell_type": "code",
   "execution_count": 104,
   "metadata": {},
   "outputs": [
    {
     "data": {
      "text/html": [
       "<div>\n",
       "<style scoped>\n",
       "    .dataframe tbody tr th:only-of-type {\n",
       "        vertical-align: middle;\n",
       "    }\n",
       "\n",
       "    .dataframe tbody tr th {\n",
       "        vertical-align: top;\n",
       "    }\n",
       "\n",
       "    .dataframe thead th {\n",
       "        text-align: right;\n",
       "    }\n",
       "</style>\n",
       "<table border=\"1\" class=\"dataframe\">\n",
       "  <thead>\n",
       "    <tr style=\"text-align: right;\">\n",
       "      <th></th>\n",
       "      <th>user_id</th>\n",
       "      <th>visit_day_cnt</th>\n",
       "      <th>read_cnt</th>\n",
       "    </tr>\n",
       "  </thead>\n",
       "  <tbody>\n",
       "    <tr>\n",
       "      <th>0</th>\n",
       "      <td>#00001ba6ca8d87d2fc34d626ba9cfe6f</td>\n",
       "      <td>1</td>\n",
       "      <td>3</td>\n",
       "    </tr>\n",
       "    <tr>\n",
       "      <th>1</th>\n",
       "      <td>#0000e87158c1426d6ffb72cebac6cb64</td>\n",
       "      <td>1</td>\n",
       "      <td>2</td>\n",
       "    </tr>\n",
       "    <tr>\n",
       "      <th>2</th>\n",
       "      <td>#0000eea6d339abfd02ed590bc451fc63</td>\n",
       "      <td>1</td>\n",
       "      <td>1</td>\n",
       "    </tr>\n",
       "    <tr>\n",
       "      <th>3</th>\n",
       "      <td>#0000fdba8f35c76eacab74c5c6bc7f1a</td>\n",
       "      <td>3</td>\n",
       "      <td>11</td>\n",
       "    </tr>\n",
       "    <tr>\n",
       "      <th>4</th>\n",
       "      <td>#000127ad0f1981cae1292efdb228f0e9</td>\n",
       "      <td>1</td>\n",
       "      <td>27</td>\n",
       "    </tr>\n",
       "  </tbody>\n",
       "</table>\n",
       "</div>"
      ],
      "text/plain": [
       "                             user_id  visit_day_cnt  read_cnt\n",
       "0  #00001ba6ca8d87d2fc34d626ba9cfe6f              1         3\n",
       "1  #0000e87158c1426d6ffb72cebac6cb64              1         2\n",
       "2  #0000eea6d339abfd02ed590bc451fc63              1         1\n",
       "3  #0000fdba8f35c76eacab74c5c6bc7f1a              3        11\n",
       "4  #000127ad0f1981cae1292efdb228f0e9              1        27"
      ]
     },
     "execution_count": 104,
     "metadata": {},
     "output_type": "execute_result"
    }
   ],
   "source": [
    "grp_by_user.head()\n"
   ]
  },
  {
   "cell_type": "markdown",
   "metadata": {},
   "source": [
    "### a. 방문일수 기준 유저 통계\n"
   ]
  },
  {
   "cell_type": "code",
   "execution_count": 105,
   "metadata": {},
   "outputs": [
    {
     "data": {
      "text/plain": [
       "1    0.352137\n",
       "2    0.142516\n",
       "3    0.088841\n",
       "4    0.063050\n",
       "5    0.047217\n",
       "Name: visit_day_cnt, dtype: float64"
      ]
     },
     "execution_count": 105,
     "metadata": {},
     "output_type": "execute_result"
    }
   ],
   "source": [
    "grp_by_user['visit_day_cnt'].value_counts(normalize=True).head()\n"
   ]
  },
  {
   "cell_type": "code",
   "execution_count": 106,
   "metadata": {},
   "outputs": [
    {
     "data": {
      "text/plain": [
       "0.009034902176890052"
      ]
     },
     "execution_count": 106,
     "metadata": {},
     "output_type": "execute_result"
    }
   ],
   "source": [
    "grp_by_user['visit_day_cnt'].value_counts(normalize=True).sort_index()[74:].sum()\n"
   ]
  },
  {
   "cell_type": "markdown",
   "metadata": {},
   "source": [
    "- 1~2회 방문 유저 전체 유저중 50%\n",
    "- 75회 이상 방문하는유저 전체 유저중 약 1%\n",
    "- 1~2일 방문유저를 신규유저 / 75일(Train 기간 절반 방문) 방문 유저를 단골유저로 구분"
   ]
  },
  {
   "cell_type": "code",
   "execution_count": 107,
   "metadata": {},
   "outputs": [],
   "source": [
    "# 하루에 2번보다 적게 방문하는 유저 (=신규유저)\n",
    "low_visit_user = grp_by_user.loc[grp_by_user['visit_day_cnt'] <=2, 'user_id']\n",
    "\n"
   ]
  },
  {
   "cell_type": "code",
   "execution_count": 108,
   "metadata": {},
   "outputs": [],
   "source": [
    "# 하루에 75번보다 많이 방문하는 유저 (=단골유저)\n",
    "upp_visit_user = grp_by_user.loc[grp_by_user['visit_day_cnt'] >=75, 'user_id']\n"
   ]
  },
  {
   "cell_type": "code",
   "execution_count": 109,
   "metadata": {},
   "outputs": [
    {
     "data": {
      "text/plain": [
       "((149903,), (2738,))"
      ]
     },
     "execution_count": 109,
     "metadata": {},
     "output_type": "execute_result"
    }
   ],
   "source": [
    "low_visit_user.shape, upp_visit_user.shape\n"
   ]
  },
  {
   "cell_type": "code",
   "execution_count": 110,
   "metadata": {},
   "outputs": [],
   "source": [
    "off_data_l = off_data[off_data.user_id.isin(low_visit_user)]\n",
    "off_data_u = off_data[off_data.user_id.isin(upp_visit_user)]\n"
   ]
  },
  {
   "cell_type": "code",
   "execution_count": 111,
   "metadata": {},
   "outputs": [
    {
     "data": {
      "text/plain": [
       "((20905040, 14), (1083925, 14), (5002114, 14))"
      ]
     },
     "execution_count": 111,
     "metadata": {},
     "output_type": "execute_result"
    }
   ],
   "source": [
    "off_data.shape, off_data_l.shape, off_data_u.shape\n"
   ]
  },
  {
   "cell_type": "code",
   "execution_count": 112,
   "metadata": {},
   "outputs": [
    {
     "data": {
      "text/plain": [
       "(0.051849936665990595, 0.23927789662205862)"
      ]
     },
     "execution_count": 112,
     "metadata": {},
     "output_type": "execute_result"
    }
   ],
   "source": [
    "1083925/20905040, 5002114/20905040\n"
   ]
  },
  {
   "cell_type": "markdown",
   "metadata": {},
   "source": [
    "신규 유저의 글 소비는 전체의 5%, 단골 유저의 글 소비는 전체의 24%\n"
   ]
  },
  {
   "cell_type": "code",
   "execution_count": 113,
   "metadata": {},
   "outputs": [
    {
     "data": {
      "text/plain": [
       "(7.230842611555473, 13.573547204833003)"
      ]
     },
     "execution_count": 113,
     "metadata": {},
     "output_type": "execute_result"
    }
   ],
   "source": [
    "off_data_l.groupby('user_id')['article_id'].count().mean(), off_data_l.groupby('user_id')['article_id'].count().std(),\n"
   ]
  },
  {
   "cell_type": "code",
   "execution_count": 114,
   "metadata": {},
   "outputs": [
    {
     "data": {
      "text/plain": [
       "(1826.9225712198686, 2758.1071094196936)"
      ]
     },
     "execution_count": 114,
     "metadata": {},
     "output_type": "execute_result"
    }
   ],
   "source": [
    "off_data_u.groupby('user_id')['article_id'].count().mean(), off_data_u.groupby('user_id')['article_id'].count().std()\n"
   ]
  },
  {
   "cell_type": "markdown",
   "metadata": {},
   "source": [
    "- 신규 유저의 평균 글 소비수는 7, 표준편차 14\n",
    "- 단골 유저의 평균 글 소비수는 1827, 표준편차 2758"
   ]
  },
  {
   "cell_type": "markdown",
   "metadata": {},
   "source": [
    "### b. 신규/단골 그룹내 인기 글"
   ]
  },
  {
   "cell_type": "code",
   "execution_count": 115,
   "metadata": {},
   "outputs": [],
   "source": [
    "off_data_l_rk = off_data_l.groupby(['article_id', 'title', 'reg_dt'])['user_id'].count().sort_values(ascending=False)\n",
    "off_data_l_rk = off_data_l_rk.reset_index()\n",
    "off_data_l_rk['rk'] = off_data_l_rk.index + 1"
   ]
  },
  {
   "cell_type": "code",
   "execution_count": 116,
   "metadata": {},
   "outputs": [],
   "source": [
    "off_data_u_rk = off_data_u.groupby(['article_id', 'title', 'reg_dt'])['user_id'].count().sort_values(ascending=False)\n",
    "off_data_u_rk = off_data_u_rk.reset_index()\n",
    "off_data_u_rk['rk'] = off_data_u_rk.index + 1"
   ]
  },
  {
   "cell_type": "code",
   "execution_count": 117,
   "metadata": {},
   "outputs": [
    {
     "data": {
      "text/html": [
       "<div>\n",
       "<style scoped>\n",
       "    .dataframe tbody tr th:only-of-type {\n",
       "        vertical-align: middle;\n",
       "    }\n",
       "\n",
       "    .dataframe tbody tr th {\n",
       "        vertical-align: top;\n",
       "    }\n",
       "\n",
       "    .dataframe thead th {\n",
       "        text-align: right;\n",
       "    }\n",
       "</style>\n",
       "<table border=\"1\" class=\"dataframe\">\n",
       "  <thead>\n",
       "    <tr style=\"text-align: right;\">\n",
       "      <th></th>\n",
       "      <th>article_id</th>\n",
       "      <th>title</th>\n",
       "      <th>reg_dt</th>\n",
       "      <th>user_id</th>\n",
       "      <th>rk</th>\n",
       "    </tr>\n",
       "  </thead>\n",
       "  <tbody>\n",
       "    <tr>\n",
       "      <th>0</th>\n",
       "      <td>@brunch_141</td>\n",
       "      <td>브런치 작가가 함께 빨강머리 앤을 그리고 쓰다.</td>\n",
       "      <td>2018-10-17</td>\n",
       "      <td>13519</td>\n",
       "      <td>1</td>\n",
       "    </tr>\n",
       "    <tr>\n",
       "      <th>1</th>\n",
       "      <td>@brunch_151</td>\n",
       "      <td>브런치 무비 패스, 영화의 진한 여운을 나누세요</td>\n",
       "      <td>2019-02-18</td>\n",
       "      <td>8160</td>\n",
       "      <td>2</td>\n",
       "    </tr>\n",
       "    <tr>\n",
       "      <th>2</th>\n",
       "      <td>@brunch_1</td>\n",
       "      <td>글이 작품이 되는 공간, 브런치</td>\n",
       "      <td>2015-06-12</td>\n",
       "      <td>5282</td>\n",
       "      <td>3</td>\n",
       "    </tr>\n",
       "    <tr>\n",
       "      <th>3</th>\n",
       "      <td>@brunch_140</td>\n",
       "      <td>카카오 크리에이터스 스튜디오에서 브런치 작가를 만나다.</td>\n",
       "      <td>2018-10-04</td>\n",
       "      <td>4343</td>\n",
       "      <td>4</td>\n",
       "    </tr>\n",
       "    <tr>\n",
       "      <th>4</th>\n",
       "      <td>@brunch_2</td>\n",
       "      <td>브런치 작가 신청 안내</td>\n",
       "      <td>2015-06-18</td>\n",
       "      <td>4068</td>\n",
       "      <td>5</td>\n",
       "    </tr>\n",
       "    <tr>\n",
       "      <th>5</th>\n",
       "      <td>@brunch_145</td>\n",
       "      <td>10인의 에디터와 함께 하는, 브런치북 프로젝트 #6</td>\n",
       "      <td>2018-12-12</td>\n",
       "      <td>2897</td>\n",
       "      <td>6</td>\n",
       "    </tr>\n",
       "    <tr>\n",
       "      <th>6</th>\n",
       "      <td>@brunch_133</td>\n",
       "      <td>또 다른 기회의 시작, 브런치와 함께하세요</td>\n",
       "      <td>2018-07-09</td>\n",
       "      <td>2640</td>\n",
       "      <td>7</td>\n",
       "    </tr>\n",
       "    <tr>\n",
       "      <th>7</th>\n",
       "      <td>@kakaomobility_20</td>\n",
       "      <td>음성으로 편리하게</td>\n",
       "      <td>2018-10-17</td>\n",
       "      <td>2458</td>\n",
       "      <td>8</td>\n",
       "    </tr>\n",
       "    <tr>\n",
       "      <th>8</th>\n",
       "      <td>@intlovesong_28</td>\n",
       "      <td>아끼면 똥 되는 것 4가지</td>\n",
       "      <td>2016-11-04</td>\n",
       "      <td>2226</td>\n",
       "      <td>9</td>\n",
       "    </tr>\n",
       "    <tr>\n",
       "      <th>9</th>\n",
       "      <td>@brunch_142</td>\n",
       "      <td>[예고] 브런치북 프로젝트 #6</td>\n",
       "      <td>2018-11-01</td>\n",
       "      <td>2221</td>\n",
       "      <td>10</td>\n",
       "    </tr>\n",
       "  </tbody>\n",
       "</table>\n",
       "</div>"
      ],
      "text/plain": [
       "          article_id                           title     reg_dt  user_id  rk\n",
       "0        @brunch_141      브런치 작가가 함께 빨강머리 앤을 그리고 쓰다. 2018-10-17    13519   1\n",
       "1        @brunch_151      브런치 무비 패스, 영화의 진한 여운을 나누세요 2019-02-18     8160   2\n",
       "2          @brunch_1               글이 작품이 되는 공간, 브런치 2015-06-12     5282   3\n",
       "3        @brunch_140  카카오 크리에이터스 스튜디오에서 브런치 작가를 만나다. 2018-10-04     4343   4\n",
       "4          @brunch_2                    브런치 작가 신청 안내 2015-06-18     4068   5\n",
       "5        @brunch_145   10인의 에디터와 함께 하는, 브런치북 프로젝트 #6 2018-12-12     2897   6\n",
       "6        @brunch_133         또 다른 기회의 시작, 브런치와 함께하세요 2018-07-09     2640   7\n",
       "7  @kakaomobility_20                       음성으로 편리하게 2018-10-17     2458   8\n",
       "8    @intlovesong_28                  아끼면 똥 되는 것 4가지 2016-11-04     2226   9\n",
       "9        @brunch_142               [예고] 브런치북 프로젝트 #6 2018-11-01     2221  10"
      ]
     },
     "execution_count": 117,
     "metadata": {},
     "output_type": "execute_result"
    }
   ],
   "source": [
    "# 신규 독자 소비수 상위 상위 10개 글\n",
    "off_data_l_rk.head(10)"
   ]
  },
  {
   "cell_type": "code",
   "execution_count": 118,
   "metadata": {},
   "outputs": [
    {
     "data": {
      "text/html": [
       "<div>\n",
       "<style scoped>\n",
       "    .dataframe tbody tr th:only-of-type {\n",
       "        vertical-align: middle;\n",
       "    }\n",
       "\n",
       "    .dataframe tbody tr th {\n",
       "        vertical-align: top;\n",
       "    }\n",
       "\n",
       "    .dataframe thead th {\n",
       "        text-align: right;\n",
       "    }\n",
       "</style>\n",
       "<table border=\"1\" class=\"dataframe\">\n",
       "  <thead>\n",
       "    <tr style=\"text-align: right;\">\n",
       "      <th></th>\n",
       "      <th>article_id</th>\n",
       "      <th>title</th>\n",
       "      <th>reg_dt</th>\n",
       "      <th>user_id</th>\n",
       "      <th>rk</th>\n",
       "    </tr>\n",
       "  </thead>\n",
       "  <tbody>\n",
       "    <tr>\n",
       "      <th>0</th>\n",
       "      <td>@brunch_141</td>\n",
       "      <td>브런치 작가가 함께 빨강머리 앤을 그리고 쓰다.</td>\n",
       "      <td>2018-10-17</td>\n",
       "      <td>11636</td>\n",
       "      <td>1</td>\n",
       "    </tr>\n",
       "    <tr>\n",
       "      <th>1</th>\n",
       "      <td>@brunch_151</td>\n",
       "      <td>브런치 무비 패스, 영화의 진한 여운을 나누세요</td>\n",
       "      <td>2019-02-18</td>\n",
       "      <td>6010</td>\n",
       "      <td>2</td>\n",
       "    </tr>\n",
       "    <tr>\n",
       "      <th>2</th>\n",
       "      <td>@brunch_145</td>\n",
       "      <td>10인의 에디터와 함께 하는, 브런치북 프로젝트 #6</td>\n",
       "      <td>2018-12-12</td>\n",
       "      <td>4379</td>\n",
       "      <td>3</td>\n",
       "    </tr>\n",
       "    <tr>\n",
       "      <th>3</th>\n",
       "      <td>@tenbody_1305</td>\n",
       "      <td>러닝머신보다 효과 좋은 체지방 빼는 맨몸 운동 5가지</td>\n",
       "      <td>2018-08-10</td>\n",
       "      <td>3674</td>\n",
       "      <td>4</td>\n",
       "    </tr>\n",
       "    <tr>\n",
       "      <th>4</th>\n",
       "      <td>@hyehyodam_19</td>\n",
       "      <td>나쁜년이 잘 사는 이유...</td>\n",
       "      <td>2018-01-26</td>\n",
       "      <td>2920</td>\n",
       "      <td>5</td>\n",
       "    </tr>\n",
       "    <tr>\n",
       "      <th>5</th>\n",
       "      <td>@sangheeshyn_66</td>\n",
       "      <td>살찌지 않는 여자들</td>\n",
       "      <td>2018-11-13</td>\n",
       "      <td>2866</td>\n",
       "      <td>6</td>\n",
       "    </tr>\n",
       "    <tr>\n",
       "      <th>6</th>\n",
       "      <td>@brunch_142</td>\n",
       "      <td>[예고] 브런치북 프로젝트 #6</td>\n",
       "      <td>2018-11-01</td>\n",
       "      <td>2753</td>\n",
       "      <td>7</td>\n",
       "    </tr>\n",
       "    <tr>\n",
       "      <th>7</th>\n",
       "      <td>@intlovesong_28</td>\n",
       "      <td>아끼면 똥 되는 것 4가지</td>\n",
       "      <td>2016-11-04</td>\n",
       "      <td>2606</td>\n",
       "      <td>8</td>\n",
       "    </tr>\n",
       "    <tr>\n",
       "      <th>8</th>\n",
       "      <td>@x-xv_19</td>\n",
       "      <td>승무원, 들어오려는 자, 나가려는 자</td>\n",
       "      <td>2018-08-05</td>\n",
       "      <td>2603</td>\n",
       "      <td>9</td>\n",
       "    </tr>\n",
       "    <tr>\n",
       "      <th>9</th>\n",
       "      <td>@steven_179</td>\n",
       "      <td>친구 없는 사람의 3가지 특징</td>\n",
       "      <td>2017-09-15</td>\n",
       "      <td>2597</td>\n",
       "      <td>10</td>\n",
       "    </tr>\n",
       "  </tbody>\n",
       "</table>\n",
       "</div>"
      ],
      "text/plain": [
       "        article_id                          title     reg_dt  user_id  rk\n",
       "0      @brunch_141     브런치 작가가 함께 빨강머리 앤을 그리고 쓰다. 2018-10-17    11636   1\n",
       "1      @brunch_151     브런치 무비 패스, 영화의 진한 여운을 나누세요 2019-02-18     6010   2\n",
       "2      @brunch_145  10인의 에디터와 함께 하는, 브런치북 프로젝트 #6 2018-12-12     4379   3\n",
       "3    @tenbody_1305  러닝머신보다 효과 좋은 체지방 빼는 맨몸 운동 5가지 2018-08-10     3674   4\n",
       "4    @hyehyodam_19                나쁜년이 잘 사는 이유... 2018-01-26     2920   5\n",
       "5  @sangheeshyn_66                     살찌지 않는 여자들 2018-11-13     2866   6\n",
       "6      @brunch_142              [예고] 브런치북 프로젝트 #6 2018-11-01     2753   7\n",
       "7  @intlovesong_28                 아끼면 똥 되는 것 4가지 2016-11-04     2606   8\n",
       "8         @x-xv_19           승무원, 들어오려는 자, 나가려는 자 2018-08-05     2603   9\n",
       "9      @steven_179               친구 없는 사람의 3가지 특징 2017-09-15     2597  10"
      ]
     },
     "execution_count": 118,
     "metadata": {},
     "output_type": "execute_result"
    }
   ],
   "source": [
    "# 단골 독자 소비수 상위 상위 10개 글\n",
    "off_data_u_rk.head(10)"
   ]
  },
  {
   "cell_type": "code",
   "execution_count": 119,
   "metadata": {},
   "outputs": [],
   "source": [
    "off_data_lu_rk = pd.merge(off_data_l_rk, off_data_u_rk, how='outer', left_on = 'article_id', right_on='article_id')\n"
   ]
  },
  {
   "cell_type": "code",
   "execution_count": 120,
   "metadata": {},
   "outputs": [],
   "source": [
    "# 신규 독자, 단골 독자 글 순위 합치기. 이때 rk값의 차이를 diff-rk로 함. \n",
    "\n",
    "off_data_lu_rk['diff_rk'] = off_data_lu_rk['rk_x'] - off_data_lu_rk['rk_y']\n"
   ]
  },
  {
   "cell_type": "code",
   "execution_count": 121,
   "metadata": {},
   "outputs": [
    {
     "data": {
      "text/html": [
       "<div>\n",
       "<style scoped>\n",
       "    .dataframe tbody tr th:only-of-type {\n",
       "        vertical-align: middle;\n",
       "    }\n",
       "\n",
       "    .dataframe tbody tr th {\n",
       "        vertical-align: top;\n",
       "    }\n",
       "\n",
       "    .dataframe thead th {\n",
       "        text-align: right;\n",
       "    }\n",
       "</style>\n",
       "<table border=\"1\" class=\"dataframe\">\n",
       "  <thead>\n",
       "    <tr style=\"text-align: right;\">\n",
       "      <th></th>\n",
       "      <th>article_id</th>\n",
       "      <th>title_x</th>\n",
       "      <th>reg_dt_x</th>\n",
       "      <th>user_id_x</th>\n",
       "      <th>rk_x</th>\n",
       "      <th>title_y</th>\n",
       "      <th>reg_dt_y</th>\n",
       "      <th>user_id_y</th>\n",
       "      <th>rk_y</th>\n",
       "      <th>diff_rk</th>\n",
       "    </tr>\n",
       "  </thead>\n",
       "  <tbody>\n",
       "    <tr>\n",
       "      <th>0</th>\n",
       "      <td>@brunch_141</td>\n",
       "      <td>브런치 작가가 함께 빨강머리 앤을 그리고 쓰다.</td>\n",
       "      <td>2018-10-17</td>\n",
       "      <td>13519.0</td>\n",
       "      <td>1.0</td>\n",
       "      <td>브런치 작가가 함께 빨강머리 앤을 그리고 쓰다.</td>\n",
       "      <td>2018-10-17</td>\n",
       "      <td>11636.0</td>\n",
       "      <td>1.0</td>\n",
       "      <td>0.0</td>\n",
       "    </tr>\n",
       "    <tr>\n",
       "      <th>1</th>\n",
       "      <td>@brunch_151</td>\n",
       "      <td>브런치 무비 패스, 영화의 진한 여운을 나누세요</td>\n",
       "      <td>2019-02-18</td>\n",
       "      <td>8160.0</td>\n",
       "      <td>2.0</td>\n",
       "      <td>브런치 무비 패스, 영화의 진한 여운을 나누세요</td>\n",
       "      <td>2019-02-18</td>\n",
       "      <td>6010.0</td>\n",
       "      <td>2.0</td>\n",
       "      <td>0.0</td>\n",
       "    </tr>\n",
       "    <tr>\n",
       "      <th>2</th>\n",
       "      <td>@brunch_1</td>\n",
       "      <td>글이 작품이 되는 공간, 브런치</td>\n",
       "      <td>2015-06-12</td>\n",
       "      <td>5282.0</td>\n",
       "      <td>3.0</td>\n",
       "      <td>글이 작품이 되는 공간, 브런치</td>\n",
       "      <td>2015-06-12</td>\n",
       "      <td>528.0</td>\n",
       "      <td>569.0</td>\n",
       "      <td>-566.0</td>\n",
       "    </tr>\n",
       "    <tr>\n",
       "      <th>3</th>\n",
       "      <td>@brunch_140</td>\n",
       "      <td>카카오 크리에이터스 스튜디오에서 브런치 작가를 만나다.</td>\n",
       "      <td>2018-10-04</td>\n",
       "      <td>4343.0</td>\n",
       "      <td>4.0</td>\n",
       "      <td>카카오 크리에이터스 스튜디오에서 브런치 작가를 만나다.</td>\n",
       "      <td>2018-10-04</td>\n",
       "      <td>1808.0</td>\n",
       "      <td>26.0</td>\n",
       "      <td>-22.0</td>\n",
       "    </tr>\n",
       "    <tr>\n",
       "      <th>4</th>\n",
       "      <td>@brunch_2</td>\n",
       "      <td>브런치 작가 신청 안내</td>\n",
       "      <td>2015-06-18</td>\n",
       "      <td>4068.0</td>\n",
       "      <td>5.0</td>\n",
       "      <td>브런치 작가 신청 안내</td>\n",
       "      <td>2015-06-18</td>\n",
       "      <td>232.0</td>\n",
       "      <td>3216.0</td>\n",
       "      <td>-3211.0</td>\n",
       "    </tr>\n",
       "  </tbody>\n",
       "</table>\n",
       "</div>"
      ],
      "text/plain": [
       "    article_id                         title_x   reg_dt_x  user_id_x  rk_x  \\\n",
       "0  @brunch_141      브런치 작가가 함께 빨강머리 앤을 그리고 쓰다. 2018-10-17    13519.0   1.0   \n",
       "1  @brunch_151      브런치 무비 패스, 영화의 진한 여운을 나누세요 2019-02-18     8160.0   2.0   \n",
       "2    @brunch_1               글이 작품이 되는 공간, 브런치 2015-06-12     5282.0   3.0   \n",
       "3  @brunch_140  카카오 크리에이터스 스튜디오에서 브런치 작가를 만나다. 2018-10-04     4343.0   4.0   \n",
       "4    @brunch_2                    브런치 작가 신청 안내 2015-06-18     4068.0   5.0   \n",
       "\n",
       "                          title_y   reg_dt_y  user_id_y    rk_y  diff_rk  \n",
       "0      브런치 작가가 함께 빨강머리 앤을 그리고 쓰다. 2018-10-17    11636.0     1.0      0.0  \n",
       "1      브런치 무비 패스, 영화의 진한 여운을 나누세요 2019-02-18     6010.0     2.0      0.0  \n",
       "2               글이 작품이 되는 공간, 브런치 2015-06-12      528.0   569.0   -566.0  \n",
       "3  카카오 크리에이터스 스튜디오에서 브런치 작가를 만나다. 2018-10-04     1808.0    26.0    -22.0  \n",
       "4                    브런치 작가 신청 안내 2015-06-18      232.0  3216.0  -3211.0  "
      ]
     },
     "execution_count": 121,
     "metadata": {},
     "output_type": "execute_result"
    }
   ],
   "source": [
    "off_data_lu_rk.head()"
   ]
  },
  {
   "cell_type": "code",
   "execution_count": 122,
   "metadata": {},
   "outputs": [
    {
     "data": {
      "text/html": [
       "<div>\n",
       "<style scoped>\n",
       "    .dataframe tbody tr th:only-of-type {\n",
       "        vertical-align: middle;\n",
       "    }\n",
       "\n",
       "    .dataframe tbody tr th {\n",
       "        vertical-align: top;\n",
       "    }\n",
       "\n",
       "    .dataframe thead th {\n",
       "        text-align: right;\n",
       "    }\n",
       "</style>\n",
       "<table border=\"1\" class=\"dataframe\">\n",
       "  <thead>\n",
       "    <tr style=\"text-align: right;\">\n",
       "      <th></th>\n",
       "      <th>article_id</th>\n",
       "      <th>title_x</th>\n",
       "      <th>reg_dt_x</th>\n",
       "      <th>user_id_x</th>\n",
       "      <th>rk_x</th>\n",
       "      <th>title_y</th>\n",
       "      <th>reg_dt_y</th>\n",
       "      <th>user_id_y</th>\n",
       "      <th>rk_y</th>\n",
       "      <th>diff_rk</th>\n",
       "    </tr>\n",
       "  </thead>\n",
       "  <tbody>\n",
       "    <tr>\n",
       "      <th>7</th>\n",
       "      <td>@kakaomobility_20</td>\n",
       "      <td>음성으로 편리하게</td>\n",
       "      <td>2018-10-17</td>\n",
       "      <td>2458.0</td>\n",
       "      <td>8.0</td>\n",
       "      <td>음성으로 편리하게</td>\n",
       "      <td>2018-10-17</td>\n",
       "      <td>14.0</td>\n",
       "      <td>64179.0</td>\n",
       "      <td>-64171.0</td>\n",
       "    </tr>\n",
       "    <tr>\n",
       "      <th>4</th>\n",
       "      <td>@brunch_2</td>\n",
       "      <td>브런치 작가 신청 안내</td>\n",
       "      <td>2015-06-18</td>\n",
       "      <td>4068.0</td>\n",
       "      <td>5.0</td>\n",
       "      <td>브런치 작가 신청 안내</td>\n",
       "      <td>2015-06-18</td>\n",
       "      <td>232.0</td>\n",
       "      <td>3216.0</td>\n",
       "      <td>-3211.0</td>\n",
       "    </tr>\n",
       "    <tr>\n",
       "      <th>33</th>\n",
       "      <td>@brunch_139</td>\n",
       "      <td>작가님에게 새로운 제안이 도착했습니다</td>\n",
       "      <td>2018-08-08</td>\n",
       "      <td>1047.0</td>\n",
       "      <td>34.0</td>\n",
       "      <td>작가님에게 새로운 제안이 도착했습니다</td>\n",
       "      <td>2018-08-08</td>\n",
       "      <td>474.0</td>\n",
       "      <td>750.0</td>\n",
       "      <td>-716.0</td>\n",
       "    </tr>\n",
       "    <tr>\n",
       "      <th>18</th>\n",
       "      <td>@brunch_152</td>\n",
       "      <td>작가 인터뷰 - 임희정 아나운서의 고백</td>\n",
       "      <td>2019-02-27</td>\n",
       "      <td>1611.0</td>\n",
       "      <td>19.0</td>\n",
       "      <td>작가 인터뷰 - 임희정 아나운서의 고백</td>\n",
       "      <td>2019-02-27</td>\n",
       "      <td>480.0</td>\n",
       "      <td>730.0</td>\n",
       "      <td>-711.0</td>\n",
       "    </tr>\n",
       "    <tr>\n",
       "      <th>2</th>\n",
       "      <td>@brunch_1</td>\n",
       "      <td>글이 작품이 되는 공간, 브런치</td>\n",
       "      <td>2015-06-12</td>\n",
       "      <td>5282.0</td>\n",
       "      <td>3.0</td>\n",
       "      <td>글이 작품이 되는 공간, 브런치</td>\n",
       "      <td>2015-06-12</td>\n",
       "      <td>528.0</td>\n",
       "      <td>569.0</td>\n",
       "      <td>-566.0</td>\n",
       "    </tr>\n",
       "    <tr>\n",
       "      <th>26</th>\n",
       "      <td>@brunch_111</td>\n",
       "      <td>브런치 책방에  작가님의 책을 입고해주세요</td>\n",
       "      <td>2017-09-28</td>\n",
       "      <td>1326.0</td>\n",
       "      <td>27.0</td>\n",
       "      <td>브런치 책방에  작가님의 책을 입고해주세요</td>\n",
       "      <td>2017-09-28</td>\n",
       "      <td>702.0</td>\n",
       "      <td>315.0</td>\n",
       "      <td>-288.0</td>\n",
       "    </tr>\n",
       "    <tr>\n",
       "      <th>35</th>\n",
       "      <td>@jmg5308_163</td>\n",
       "      <td>이효리를 통해 바라본 자존감 높은 사람의 특징</td>\n",
       "      <td>2017-08-04</td>\n",
       "      <td>995.0</td>\n",
       "      <td>36.0</td>\n",
       "      <td>이효리를 통해 바라본 자존감 높은 사람의 특징</td>\n",
       "      <td>2017-08-04</td>\n",
       "      <td>795.0</td>\n",
       "      <td>233.0</td>\n",
       "      <td>-197.0</td>\n",
       "    </tr>\n",
       "    <tr>\n",
       "      <th>38</th>\n",
       "      <td>@dong02_1372</td>\n",
       "      <td>자존감을 높이는 언어습관 3가지 방법</td>\n",
       "      <td>2017-10-11</td>\n",
       "      <td>876.0</td>\n",
       "      <td>39.0</td>\n",
       "      <td>자존감을 높이는 언어습관 3가지 방법</td>\n",
       "      <td>2017-10-11</td>\n",
       "      <td>880.0</td>\n",
       "      <td>185.0</td>\n",
       "      <td>-146.0</td>\n",
       "    </tr>\n",
       "    <tr>\n",
       "      <th>31</th>\n",
       "      <td>@nplusu_49</td>\n",
       "      <td>벨기에의 3가지 보물</td>\n",
       "      <td>2016-11-10</td>\n",
       "      <td>1170.0</td>\n",
       "      <td>32.0</td>\n",
       "      <td>벨기에의 3가지 보물</td>\n",
       "      <td>2016-11-10</td>\n",
       "      <td>900.0</td>\n",
       "      <td>175.0</td>\n",
       "      <td>-143.0</td>\n",
       "    </tr>\n",
       "    <tr>\n",
       "      <th>45</th>\n",
       "      <td>@needleworm_1</td>\n",
       "      <td>크롤러를 이용해 우체국 등기우편을 자동으로 정리해 보자</td>\n",
       "      <td>2018-11-01</td>\n",
       "      <td>796.0</td>\n",
       "      <td>46.0</td>\n",
       "      <td>크롤러를 이용해 우체국 등기우편을 자동으로 정리해 보자</td>\n",
       "      <td>2018-11-01</td>\n",
       "      <td>905.0</td>\n",
       "      <td>173.0</td>\n",
       "      <td>-127.0</td>\n",
       "    </tr>\n",
       "  </tbody>\n",
       "</table>\n",
       "</div>"
      ],
      "text/plain": [
       "           article_id                         title_x   reg_dt_x  user_id_x  \\\n",
       "7   @kakaomobility_20                       음성으로 편리하게 2018-10-17     2458.0   \n",
       "4           @brunch_2                    브런치 작가 신청 안내 2015-06-18     4068.0   \n",
       "33        @brunch_139            작가님에게 새로운 제안이 도착했습니다 2018-08-08     1047.0   \n",
       "18        @brunch_152           작가 인터뷰 - 임희정 아나운서의 고백 2019-02-27     1611.0   \n",
       "2           @brunch_1               글이 작품이 되는 공간, 브런치 2015-06-12     5282.0   \n",
       "26        @brunch_111         브런치 책방에  작가님의 책을 입고해주세요 2017-09-28     1326.0   \n",
       "35       @jmg5308_163       이효리를 통해 바라본 자존감 높은 사람의 특징 2017-08-04      995.0   \n",
       "38       @dong02_1372            자존감을 높이는 언어습관 3가지 방법 2017-10-11      876.0   \n",
       "31         @nplusu_49                     벨기에의 3가지 보물 2016-11-10     1170.0   \n",
       "45      @needleworm_1  크롤러를 이용해 우체국 등기우편을 자동으로 정리해 보자 2018-11-01      796.0   \n",
       "\n",
       "    rk_x                         title_y   reg_dt_y  user_id_y     rk_y  \\\n",
       "7    8.0                       음성으로 편리하게 2018-10-17       14.0  64179.0   \n",
       "4    5.0                    브런치 작가 신청 안내 2015-06-18      232.0   3216.0   \n",
       "33  34.0            작가님에게 새로운 제안이 도착했습니다 2018-08-08      474.0    750.0   \n",
       "18  19.0           작가 인터뷰 - 임희정 아나운서의 고백 2019-02-27      480.0    730.0   \n",
       "2    3.0               글이 작품이 되는 공간, 브런치 2015-06-12      528.0    569.0   \n",
       "26  27.0         브런치 책방에  작가님의 책을 입고해주세요 2017-09-28      702.0    315.0   \n",
       "35  36.0       이효리를 통해 바라본 자존감 높은 사람의 특징 2017-08-04      795.0    233.0   \n",
       "38  39.0            자존감을 높이는 언어습관 3가지 방법 2017-10-11      880.0    185.0   \n",
       "31  32.0                     벨기에의 3가지 보물 2016-11-10      900.0    175.0   \n",
       "45  46.0  크롤러를 이용해 우체국 등기우편을 자동으로 정리해 보자 2018-11-01      905.0    173.0   \n",
       "\n",
       "    diff_rk  \n",
       "7  -64171.0  \n",
       "4   -3211.0  \n",
       "33   -716.0  \n",
       "18   -711.0  \n",
       "2    -566.0  \n",
       "26   -288.0  \n",
       "35   -197.0  \n",
       "38   -146.0  \n",
       "31   -143.0  \n",
       "45   -127.0  "
      ]
     },
     "execution_count": 122,
     "metadata": {},
     "output_type": "execute_result"
    }
   ],
   "source": [
    "# 신규 독자 소비수 상위 50개 글 중 단골 독자의 순위 차가 많이 나는 글 (10개)\n",
    "off_data_lu_rk[off_data_lu_rk.rk_x <= 50].sort_values(by='diff_rk', ascending=True).head(10)\n"
   ]
  },
  {
   "cell_type": "code",
   "execution_count": 123,
   "metadata": {},
   "outputs": [
    {
     "data": {
      "text/html": [
       "<div>\n",
       "<style scoped>\n",
       "    .dataframe tbody tr th:only-of-type {\n",
       "        vertical-align: middle;\n",
       "    }\n",
       "\n",
       "    .dataframe tbody tr th {\n",
       "        vertical-align: top;\n",
       "    }\n",
       "\n",
       "    .dataframe thead th {\n",
       "        text-align: right;\n",
       "    }\n",
       "</style>\n",
       "<table border=\"1\" class=\"dataframe\">\n",
       "  <thead>\n",
       "    <tr style=\"text-align: right;\">\n",
       "      <th></th>\n",
       "      <th>article_id</th>\n",
       "      <th>title_x</th>\n",
       "      <th>reg_dt_x</th>\n",
       "      <th>user_id_x</th>\n",
       "      <th>rk_x</th>\n",
       "      <th>title_y</th>\n",
       "      <th>reg_dt_y</th>\n",
       "      <th>user_id_y</th>\n",
       "      <th>rk_y</th>\n",
       "      <th>diff_rk</th>\n",
       "    </tr>\n",
       "  </thead>\n",
       "  <tbody>\n",
       "    <tr>\n",
       "      <th>753</th>\n",
       "      <td>@doyeonsunim_240</td>\n",
       "      <td>자기 관리의 시작</td>\n",
       "      <td>2018-08-06</td>\n",
       "      <td>117.0</td>\n",
       "      <td>754.0</td>\n",
       "      <td>자기 관리의 시작</td>\n",
       "      <td>2018-08-06</td>\n",
       "      <td>1608.0</td>\n",
       "      <td>37.0</td>\n",
       "      <td>717.0</td>\n",
       "    </tr>\n",
       "    <tr>\n",
       "      <th>504</th>\n",
       "      <td>@boboc_72</td>\n",
       "      <td>여름, 수박을 먹는 계절</td>\n",
       "      <td>2018-08-12</td>\n",
       "      <td>151.0</td>\n",
       "      <td>505.0</td>\n",
       "      <td>여름, 수박을 먹는 계절</td>\n",
       "      <td>2018-08-12</td>\n",
       "      <td>1473.0</td>\n",
       "      <td>49.0</td>\n",
       "      <td>456.0</td>\n",
       "    </tr>\n",
       "    <tr>\n",
       "      <th>434</th>\n",
       "      <td>@kam_33</td>\n",
       "      <td>많이 먹은 다음날 반드시 지켜야 할 3가지 습관</td>\n",
       "      <td>2018-08-09</td>\n",
       "      <td>167.0</td>\n",
       "      <td>435.0</td>\n",
       "      <td>많이 먹은 다음날 반드시 지켜야 할 3가지 습관</td>\n",
       "      <td>2018-08-09</td>\n",
       "      <td>1751.0</td>\n",
       "      <td>29.0</td>\n",
       "      <td>406.0</td>\n",
       "    </tr>\n",
       "    <tr>\n",
       "      <th>261</th>\n",
       "      <td>@jooyoon_51</td>\n",
       "      <td>구질구질한 연애</td>\n",
       "      <td>2018-08-01</td>\n",
       "      <td>227.0</td>\n",
       "      <td>262.0</td>\n",
       "      <td>구질구질한 연애</td>\n",
       "      <td>2018-08-01</td>\n",
       "      <td>1750.0</td>\n",
       "      <td>30.0</td>\n",
       "      <td>232.0</td>\n",
       "    </tr>\n",
       "    <tr>\n",
       "      <th>211</th>\n",
       "      <td>@greenut90_85</td>\n",
       "      <td>크림라떼와 브라우니</td>\n",
       "      <td>2018-08-05</td>\n",
       "      <td>257.0</td>\n",
       "      <td>212.0</td>\n",
       "      <td>크림라떼와 브라우니</td>\n",
       "      <td>2018-08-05</td>\n",
       "      <td>1573.0</td>\n",
       "      <td>41.0</td>\n",
       "      <td>171.0</td>\n",
       "    </tr>\n",
       "    <tr>\n",
       "      <th>199</th>\n",
       "      <td>@roysday_279</td>\n",
       "      <td>혼자서 어찌어찌 하다보니 1억을 넘겼다.</td>\n",
       "      <td>2018-11-03</td>\n",
       "      <td>266.0</td>\n",
       "      <td>200.0</td>\n",
       "      <td>혼자서 어찌어찌 하다보니 1억을 넘겼다.</td>\n",
       "      <td>2018-11-03</td>\n",
       "      <td>1659.0</td>\n",
       "      <td>36.0</td>\n",
       "      <td>164.0</td>\n",
       "    </tr>\n",
       "    <tr>\n",
       "      <th>162</th>\n",
       "      <td>@honeytip_940</td>\n",
       "      <td>뱃살 쏙 들어가게 하는 건강한 먹거리 6가지</td>\n",
       "      <td>2018-08-09</td>\n",
       "      <td>305.0</td>\n",
       "      <td>163.0</td>\n",
       "      <td>뱃살 쏙 들어가게 하는 건강한 먹거리 6가지</td>\n",
       "      <td>2018-08-09</td>\n",
       "      <td>2408.0</td>\n",
       "      <td>12.0</td>\n",
       "      <td>151.0</td>\n",
       "    </tr>\n",
       "    <tr>\n",
       "      <th>136</th>\n",
       "      <td>@tenbody_1297</td>\n",
       "      <td>매일 5분씩 참으면서 살 빼고 근육 늘리는 방법</td>\n",
       "      <td>2018-08-09</td>\n",
       "      <td>346.0</td>\n",
       "      <td>137.0</td>\n",
       "      <td>매일 5분씩 참으면서 살 빼고 근육 늘리는 방법</td>\n",
       "      <td>2018-08-09</td>\n",
       "      <td>2244.0</td>\n",
       "      <td>15.0</td>\n",
       "      <td>122.0</td>\n",
       "    </tr>\n",
       "    <tr>\n",
       "      <th>149</th>\n",
       "      <td>@merryseo_73</td>\n",
       "      <td>행복한가요? 얼마나 벌어요? 불안하진 않나요?</td>\n",
       "      <td>2018-11-22</td>\n",
       "      <td>318.0</td>\n",
       "      <td>150.0</td>\n",
       "      <td>행복한가요? 얼마나 벌어요? 불안하진 않나요?</td>\n",
       "      <td>2018-11-22</td>\n",
       "      <td>1742.0</td>\n",
       "      <td>31.0</td>\n",
       "      <td>119.0</td>\n",
       "    </tr>\n",
       "    <tr>\n",
       "      <th>115</th>\n",
       "      <td>@honeytip_945</td>\n",
       "      <td>물에 오이를 넣어 마시면 생기는 몸의 변화 5가지</td>\n",
       "      <td>2018-08-10</td>\n",
       "      <td>392.0</td>\n",
       "      <td>116.0</td>\n",
       "      <td>물에 오이를 넣어 마시면 생기는 몸의 변화 5가지</td>\n",
       "      <td>2018-08-10</td>\n",
       "      <td>2227.0</td>\n",
       "      <td>16.0</td>\n",
       "      <td>100.0</td>\n",
       "    </tr>\n",
       "  </tbody>\n",
       "</table>\n",
       "</div>"
      ],
      "text/plain": [
       "           article_id                      title_x   reg_dt_x  user_id_x  \\\n",
       "753  @doyeonsunim_240                    자기 관리의 시작 2018-08-06      117.0   \n",
       "504         @boboc_72                여름, 수박을 먹는 계절 2018-08-12      151.0   \n",
       "434           @kam_33   많이 먹은 다음날 반드시 지켜야 할 3가지 습관 2018-08-09      167.0   \n",
       "261       @jooyoon_51                     구질구질한 연애 2018-08-01      227.0   \n",
       "211     @greenut90_85                   크림라떼와 브라우니 2018-08-05      257.0   \n",
       "199      @roysday_279       혼자서 어찌어찌 하다보니 1억을 넘겼다. 2018-11-03      266.0   \n",
       "162     @honeytip_940     뱃살 쏙 들어가게 하는 건강한 먹거리 6가지 2018-08-09      305.0   \n",
       "136     @tenbody_1297   매일 5분씩 참으면서 살 빼고 근육 늘리는 방법 2018-08-09      346.0   \n",
       "149      @merryseo_73    행복한가요? 얼마나 벌어요? 불안하진 않나요? 2018-11-22      318.0   \n",
       "115     @honeytip_945  물에 오이를 넣어 마시면 생기는 몸의 변화 5가지 2018-08-10      392.0   \n",
       "\n",
       "      rk_x                      title_y   reg_dt_y  user_id_y  rk_y  diff_rk  \n",
       "753  754.0                    자기 관리의 시작 2018-08-06     1608.0  37.0    717.0  \n",
       "504  505.0                여름, 수박을 먹는 계절 2018-08-12     1473.0  49.0    456.0  \n",
       "434  435.0   많이 먹은 다음날 반드시 지켜야 할 3가지 습관 2018-08-09     1751.0  29.0    406.0  \n",
       "261  262.0                     구질구질한 연애 2018-08-01     1750.0  30.0    232.0  \n",
       "211  212.0                   크림라떼와 브라우니 2018-08-05     1573.0  41.0    171.0  \n",
       "199  200.0       혼자서 어찌어찌 하다보니 1억을 넘겼다. 2018-11-03     1659.0  36.0    164.0  \n",
       "162  163.0     뱃살 쏙 들어가게 하는 건강한 먹거리 6가지 2018-08-09     2408.0  12.0    151.0  \n",
       "136  137.0   매일 5분씩 참으면서 살 빼고 근육 늘리는 방법 2018-08-09     2244.0  15.0    122.0  \n",
       "149  150.0    행복한가요? 얼마나 벌어요? 불안하진 않나요? 2018-11-22     1742.0  31.0    119.0  \n",
       "115  116.0  물에 오이를 넣어 마시면 생기는 몸의 변화 5가지 2018-08-10     2227.0  16.0    100.0  "
      ]
     },
     "execution_count": 123,
     "metadata": {},
     "output_type": "execute_result"
    }
   ],
   "source": [
    "# 단골 독자 소비수 상위 50개 글 중 신규 독자의 순위 차가 많이 나는 글\n",
    "off_data_lu_rk[off_data_lu_rk.rk_y <= 50].sort_values(by='diff_rk', ascending=False).head(10)\n"
   ]
  },
  {
   "cell_type": "markdown",
   "metadata": {},
   "source": [
    "### c. 검색키워드(keyword_list)가 있는 유저"
   ]
  },
  {
   "cell_type": "code",
   "execution_count": 186,
   "metadata": {},
   "outputs": [
    {
     "data": {
      "text/plain": [
       "310758"
      ]
     },
     "execution_count": 186,
     "metadata": {},
     "output_type": "execute_result"
    }
   ],
   "source": [
    "len(users)"
   ]
  },
  {
   "cell_type": "code",
   "execution_count": 124,
   "metadata": {},
   "outputs": [],
   "source": [
    "# keyword_list가 있는 유저\n",
    "user_with_keyword = users[users['keyword_list'].str.len() !=0 ]"
   ]
  },
  {
   "cell_type": "code",
   "execution_count": 125,
   "metadata": {},
   "outputs": [
    {
     "data": {
      "text/plain": [
       "11544"
      ]
     },
     "execution_count": 125,
     "metadata": {},
     "output_type": "execute_result"
    }
   ],
   "source": [
    "# '검색키워드가 있는 유저', 11,544명\n",
    "len(user_with_keyword)"
   ]
  },
  {
   "cell_type": "code",
   "execution_count": 187,
   "metadata": {},
   "outputs": [
    {
     "data": {
      "text/plain": [
       "299214"
      ]
     },
     "execution_count": 187,
     "metadata": {},
     "output_type": "execute_result"
    }
   ],
   "source": [
    "# '검색키워드가 없는 유저', 299,214명\n",
    "len(users) - len(user_with_keyword)"
   ]
  },
  {
   "cell_type": "code",
   "execution_count": 126,
   "metadata": {},
   "outputs": [
    {
     "data": {
      "text/html": [
       "<div>\n",
       "<style scoped>\n",
       "    .dataframe tbody tr th:only-of-type {\n",
       "        vertical-align: middle;\n",
       "    }\n",
       "\n",
       "    .dataframe tbody tr th {\n",
       "        vertical-align: top;\n",
       "    }\n",
       "\n",
       "    .dataframe thead th {\n",
       "        text-align: right;\n",
       "    }\n",
       "</style>\n",
       "<table border=\"1\" class=\"dataframe\">\n",
       "  <thead>\n",
       "    <tr style=\"text-align: right;\">\n",
       "      <th></th>\n",
       "      <th>keyword_list</th>\n",
       "      <th>following_list</th>\n",
       "      <th>id</th>\n",
       "    </tr>\n",
       "  </thead>\n",
       "  <tbody>\n",
       "    <tr>\n",
       "      <th>6</th>\n",
       "      <td>[{'cnt': 1, 'keyword': '200일 이벤트'}, {'cnt': 2,...</td>\n",
       "      <td>[@gabrieljmh, @megaonic, @cleancode, @simu-loo...</td>\n",
       "      <td>#d07b31cfd62b7097837eee6b8328e077</td>\n",
       "    </tr>\n",
       "    <tr>\n",
       "      <th>18</th>\n",
       "      <td>[{'cnt': 1, 'keyword': '1층 배란다'}, {'cnt': 1, '...</td>\n",
       "      <td>[@seochogirl, @anti-essay, @ggoforit, @tsp, @i...</td>\n",
       "      <td>#db076cc2fdaca59be7d92ba985b9bfa3</td>\n",
       "    </tr>\n",
       "    <tr>\n",
       "      <th>33</th>\n",
       "      <td>[{'cnt': 1, 'keyword': 'j no14'}, {'cnt': 8, '...</td>\n",
       "      <td>[@hotelmarilyn, @ken1224, @songheeinsweden, @a...</td>\n",
       "      <td>#f3dd6bcd7d12d98bfe583c8895ecbf6d</td>\n",
       "    </tr>\n",
       "    <tr>\n",
       "      <th>34</th>\n",
       "      <td>[{'cnt': 1, 'keyword': '강남역 10번출구'}, {'cnt': 1...</td>\n",
       "      <td>[@cloud09, @choihs0228, @lovesay1123, @missing...</td>\n",
       "      <td>#69ee29d86b9bfe846e8c261064c88235</td>\n",
       "    </tr>\n",
       "    <tr>\n",
       "      <th>41</th>\n",
       "      <td>[{'cnt': 1, 'keyword': '복지기본선'}, {'cnt': 2, 'k...</td>\n",
       "      <td>[@tschoe56]</td>\n",
       "      <td>#b13fe4e07bf3e9d27fb35a986481c14d</td>\n",
       "    </tr>\n",
       "  </tbody>\n",
       "</table>\n",
       "</div>"
      ],
      "text/plain": [
       "                                         keyword_list  \\\n",
       "6   [{'cnt': 1, 'keyword': '200일 이벤트'}, {'cnt': 2,...   \n",
       "18  [{'cnt': 1, 'keyword': '1층 배란다'}, {'cnt': 1, '...   \n",
       "33  [{'cnt': 1, 'keyword': 'j no14'}, {'cnt': 8, '...   \n",
       "34  [{'cnt': 1, 'keyword': '강남역 10번출구'}, {'cnt': 1...   \n",
       "41  [{'cnt': 1, 'keyword': '복지기본선'}, {'cnt': 2, 'k...   \n",
       "\n",
       "                                       following_list  \\\n",
       "6   [@gabrieljmh, @megaonic, @cleancode, @simu-loo...   \n",
       "18  [@seochogirl, @anti-essay, @ggoforit, @tsp, @i...   \n",
       "33  [@hotelmarilyn, @ken1224, @songheeinsweden, @a...   \n",
       "34  [@cloud09, @choihs0228, @lovesay1123, @missing...   \n",
       "41                                        [@tschoe56]   \n",
       "\n",
       "                                   id  \n",
       "6   #d07b31cfd62b7097837eee6b8328e077  \n",
       "18  #db076cc2fdaca59be7d92ba985b9bfa3  \n",
       "33  #f3dd6bcd7d12d98bfe583c8895ecbf6d  \n",
       "34  #69ee29d86b9bfe846e8c261064c88235  \n",
       "41  #b13fe4e07bf3e9d27fb35a986481c14d  "
      ]
     },
     "execution_count": 126,
     "metadata": {},
     "output_type": "execute_result"
    }
   ],
   "source": [
    "user_with_keyword.head()"
   ]
  },
  {
   "cell_type": "code",
   "execution_count": 127,
   "metadata": {},
   "outputs": [],
   "source": [
    "# '검색키워드 있는 유저'들의 키워드 저장\n",
    "keyword = []\n",
    "\n",
    "for i in range(len(users[\"keyword_list\"])):\n",
    "    if len(users[\"keyword_list\"][i]) > 0:\n",
    "        keyword.append(users[\"keyword_list\"][i])\n"
   ]
  },
  {
   "cell_type": "code",
   "execution_count": 185,
   "metadata": {},
   "outputs": [
    {
     "data": {
      "text/plain": [
       "11544"
      ]
     },
     "execution_count": 185,
     "metadata": {},
     "output_type": "execute_result"
    }
   ],
   "source": [
    "len(keyword)"
   ]
  },
  {
   "cell_type": "code",
   "execution_count": 194,
   "metadata": {},
   "outputs": [
    {
     "data": {
      "text/plain": [
       "[{'cnt': 1, 'keyword': '버터 케이크'},\n",
       " {'cnt': 2, 'keyword': '버터크림 케이크'},\n",
       " {'cnt': 1, 'keyword': '클램 차우더'}]"
      ]
     },
     "execution_count": 194,
     "metadata": {},
     "output_type": "execute_result"
    }
   ],
   "source": [
    "# 특정 검색유저의 키워드 (이 유저의 경우 72개의 검색키워드)\n",
    "\n",
    "keyword[30]"
   ]
  },
  {
   "cell_type": "code",
   "execution_count": 129,
   "metadata": {},
   "outputs": [],
   "source": [
    "# '검색키워드 있는 유저'들의 검색키워드 수 저장\n",
    "n_keyword = []\n",
    "\n",
    "for i in range(len(keyword)):\n",
    "    n_keyword.append(len(keyword[i]))"
   ]
  },
  {
   "cell_type": "code",
   "execution_count": 193,
   "metadata": {},
   "outputs": [
    {
     "data": {
      "text/plain": [
       "array([72, 57, 21, ...,  3, 61, 16])"
      ]
     },
     "execution_count": 193,
     "metadata": {},
     "output_type": "execute_result"
    }
   ],
   "source": [
    "n_keyword"
   ]
  },
  {
   "cell_type": "code",
   "execution_count": 130,
   "metadata": {},
   "outputs": [
    {
     "data": {
      "text/plain": [
       "40.85524948024948"
      ]
     },
     "execution_count": 130,
     "metadata": {},
     "output_type": "execute_result"
    }
   ],
   "source": [
    "# '검색키워드 있는 유저'들의 검색키워드 수 (평균 40개)\n",
    "n_keyword = np.array(n_keyword)\n",
    "np.mean(n_keyword)"
   ]
  },
  {
   "cell_type": "code",
   "execution_count": 131,
   "metadata": {},
   "outputs": [
    {
     "data": {
      "text/plain": [
       "array([8265, 7398, 5997, ...,    1,    1,    1])"
      ]
     },
     "execution_count": 131,
     "metadata": {},
     "output_type": "execute_result"
    }
   ],
   "source": [
    "# 검색키워드 '있는' 유저들의 검색키워드 수 (1 ~ 8265개)\n",
    "sorted_keyword = np.sort(n_keyword)[::-1]\n",
    "sorted_keyword"
   ]
  },
  {
   "cell_type": "code",
   "execution_count": 132,
   "metadata": {},
   "outputs": [
    {
     "data": {
      "image/png": "[encoded data removed]",
      "text/plain": [
       "<Figure size 1440x720 with 1 Axes>"
      ]
     },
     "metadata": {
      "needs_background": "light"
     },
     "output_type": "display_data"
    }
   ],
   "source": [
    "# 검색키워드 '있는' 유저들의 검색키워드 수 (소수의 유저만 검색키워드가 많음)\n",
    "plt.plot(sorted_keyword)\n",
    "plt.show()"
   ]
  },
  {
   "cell_type": "code",
   "execution_count": 133,
   "metadata": {},
   "outputs": [
    {
     "data": {
      "text/plain": [
       "array([8265, 7398, 5997, ...,   76,   76,   75])"
      ]
     },
     "execution_count": 133,
     "metadata": {},
     "output_type": "execute_result"
    }
   ],
   "source": [
    "# 검색키워드 '있는' 유저들의 검색키워드 수 (검색키워드 수 상위 1%의 유저 1154명은 75~8265개의 키워드를 가짐)\n",
    "sorted_keyword[:int(0.1*len(sorted_keyword))]"
   ]
  },
  {
   "cell_type": "code",
   "execution_count": null,
   "metadata": {},
   "outputs": [],
   "source": []
  },
  {
   "cell_type": "code",
   "execution_count": null,
   "metadata": {},
   "outputs": [],
   "source": []
  },
  {
   "cell_type": "code",
   "execution_count": null,
   "metadata": {},
   "outputs": [],
   "source": []
  },
  {
   "cell_type": "code",
   "execution_count": null,
   "metadata": {},
   "outputs": [],
   "source": []
  },
  {
   "cell_type": "markdown",
   "metadata": {},
   "source": [
    "## 6. Following List\n"
   ]
  },
  {
   "cell_type": "markdown",
   "metadata": {},
   "source": [
    "### a. Following List 통계\n"
   ]
  },
  {
   "cell_type": "code",
   "execution_count": 134,
   "metadata": {},
   "outputs": [],
   "source": [
    "# following_list가 있는 유저\n",
    "following = users[users['following_list'].str.len() !=0 ]"
   ]
  },
  {
   "cell_type": "code",
   "execution_count": 195,
   "metadata": {},
   "outputs": [
    {
     "data": {
      "text/html": [
       "<div>\n",
       "<style scoped>\n",
       "    .dataframe tbody tr th:only-of-type {\n",
       "        vertical-align: middle;\n",
       "    }\n",
       "\n",
       "    .dataframe tbody tr th {\n",
       "        vertical-align: top;\n",
       "    }\n",
       "\n",
       "    .dataframe thead th {\n",
       "        text-align: right;\n",
       "    }\n",
       "</style>\n",
       "<table border=\"1\" class=\"dataframe\">\n",
       "  <thead>\n",
       "    <tr style=\"text-align: right;\">\n",
       "      <th></th>\n",
       "      <th>keyword_list</th>\n",
       "      <th>following_list</th>\n",
       "      <th>id</th>\n",
       "      <th>author_cnt</th>\n",
       "    </tr>\n",
       "  </thead>\n",
       "  <tbody>\n",
       "    <tr>\n",
       "      <th>0</th>\n",
       "      <td>[]</td>\n",
       "      <td>@perytail @brunch</td>\n",
       "      <td>#901985d8bc4c481805c4a4f911814c4a</td>\n",
       "      <td>2</td>\n",
       "    </tr>\n",
       "    <tr>\n",
       "      <th>1</th>\n",
       "      <td>[]</td>\n",
       "      <td>@holidaymemories @wadiz @sciforus @dailydubu @...</td>\n",
       "      <td>#1fd89e9dcfa64b45020d9eaca54e0eed</td>\n",
       "      <td>75</td>\n",
       "    </tr>\n",
       "    <tr>\n",
       "      <th>2</th>\n",
       "      <td>[]</td>\n",
       "      <td>@commerceguy @sunsutu @kakao-it @joohoonjake @...</td>\n",
       "      <td>#1d94baaea71a831e1f33e1c6bd126ed5</td>\n",
       "      <td>5</td>\n",
       "    </tr>\n",
       "    <tr>\n",
       "      <th>3</th>\n",
       "      <td>[]</td>\n",
       "      <td>@amberjeon48 @forsy20 @nemotokki @hawann @bpmb...</td>\n",
       "      <td>#04641c01892b12dc018b1410e4928c0d</td>\n",
       "      <td>84</td>\n",
       "    </tr>\n",
       "    <tr>\n",
       "      <th>4</th>\n",
       "      <td>[]</td>\n",
       "      <td>@dwcha7342 @iammento @kakao-it @dkam @anti-ess...</td>\n",
       "      <td>#65bcaff862aadff877e461f54187ab62</td>\n",
       "      <td>19</td>\n",
       "    </tr>\n",
       "  </tbody>\n",
       "</table>\n",
       "</div>"
      ],
      "text/plain": [
       "  keyword_list                                     following_list  \\\n",
       "0           []                                  @perytail @brunch   \n",
       "1           []  @holidaymemories @wadiz @sciforus @dailydubu @...   \n",
       "2           []  @commerceguy @sunsutu @kakao-it @joohoonjake @...   \n",
       "3           []  @amberjeon48 @forsy20 @nemotokki @hawann @bpmb...   \n",
       "4           []  @dwcha7342 @iammento @kakao-it @dkam @anti-ess...   \n",
       "\n",
       "                                  id  author_cnt  \n",
       "0  #901985d8bc4c481805c4a4f911814c4a           2  \n",
       "1  #1fd89e9dcfa64b45020d9eaca54e0eed          75  \n",
       "2  #1d94baaea71a831e1f33e1c6bd126ed5           5  \n",
       "3  #04641c01892b12dc018b1410e4928c0d          84  \n",
       "4  #65bcaff862aadff877e461f54187ab62          19  "
      ]
     },
     "execution_count": 195,
     "metadata": {},
     "output_type": "execute_result"
    }
   ],
   "source": [
    "following.head()"
   ]
  },
  {
   "cell_type": "code",
   "execution_count": 135,
   "metadata": {},
   "outputs": [
    {
     "data": {
      "text/plain": [
       "303490"
      ]
     },
     "execution_count": 135,
     "metadata": {},
     "output_type": "execute_result"
    }
   ],
   "source": [
    "# '구독하는 작가가 있는 유저' 총 303,490명\n",
    "len(following)"
   ]
  },
  {
   "cell_type": "code",
   "execution_count": 197,
   "metadata": {},
   "outputs": [
    {
     "data": {
      "text/plain": [
       "310758"
      ]
     },
     "execution_count": 197,
     "metadata": {},
     "output_type": "execute_result"
    }
   ],
   "source": [
    "users.shape[0]"
   ]
  },
  {
   "cell_type": "code",
   "execution_count": 136,
   "metadata": {},
   "outputs": [
    {
     "data": {
      "text/plain": [
       "0.9766120260781701"
      ]
     },
     "execution_count": 136,
     "metadata": {},
     "output_type": "execute_result"
    }
   ],
   "source": [
    "following.shape[0] / users.shape[0]\n"
   ]
  },
  {
   "cell_type": "markdown",
   "metadata": {},
   "source": [
    "- 98%의 유저가 follow하는 작가가 있음"
   ]
  },
  {
   "cell_type": "code",
   "execution_count": 137,
   "metadata": {},
   "outputs": [
    {
     "name": "stderr",
     "output_type": "stream",
     "text": [
      "/Users/ohyeji/anaconda3/envs/tf2/lib/python3.6/site-packages/ipykernel_launcher.py:1: SettingWithCopyWarning: \n",
      "A value is trying to be set on a copy of a slice from a DataFrame.\n",
      "Try using .loc[row_indexer,col_indexer] = value instead\n",
      "\n",
      "See the caveats in the documentation: https://pandas.pydata.org/pandas-docs/stable/user_guide/indexing.html#returning-a-view-versus-a-copy\n",
      "  \"\"\"Entry point for launching an IPython kernel.\n"
     ]
    }
   ],
   "source": [
    "following['author_cnt'] = users['following_list'].str.len()\n",
    "\n"
   ]
  },
  {
   "cell_type": "code",
   "execution_count": 138,
   "metadata": {},
   "outputs": [
    {
     "data": {
      "text/html": [
       "<div>\n",
       "<style scoped>\n",
       "    .dataframe tbody tr th:only-of-type {\n",
       "        vertical-align: middle;\n",
       "    }\n",
       "\n",
       "    .dataframe tbody tr th {\n",
       "        vertical-align: top;\n",
       "    }\n",
       "\n",
       "    .dataframe thead th {\n",
       "        text-align: right;\n",
       "    }\n",
       "</style>\n",
       "<table border=\"1\" class=\"dataframe\">\n",
       "  <thead>\n",
       "    <tr style=\"text-align: right;\">\n",
       "      <th></th>\n",
       "      <th>keyword_list</th>\n",
       "      <th>following_list</th>\n",
       "      <th>id</th>\n",
       "      <th>author_cnt</th>\n",
       "    </tr>\n",
       "  </thead>\n",
       "  <tbody>\n",
       "    <tr>\n",
       "      <th>0</th>\n",
       "      <td>[]</td>\n",
       "      <td>[@perytail, @brunch]</td>\n",
       "      <td>#901985d8bc4c481805c4a4f911814c4a</td>\n",
       "      <td>2</td>\n",
       "    </tr>\n",
       "    <tr>\n",
       "      <th>1</th>\n",
       "      <td>[]</td>\n",
       "      <td>[@holidaymemories, @wadiz, @sciforus, @dailydu...</td>\n",
       "      <td>#1fd89e9dcfa64b45020d9eaca54e0eed</td>\n",
       "      <td>75</td>\n",
       "    </tr>\n",
       "    <tr>\n",
       "      <th>2</th>\n",
       "      <td>[]</td>\n",
       "      <td>[@commerceguy, @sunsutu, @kakao-it, @joohoonja...</td>\n",
       "      <td>#1d94baaea71a831e1f33e1c6bd126ed5</td>\n",
       "      <td>5</td>\n",
       "    </tr>\n",
       "    <tr>\n",
       "      <th>3</th>\n",
       "      <td>[]</td>\n",
       "      <td>[@amberjeon48, @forsy20, @nemotokki, @hawann, ...</td>\n",
       "      <td>#04641c01892b12dc018b1410e4928c0d</td>\n",
       "      <td>84</td>\n",
       "    </tr>\n",
       "    <tr>\n",
       "      <th>4</th>\n",
       "      <td>[]</td>\n",
       "      <td>[@dwcha7342, @iammento, @kakao-it, @dkam, @ant...</td>\n",
       "      <td>#65bcaff862aadff877e461f54187ab62</td>\n",
       "      <td>19</td>\n",
       "    </tr>\n",
       "  </tbody>\n",
       "</table>\n",
       "</div>"
      ],
      "text/plain": [
       "  keyword_list                                     following_list  \\\n",
       "0           []                               [@perytail, @brunch]   \n",
       "1           []  [@holidaymemories, @wadiz, @sciforus, @dailydu...   \n",
       "2           []  [@commerceguy, @sunsutu, @kakao-it, @joohoonja...   \n",
       "3           []  [@amberjeon48, @forsy20, @nemotokki, @hawann, ...   \n",
       "4           []  [@dwcha7342, @iammento, @kakao-it, @dkam, @ant...   \n",
       "\n",
       "                                  id  author_cnt  \n",
       "0  #901985d8bc4c481805c4a4f911814c4a           2  \n",
       "1  #1fd89e9dcfa64b45020d9eaca54e0eed          75  \n",
       "2  #1d94baaea71a831e1f33e1c6bd126ed5           5  \n",
       "3  #04641c01892b12dc018b1410e4928c0d          84  \n",
       "4  #65bcaff862aadff877e461f54187ab62          19  "
      ]
     },
     "execution_count": 138,
     "metadata": {},
     "output_type": "execute_result"
    }
   ],
   "source": [
    "following.head()"
   ]
  },
  {
   "cell_type": "code",
   "execution_count": 139,
   "metadata": {},
   "outputs": [
    {
     "data": {
      "text/plain": [
       "8.622620185179084"
      ]
     },
     "execution_count": 139,
     "metadata": {},
     "output_type": "execute_result"
    }
   ],
   "source": [
    "#평균 구독자수 \n",
    "following['author_cnt'].mean()"
   ]
  },
  {
   "cell_type": "markdown",
   "metadata": {},
   "source": [
    "- follow하고 있는 유저는 평균 9명의 작가를 구독 중\n"
   ]
  },
  {
   "cell_type": "code",
   "execution_count": 140,
   "metadata": {},
   "outputs": [
    {
     "name": "stderr",
     "output_type": "stream",
     "text": [
      "/Users/ohyeji/anaconda3/envs/tf2/lib/python3.6/site-packages/ipykernel_launcher.py:1: SettingWithCopyWarning: \n",
      "A value is trying to be set on a copy of a slice from a DataFrame.\n",
      "Try using .loc[row_indexer,col_indexer] = value instead\n",
      "\n",
      "See the caveats in the documentation: https://pandas.pydata.org/pandas-docs/stable/user_guide/indexing.html#returning-a-view-versus-a-copy\n",
      "  \"\"\"Entry point for launching an IPython kernel.\n"
     ]
    }
   ],
   "source": [
    "following['following_list'] = following['following_list'].apply(lambda x: ' '.join(x))\n"
   ]
  },
  {
   "cell_type": "code",
   "execution_count": 141,
   "metadata": {},
   "outputs": [],
   "source": [
    "def chainer(s):\n",
    "    return list(chain.from_iterable(s.str.split(' ')))"
   ]
  },
  {
   "cell_type": "code",
   "execution_count": 142,
   "metadata": {},
   "outputs": [],
   "source": [
    "following_lens = following['following_list'].str.split(' ').map(len)\n"
   ]
  },
  {
   "cell_type": "code",
   "execution_count": 143,
   "metadata": {},
   "outputs": [
    {
     "data": {
      "text/plain": [
       "0          2\n",
       "1         75\n",
       "2          5\n",
       "3         84\n",
       "4         19\n",
       "          ..\n",
       "310752    62\n",
       "310753    41\n",
       "310754    17\n",
       "310755     4\n",
       "310756    20\n",
       "Name: following_list, Length: 303490, dtype: int64"
      ]
     },
     "execution_count": 143,
     "metadata": {},
     "output_type": "execute_result"
    }
   ],
   "source": [
    "following_lens"
   ]
  },
  {
   "cell_type": "code",
   "execution_count": 144,
   "metadata": {},
   "outputs": [],
   "source": [
    "following_raw = pd.DataFrame({'id': np.repeat(following['id'], following_lens),\n",
    "                         'following_list': chainer(following['following_list'])})\n"
   ]
  },
  {
   "cell_type": "code",
   "execution_count": 145,
   "metadata": {},
   "outputs": [
    {
     "data": {
      "text/html": [
       "<div>\n",
       "<style scoped>\n",
       "    .dataframe tbody tr th:only-of-type {\n",
       "        vertical-align: middle;\n",
       "    }\n",
       "\n",
       "    .dataframe tbody tr th {\n",
       "        vertical-align: top;\n",
       "    }\n",
       "\n",
       "    .dataframe thead th {\n",
       "        text-align: right;\n",
       "    }\n",
       "</style>\n",
       "<table border=\"1\" class=\"dataframe\">\n",
       "  <thead>\n",
       "    <tr style=\"text-align: right;\">\n",
       "      <th></th>\n",
       "      <th>id</th>\n",
       "      <th>following_list</th>\n",
       "    </tr>\n",
       "  </thead>\n",
       "  <tbody>\n",
       "    <tr>\n",
       "      <th>0</th>\n",
       "      <td>#901985d8bc4c481805c4a4f911814c4a</td>\n",
       "      <td>@perytail</td>\n",
       "    </tr>\n",
       "    <tr>\n",
       "      <th>0</th>\n",
       "      <td>#901985d8bc4c481805c4a4f911814c4a</td>\n",
       "      <td>@brunch</td>\n",
       "    </tr>\n",
       "    <tr>\n",
       "      <th>1</th>\n",
       "      <td>#1fd89e9dcfa64b45020d9eaca54e0eed</td>\n",
       "      <td>@holidaymemories</td>\n",
       "    </tr>\n",
       "    <tr>\n",
       "      <th>1</th>\n",
       "      <td>#1fd89e9dcfa64b45020d9eaca54e0eed</td>\n",
       "      <td>@wadiz</td>\n",
       "    </tr>\n",
       "    <tr>\n",
       "      <th>1</th>\n",
       "      <td>#1fd89e9dcfa64b45020d9eaca54e0eed</td>\n",
       "      <td>@sciforus</td>\n",
       "    </tr>\n",
       "  </tbody>\n",
       "</table>\n",
       "</div>"
      ],
      "text/plain": [
       "                                  id    following_list\n",
       "0  #901985d8bc4c481805c4a4f911814c4a         @perytail\n",
       "0  #901985d8bc4c481805c4a4f911814c4a           @brunch\n",
       "1  #1fd89e9dcfa64b45020d9eaca54e0eed  @holidaymemories\n",
       "1  #1fd89e9dcfa64b45020d9eaca54e0eed            @wadiz\n",
       "1  #1fd89e9dcfa64b45020d9eaca54e0eed         @sciforus"
      ]
     },
     "execution_count": 145,
     "metadata": {},
     "output_type": "execute_result"
    }
   ],
   "source": [
    "following_raw.head()"
   ]
  },
  {
   "cell_type": "code",
   "execution_count": 146,
   "metadata": {},
   "outputs": [
    {
     "data": {
      "text/plain": [
       "@brunch         292413\n",
       "@dryjshin         9011\n",
       "@tenbody          8615\n",
       "@roysday          8500\n",
       "@yumileewyky      6116\n",
       "@varo             5688\n",
       "@yoonash          5653\n",
       "@imagineer        5483\n",
       "@lunarshore       5414\n",
       "@ebprux           5374\n",
       "@haneulalice      5341\n",
       "@suhanjang        4911\n",
       "@daljasee         4756\n",
       "@mobiinside       4743\n",
       "@sustainlife      4655\n",
       "@bang1999         4577\n",
       "@seochogirl       4441\n",
       "@annejeong        4426\n",
       "@eastgo           4387\n",
       "@hyejinchoi       4305\n",
       "Name: following_list, dtype: int64"
      ]
     },
     "execution_count": 146,
     "metadata": {},
     "output_type": "execute_result"
    }
   ],
   "source": [
    "# 가장 구독하는 유저가 많은 작가 리스트\n",
    "following_raw['following_list'].value_counts(ascending=False)[:20]"
   ]
  },
  {
   "cell_type": "code",
   "execution_count": 147,
   "metadata": {},
   "outputs": [],
   "source": [
    "following_read = pd.merge(off_data, following_raw, how='inner', left_on=['user_id', 'author_id'], right_on=['id', 'following_list'])\n"
   ]
  },
  {
   "cell_type": "code",
   "execution_count": 148,
   "metadata": {},
   "outputs": [
    {
     "data": {
      "text/plain": [
       "0.3485478621423351"
      ]
     },
     "execution_count": 148,
     "metadata": {},
     "output_type": "execute_result"
    }
   ],
   "source": [
    "following_read.shape[0] / off_data.shape[0]\n"
   ]
  },
  {
   "cell_type": "markdown",
   "metadata": {},
   "source": [
    "- 전체 소비 데이터중 구독하고 있는 작가의 글 소비 비중이 35%\n"
   ]
  },
  {
   "cell_type": "code",
   "execution_count": 149,
   "metadata": {},
   "outputs": [
    {
     "data": {
      "text/plain": [
       "array([3528, 3098, 2938, ...,    1,    1,    1])"
      ]
     },
     "execution_count": 149,
     "metadata": {},
     "output_type": "execute_result"
    }
   ],
   "source": [
    "# '구독하는 작가가 있는 유저'들이 구독하는 작가의 수 (1 ~ 3528명)\n",
    "sorted_following = np.sort(following_lens)[::-1]\n",
    "\n",
    "sorted_following"
   ]
  },
  {
   "cell_type": "code",
   "execution_count": 150,
   "metadata": {},
   "outputs": [
    {
     "data": {
      "image/png": "[encoded data removed]",
      "text/plain": [
       "<Figure size 1440x720 with 1 Axes>"
      ]
     },
     "metadata": {
      "needs_background": "light"
     },
     "output_type": "display_data"
    }
   ],
   "source": [
    "# '구독하는 작가가 있는 유저'들이 구독하는 작가의 수 (소수의 유저만 구독 많이함)\n",
    "plt.plot(sorted_following)\n",
    "plt.show()"
   ]
  },
  {
   "cell_type": "code",
   "execution_count": null,
   "metadata": {},
   "outputs": [],
   "source": []
  },
  {
   "cell_type": "markdown",
   "metadata": {},
   "source": [
    "## 7. 메타데이터(metadata) 분석"
   ]
  },
  {
   "cell_type": "code",
   "execution_count": 151,
   "metadata": {},
   "outputs": [],
   "source": [
    "metadata = pd.read_json(directory + 'metadata.json', lines=True)\n"
   ]
  },
  {
   "cell_type": "code",
   "execution_count": 152,
   "metadata": {},
   "outputs": [
    {
     "data": {
      "text/plain": [
       "(643104, 9)"
      ]
     },
     "execution_count": 152,
     "metadata": {},
     "output_type": "execute_result"
    }
   ],
   "source": [
    "metadata.shape\n"
   ]
  },
  {
   "cell_type": "code",
   "execution_count": 153,
   "metadata": {},
   "outputs": [
    {
     "data": {
      "text/html": [
       "<div>\n",
       "<style scoped>\n",
       "    .dataframe tbody tr th:only-of-type {\n",
       "        vertical-align: middle;\n",
       "    }\n",
       "\n",
       "    .dataframe tbody tr th {\n",
       "        vertical-align: top;\n",
       "    }\n",
       "\n",
       "    .dataframe thead th {\n",
       "        text-align: right;\n",
       "    }\n",
       "</style>\n",
       "<table border=\"1\" class=\"dataframe\">\n",
       "  <thead>\n",
       "    <tr style=\"text-align: right;\">\n",
       "      <th></th>\n",
       "      <th>magazine_id</th>\n",
       "      <th>user_id</th>\n",
       "      <th>title</th>\n",
       "      <th>keyword_list</th>\n",
       "      <th>display_url</th>\n",
       "      <th>sub_title</th>\n",
       "      <th>reg_ts</th>\n",
       "      <th>article_id</th>\n",
       "      <th>id</th>\n",
       "    </tr>\n",
       "  </thead>\n",
       "  <tbody>\n",
       "    <tr>\n",
       "      <th>0</th>\n",
       "      <td>8982</td>\n",
       "      <td>@bookdb</td>\n",
       "      <td>사진으로 옮기기에도 아까운, 리치필드 국립공원</td>\n",
       "      <td>[여행, 호주, 국립공원]</td>\n",
       "      <td>https://brunch.co.kr/@bookdb/782</td>\n",
       "      <td>세상 어디에도 없는 호주 Top 10</td>\n",
       "      <td>1474944427000</td>\n",
       "      <td>782</td>\n",
       "      <td>@bookdb_782</td>\n",
       "    </tr>\n",
       "    <tr>\n",
       "      <th>1</th>\n",
       "      <td>12081</td>\n",
       "      <td>@kohwang56</td>\n",
       "      <td>[시] 서러운 봄</td>\n",
       "      <td>[목련꽃, 아지랑이, 동행]</td>\n",
       "      <td>https://brunch.co.kr/@kohwang56/81</td>\n",
       "      <td></td>\n",
       "      <td>1463092749000</td>\n",
       "      <td>81</td>\n",
       "      <td>@kohwang56_81</td>\n",
       "    </tr>\n",
       "    <tr>\n",
       "      <th>2</th>\n",
       "      <td>0</td>\n",
       "      <td>@hannahajink</td>\n",
       "      <td>무엇을 위해</td>\n",
       "      <td>[]</td>\n",
       "      <td>https://brunch.co.kr/@hannahajink/4</td>\n",
       "      <td>무엇 때문에</td>\n",
       "      <td>1447997287000</td>\n",
       "      <td>4</td>\n",
       "      <td>@hannahajink_4</td>\n",
       "    </tr>\n",
       "    <tr>\n",
       "      <th>3</th>\n",
       "      <td>16315</td>\n",
       "      <td>@bryceandjuli</td>\n",
       "      <td>싫다</td>\n",
       "      <td>[감정, 마음, 위로]</td>\n",
       "      <td>https://brunch.co.kr/@bryceandjuli/88</td>\n",
       "      <td></td>\n",
       "      <td>1491055161000</td>\n",
       "      <td>88</td>\n",
       "      <td>@bryceandjuli_88</td>\n",
       "    </tr>\n",
       "    <tr>\n",
       "      <th>4</th>\n",
       "      <td>29363</td>\n",
       "      <td>@mijeongpark</td>\n",
       "      <td>Dubliner#7</td>\n",
       "      <td>[유럽여행, 더블린, 아일랜드]</td>\n",
       "      <td>https://brunch.co.kr/@mijeongpark/34</td>\n",
       "      <td>#7. 내 친구의 집은 어디인가</td>\n",
       "      <td>1523292942000</td>\n",
       "      <td>34</td>\n",
       "      <td>@mijeongpark_34</td>\n",
       "    </tr>\n",
       "  </tbody>\n",
       "</table>\n",
       "</div>"
      ],
      "text/plain": [
       "   magazine_id        user_id                      title       keyword_list  \\\n",
       "0         8982        @bookdb  사진으로 옮기기에도 아까운, 리치필드 국립공원     [여행, 호주, 국립공원]   \n",
       "1        12081     @kohwang56                  [시] 서러운 봄    [목련꽃, 아지랑이, 동행]   \n",
       "2            0   @hannahajink                     무엇을 위해                 []   \n",
       "3        16315  @bryceandjuli                         싫다       [감정, 마음, 위로]   \n",
       "4        29363   @mijeongpark                 Dubliner#7  [유럽여행, 더블린, 아일랜드]   \n",
       "\n",
       "                             display_url             sub_title         reg_ts  \\\n",
       "0       https://brunch.co.kr/@bookdb/782  세상 어디에도 없는 호주 Top 10  1474944427000   \n",
       "1     https://brunch.co.kr/@kohwang56/81                        1463092749000   \n",
       "2    https://brunch.co.kr/@hannahajink/4                무엇 때문에  1447997287000   \n",
       "3  https://brunch.co.kr/@bryceandjuli/88                        1491055161000   \n",
       "4   https://brunch.co.kr/@mijeongpark/34     #7. 내 친구의 집은 어디인가  1523292942000   \n",
       "\n",
       "   article_id                id  \n",
       "0         782       @bookdb_782  \n",
       "1          81     @kohwang56_81  \n",
       "2           4    @hannahajink_4  \n",
       "3          88  @bryceandjuli_88  \n",
       "4          34   @mijeongpark_34  "
      ]
     },
     "execution_count": 153,
     "metadata": {},
     "output_type": "execute_result"
    }
   ],
   "source": [
    "metadata.head()\n"
   ]
  },
  {
   "cell_type": "code",
   "execution_count": 154,
   "metadata": {},
   "outputs": [
    {
     "data": {
      "text/plain": [
       "0            [여행, 호주, 국립공원]\n",
       "1           [목련꽃, 아지랑이, 동행]\n",
       "2                        []\n",
       "3              [감정, 마음, 위로]\n",
       "4         [유럽여행, 더블린, 아일랜드]\n",
       "                ...        \n",
       "643099        [3D, UI, 제스처]\n",
       "643100    [독서모임, 경험수집, 글쓰기]\n",
       "643101       [생각, 에세이, 괴로움]\n",
       "643102      [여행, 유럽여행, 리스본]\n",
       "643103        [리스본, 여행, 유럽]\n",
       "Name: keyword_list, Length: 643104, dtype: object"
      ]
     },
     "execution_count": 154,
     "metadata": {},
     "output_type": "execute_result"
    }
   ],
   "source": [
    "# 글의 태그\n",
    "metadata['keyword_list']"
   ]
  },
  {
   "cell_type": "code",
   "execution_count": 155,
   "metadata": {},
   "outputs": [],
   "source": [
    "# 글의 태그의 수 저장\n",
    "n_meta_tag = []\n",
    "\n",
    "for i in range(len(metadata['keyword_list'])):\n",
    "    n_meta_tag.append(len(metadata['keyword_list'][i]))"
   ]
  },
  {
   "cell_type": "code",
   "execution_count": 156,
   "metadata": {},
   "outputs": [
    {
     "data": {
      "text/plain": [
       "array([5, 5, 5, ..., 0, 0, 0])"
      ]
     },
     "execution_count": 156,
     "metadata": {},
     "output_type": "execute_result"
    }
   ],
   "source": [
    "# 글의 태그의 수 (0~5개)\n",
    "n_meta_tag = np.array(n_meta_tag)\n",
    "sorted_meta_tag = np.sort(n_meta_tag)[::-1]\n",
    "sorted_meta_tag"
   ]
  },
  {
   "cell_type": "code",
   "execution_count": 157,
   "metadata": {},
   "outputs": [
    {
     "data": {
      "image/png": "[encoded data removed]",
      "text/plain": [
       "<Figure size 1440x720 with 1 Axes>"
      ]
     },
     "metadata": {
      "needs_background": "light"
     },
     "output_type": "display_data"
    }
   ],
   "source": [
    "# 글의 태그의 수 (대부분 3개)\n",
    "plt.plot(sorted_meta_tag)\n",
    "plt.show()"
   ]
  },
  {
   "cell_type": "code",
   "execution_count": null,
   "metadata": {},
   "outputs": [],
   "source": []
  },
  {
   "cell_type": "code",
   "execution_count": null,
   "metadata": {},
   "outputs": [],
   "source": []
  },
  {
   "cell_type": "code",
   "execution_count": null,
   "metadata": {},
   "outputs": [],
   "source": []
  },
  {
   "cell_type": "code",
   "execution_count": null,
   "metadata": {},
   "outputs": [],
   "source": []
  },
  {
   "cell_type": "code",
   "execution_count": null,
   "metadata": {},
   "outputs": [],
   "source": []
  },
  {
   "cell_type": "code",
   "execution_count": null,
   "metadata": {},
   "outputs": [],
   "source": []
  }
 ],
 "metadata": {
  "kernelspec": {
   "display_name": "tf2",
   "language": "python",
   "name": "tf2"
  },
  "language_info": {
   "codemirror_mode": {
    "name": "ipython",
    "version": 3
   },
   "file_extension": ".py",
   "mimetype": "text/x-python",
   "name": "python",
   "nbconvert_exporter": "python",
   "pygments_lexer": "ipython3",
   "version": "3.6.12"
  }
 },
 "nbformat": 4,
 "nbformat_minor": 4
}
