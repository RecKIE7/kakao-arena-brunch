{
 "cells": [
  {
   "cell_type": "code",
   "execution_count": 29,
   "metadata": {},
   "outputs": [],
   "source": [
    "import os\n",
    "import pandas as pd\n",
    "import json\n",
    "\n",
    "data_path = '../res/'\n",
    "output_path = '../data/'"
   ]
  },
  {
   "cell_type": "code",
   "execution_count": 20,
   "metadata": {},
   "outputs": [
    {
     "name": "stdout",
     "output_type": "stream",
     "text": [
      ".2019010120_2019010121.un~\n"
     ]
    },
    {
     "data": {
      "text/html": [
       "<div>\n",
       "<style scoped>\n",
       "    .dataframe tbody tr th:only-of-type {\n",
       "        vertical-align: middle;\n",
       "    }\n",
       "\n",
       "    .dataframe tbody tr th {\n",
       "        vertical-align: top;\n",
       "    }\n",
       "\n",
       "    .dataframe thead th {\n",
       "        text-align: right;\n",
       "    }\n",
       "</style>\n",
       "<table border=\"1\" class=\"dataframe\">\n",
       "  <thead>\n",
       "    <tr style=\"text-align: right;\">\n",
       "      <th></th>\n",
       "      <th>raw</th>\n",
       "      <th>dt</th>\n",
       "      <th>hr</th>\n",
       "      <th>user_id</th>\n",
       "      <th>article_id</th>\n",
       "    </tr>\n",
       "  </thead>\n",
       "  <tbody>\n",
       "    <tr>\n",
       "      <th>0</th>\n",
       "      <td>#e208be4ffea19b1ceb5cea2e3c4dc32c @kty0613_91</td>\n",
       "      <td>20181001</td>\n",
       "      <td>00</td>\n",
       "      <td>#e208be4ffea19b1ceb5cea2e3c4dc32c</td>\n",
       "      <td>@kty0613_91</td>\n",
       "    </tr>\n",
       "    <tr>\n",
       "      <th>1</th>\n",
       "      <td>#0a3d493f3b2318be80f391eaa00bfd1c @miamiyoung_...</td>\n",
       "      <td>20181001</td>\n",
       "      <td>00</td>\n",
       "      <td>#0a3d493f3b2318be80f391eaa00bfd1c</td>\n",
       "      <td>@miamiyoung_31 @banksalad_49 @rlfrjsdn_95 @rea...</td>\n",
       "    </tr>\n",
       "    <tr>\n",
       "      <th>2</th>\n",
       "      <td>#b90d3ee7ed0d7d827aae168e159749f1 @joeunha_4 @...</td>\n",
       "      <td>20181001</td>\n",
       "      <td>00</td>\n",
       "      <td>#b90d3ee7ed0d7d827aae168e159749f1</td>\n",
       "      <td>@joeunha_4 @yoonvi_3</td>\n",
       "    </tr>\n",
       "    <tr>\n",
       "      <th>3</th>\n",
       "      <td>#b8b9d09fe2961fd62edc94912bf75a90 @hyejinchoi_...</td>\n",
       "      <td>20181001</td>\n",
       "      <td>00</td>\n",
       "      <td>#b8b9d09fe2961fd62edc94912bf75a90</td>\n",
       "      <td>@hyejinchoi_122 @hyejinchoi_86 @hyejinchoi_42 ...</td>\n",
       "    </tr>\n",
       "    <tr>\n",
       "      <th>4</th>\n",
       "      <td>#072f742eda9359cdac03ad080193c11d @doyeonsunim...</td>\n",
       "      <td>20181001</td>\n",
       "      <td>00</td>\n",
       "      <td>#072f742eda9359cdac03ad080193c11d</td>\n",
       "      <td>@doyeonsunim_240 @k52524_297 @bule13_33 @kwong...</td>\n",
       "    </tr>\n",
       "  </tbody>\n",
       "</table>\n",
       "</div>"
      ],
      "text/plain": [
       "                                                 raw        dt  hr  \\\n",
       "0     #e208be4ffea19b1ceb5cea2e3c4dc32c @kty0613_91   20181001  00   \n",
       "1  #0a3d493f3b2318be80f391eaa00bfd1c @miamiyoung_...  20181001  00   \n",
       "2  #b90d3ee7ed0d7d827aae168e159749f1 @joeunha_4 @...  20181001  00   \n",
       "3  #b8b9d09fe2961fd62edc94912bf75a90 @hyejinchoi_...  20181001  00   \n",
       "4  #072f742eda9359cdac03ad080193c11d @doyeonsunim...  20181001  00   \n",
       "\n",
       "                             user_id  \\\n",
       "0  #e208be4ffea19b1ceb5cea2e3c4dc32c   \n",
       "1  #0a3d493f3b2318be80f391eaa00bfd1c   \n",
       "2  #b90d3ee7ed0d7d827aae168e159749f1   \n",
       "3  #b8b9d09fe2961fd62edc94912bf75a90   \n",
       "4  #072f742eda9359cdac03ad080193c11d   \n",
       "\n",
       "                                          article_id  \n",
       "0                                        @kty0613_91  \n",
       "1  @miamiyoung_31 @banksalad_49 @rlfrjsdn_95 @rea...  \n",
       "2                               @joeunha_4 @yoonvi_3  \n",
       "3  @hyejinchoi_122 @hyejinchoi_86 @hyejinchoi_42 ...  \n",
       "4  @doyeonsunim_240 @k52524_297 @bule13_33 @kwong...  "
      ]
     },
     "execution_count": 20,
     "metadata": {},
     "output_type": "execute_result"
    }
   ],
   "source": [
    "read_path = data_path + 'read/'\n",
    "\n",
    "read_file_list = os.listdir(read_path)\n",
    "exclude_file_list = ['.2019010120_2019010121.un~']\n",
    "read_df_list = []\n",
    "\n",
    "for f in read_file_list:\n",
    "    file_name = os.path.basename(f)\n",
    "    if file_name in exclude_file_list:\n",
    "        print(file_name)\n",
    "    else:\n",
    "        df_temp = pd.read_csv(read_path+f, header=None, names=['raw'])\n",
    "        df_temp['dt'] = file_name[:8] # 읽은 날짜\n",
    "        df_temp['hr'] = file_name[8:10] # 읽은 시간\n",
    "        df_temp['user_id'] = df_temp['raw'].str.split(' ').str[0] # 유저 id\n",
    "        df_temp['article_id'] = df_temp['raw'].str.split(' ').str[1:].str.join(' ').str.strip() # 해당 유저가 읽은 글 id\n",
    "        read_df_list.append(df_temp)\n",
    "        \n",
    "read = pd.concat(read_df_list)\n",
    "read.head()"
   ]
  },
  {
   "cell_type": "code",
   "execution_count": 21,
   "metadata": {},
   "outputs": [],
   "source": [
    "read = read[read['article_id']!=''] # 무슨 의미?"
   ]
  },
  {
   "cell_type": "code",
   "execution_count": 22,
   "metadata": {},
   "outputs": [
    {
     "data": {
      "text/html": [
       "<div>\n",
       "<style scoped>\n",
       "    .dataframe tbody tr th:only-of-type {\n",
       "        vertical-align: middle;\n",
       "    }\n",
       "\n",
       "    .dataframe tbody tr th {\n",
       "        vertical-align: top;\n",
       "    }\n",
       "\n",
       "    .dataframe thead th {\n",
       "        text-align: right;\n",
       "    }\n",
       "</style>\n",
       "<table border=\"1\" class=\"dataframe\">\n",
       "  <thead>\n",
       "    <tr style=\"text-align: right;\">\n",
       "      <th></th>\n",
       "      <th>raw</th>\n",
       "      <th>dt</th>\n",
       "      <th>hr</th>\n",
       "      <th>user_id</th>\n",
       "      <th>article_id</th>\n",
       "    </tr>\n",
       "  </thead>\n",
       "  <tbody>\n",
       "    <tr>\n",
       "      <th>0</th>\n",
       "      <td>#e208be4ffea19b1ceb5cea2e3c4dc32c @kty0613_91</td>\n",
       "      <td>20181001</td>\n",
       "      <td>00</td>\n",
       "      <td>#e208be4ffea19b1ceb5cea2e3c4dc32c</td>\n",
       "      <td>@kty0613_91</td>\n",
       "    </tr>\n",
       "    <tr>\n",
       "      <th>1</th>\n",
       "      <td>#0a3d493f3b2318be80f391eaa00bfd1c @miamiyoung_...</td>\n",
       "      <td>20181001</td>\n",
       "      <td>00</td>\n",
       "      <td>#0a3d493f3b2318be80f391eaa00bfd1c</td>\n",
       "      <td>@miamiyoung_31 @banksalad_49 @rlfrjsdn_95 @rea...</td>\n",
       "    </tr>\n",
       "    <tr>\n",
       "      <th>2</th>\n",
       "      <td>#b90d3ee7ed0d7d827aae168e159749f1 @joeunha_4 @...</td>\n",
       "      <td>20181001</td>\n",
       "      <td>00</td>\n",
       "      <td>#b90d3ee7ed0d7d827aae168e159749f1</td>\n",
       "      <td>@joeunha_4 @yoonvi_3</td>\n",
       "    </tr>\n",
       "    <tr>\n",
       "      <th>3</th>\n",
       "      <td>#b8b9d09fe2961fd62edc94912bf75a90 @hyejinchoi_...</td>\n",
       "      <td>20181001</td>\n",
       "      <td>00</td>\n",
       "      <td>#b8b9d09fe2961fd62edc94912bf75a90</td>\n",
       "      <td>@hyejinchoi_122 @hyejinchoi_86 @hyejinchoi_42 ...</td>\n",
       "    </tr>\n",
       "    <tr>\n",
       "      <th>4</th>\n",
       "      <td>#072f742eda9359cdac03ad080193c11d @doyeonsunim...</td>\n",
       "      <td>20181001</td>\n",
       "      <td>00</td>\n",
       "      <td>#072f742eda9359cdac03ad080193c11d</td>\n",
       "      <td>@doyeonsunim_240 @k52524_297 @bule13_33 @kwong...</td>\n",
       "    </tr>\n",
       "  </tbody>\n",
       "</table>\n",
       "</div>"
      ],
      "text/plain": [
       "                                                 raw        dt  hr  \\\n",
       "0     #e208be4ffea19b1ceb5cea2e3c4dc32c @kty0613_91   20181001  00   \n",
       "1  #0a3d493f3b2318be80f391eaa00bfd1c @miamiyoung_...  20181001  00   \n",
       "2  #b90d3ee7ed0d7d827aae168e159749f1 @joeunha_4 @...  20181001  00   \n",
       "3  #b8b9d09fe2961fd62edc94912bf75a90 @hyejinchoi_...  20181001  00   \n",
       "4  #072f742eda9359cdac03ad080193c11d @doyeonsunim...  20181001  00   \n",
       "\n",
       "                             user_id  \\\n",
       "0  #e208be4ffea19b1ceb5cea2e3c4dc32c   \n",
       "1  #0a3d493f3b2318be80f391eaa00bfd1c   \n",
       "2  #b90d3ee7ed0d7d827aae168e159749f1   \n",
       "3  #b8b9d09fe2961fd62edc94912bf75a90   \n",
       "4  #072f742eda9359cdac03ad080193c11d   \n",
       "\n",
       "                                          article_id  \n",
       "0                                        @kty0613_91  \n",
       "1  @miamiyoung_31 @banksalad_49 @rlfrjsdn_95 @rea...  \n",
       "2                               @joeunha_4 @yoonvi_3  \n",
       "3  @hyejinchoi_122 @hyejinchoi_86 @hyejinchoi_42 ...  \n",
       "4  @doyeonsunim_240 @k52524_297 @bule13_33 @kwong...  "
      ]
     },
     "execution_count": 22,
     "metadata": {},
     "output_type": "execute_result"
    }
   ],
   "source": [
    "read.head() "
   ]
  },
  {
   "cell_type": "code",
   "execution_count": 25,
   "metadata": {},
   "outputs": [],
   "source": [
    "read.to_csv(output_path + 'read.csv', index=False)"
   ]
  },
  {
   "cell_type": "code",
   "execution_count": 30,
   "metadata": {},
   "outputs": [],
   "source": [
    "predict_path = data_path + \"predict/\"\n",
    "dev = pd.read_csv(predict_path+'dev.users', names=['id'])\n",
    "test = pd.read_csv(predict_path+'test.users', names=['id'])"
   ]
  },
  {
   "cell_type": "code",
   "execution_count": 31,
   "metadata": {},
   "outputs": [],
   "source": [
    "dev.to_csv(output_path + 'dev.csv', index=False)\n",
    "test.to_csv(output_path + 'test.csv', index=False)"
   ]
  },
  {
   "cell_type": "code",
   "execution_count": null,
   "metadata": {},
   "outputs": [],
   "source": []
  }
 ],
 "metadata": {
  "kernelspec": {
   "display_name": "Python 3",
   "language": "python",
   "name": "python3"
  },
  "language_info": {
   "codemirror_mode": {
    "name": "ipython",
    "version": 3
   },
   "file_extension": ".py",
   "mimetype": "text/x-python",
   "name": "python",
   "nbconvert_exporter": "python",
   "pygments_lexer": "ipython3",
   "version": "3.7.4"
  }
 },
 "nbformat": 4,
 "nbformat_minor": 4
}
